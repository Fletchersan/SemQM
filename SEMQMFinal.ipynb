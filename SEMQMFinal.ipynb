{
  "nbformat": 4,
  "nbformat_minor": 0,
  "metadata": {
    "colab": {
      "name": "SEMQMFinal.ipynb",
      "provenance": [],
      "collapsed_sections": [
        "z3zEcLig3Y9-",
        "rhlYKiiJ6XGk",
        "uHVlKolHF4Px",
        "1LNfEpELESaD",
        "drTtWazpne87",
        "f699Cy4gnqFz"
      ]
    },
    "kernelspec": {
      "name": "python3",
      "display_name": "Python 3"
    },
    "accelerator": "GPU"
  },
  "cells": [
    {
      "cell_type": "markdown",
      "metadata": {
        "id": "3vYMNvlgm27i"
      },
      "source": [
        "Please keep in mind that both the training and testing datasets are very large.\n",
        "\n",
        "Running any model takes over an hour.\n",
        "\n",
        "So run the models only if you have the time.\n"
      ]
    },
    {
      "cell_type": "code",
      "metadata": {
        "id": "2Fqalp3aWjkI",
        "colab": {
          "base_uri": "https://localhost:8080/"
        },
        "outputId": "88e9a4f6-d18a-4537-b6e7-ea1395a120ba"
      },
      "source": [
        "from google.colab import drive\n",
        "drive.mount('/content/drive')"
      ],
      "execution_count": null,
      "outputs": [
        {
          "output_type": "stream",
          "text": [
            "Mounted at /content/drive\n"
          ],
          "name": "stdout"
        }
      ]
    },
    {
      "cell_type": "markdown",
      "metadata": {
        "id": "z3zEcLig3Y9-"
      },
      "source": [
        "Imports\n",
        "==="
      ]
    },
    {
      "cell_type": "code",
      "metadata": {
        "id": "_3RnJRAc3Gy7",
        "colab": {
          "base_uri": "https://localhost:8080/"
        },
        "outputId": "38207e17-19e2-4088-b1cc-545db74e404c"
      },
      "source": [
        "import pandas as pd\n",
        "import numpy as np\n",
        "from tqdm import tqdm\n",
        "from keras.models import Sequential\n",
        "from keras.layers.core import Dense, Activation, Dropout\n",
        "from keras.layers.embeddings import Embedding\n",
        "from keras.layers.recurrent import LSTM, GRU\n",
        "from keras.layers.normalization import BatchNormalization\n",
        "from keras.utils import np_utils, plot_model\n",
        "# from keras.engine.topology import Merge\n",
        "# from keras.layers import Concatenate\n",
        "from keras.layers.merge import concatenate\n",
        "from keras.layers import TimeDistributed, Lambda\n",
        "from keras.layers import Convolution1D, GlobalMaxPooling1D, Conv1D, GlobalAveragePooling1D\n",
        "from keras.callbacks import ModelCheckpoint, EarlyStopping\n",
        "from keras import backend as K\n",
        "from keras.layers.advanced_activations import PReLU\n",
        "from keras.preprocessing import sequence, text\n",
        "from keras import Model\n",
        "from keras.layers import Dense, Input, LSTM, Embedding\n",
        "import _pickle\n",
        "!pip install fuzzywuzzy\n",
        "import nltk\n",
        "nltk.download('stopwords')\n",
        "nltk.download('punkt')\n",
        "from nltk.corpus import stopwords\n",
        "from fuzzywuzzy import fuzz\n",
        "from tqdm import tqdm\n",
        "from scipy.stats import skew, kurtosis\n",
        "from scipy.spatial.distance import cosine, cityblock, jaccard, canberra, euclidean, minkowski, braycurtis\n",
        "from nltk import word_tokenize"
      ],
      "execution_count": null,
      "outputs": [
        {
          "output_type": "stream",
          "text": [
            "Requirement already satisfied: fuzzywuzzy in /usr/local/lib/python3.6/dist-packages (0.18.0)\n",
            "[nltk_data] Downloading package stopwords to /root/nltk_data...\n",
            "[nltk_data]   Package stopwords is already up-to-date!\n",
            "[nltk_data] Downloading package punkt to /root/nltk_data...\n",
            "[nltk_data]   Package punkt is already up-to-date!\n"
          ],
          "name": "stdout"
        },
        {
          "output_type": "stream",
          "text": [
            "/usr/local/lib/python3.6/dist-packages/fuzzywuzzy/fuzz.py:11: UserWarning: Using slow pure-python SequenceMatcher. Install python-Levenshtein to remove this warning\n",
            "  warnings.warn('Using slow pure-python SequenceMatcher. Install python-Levenshtein to remove this warning')\n"
          ],
          "name": "stderr"
        }
      ]
    },
    {
      "cell_type": "markdown",
      "metadata": {
        "id": "y60m3m-q3k8i"
      },
      "source": [
        "Paths\n",
        "==="
      ]
    },
    {
      "cell_type": "code",
      "metadata": {
        "id": "690vK_E33nCL"
      },
      "source": [
        "cnnModelPreds = \"/content/drive/My Drive/MLPW/CNNmainpreds.csv\"\n",
        "gloveEmbdeddingMatrixPath =\"/content/drive/My Drive/MLPW/glove_embeddings.pkl\"\n",
        "trainDatasetPath = \"/content/drive/My Drive/MLPW/mostly_processed.csv\"\n",
        "logisticRegressionPath = '/content/drive/My Drive/MLPW/logisticPreds.csv'\n",
        "googleNewsVectorsHostedPath = 'https://s3.amazonaws.com/dl4j-distribution/GoogleNews-vectors-negative300.bin.gz'\n",
        "convModelWeights = '/content/drive/My Drive/MLPW/weightsConv.h5'\n",
        "testDatasetPath = '/content/drive/My Drive/MLPW/test.csv'\n",
        "testProcessedPath = '/content/drive/My Drive/MLPW/test_processed.csv'\n",
        "lstmconvdistWeights = '/content/drive/My Drive/MLPW/lstmconvdistWeights.h5'\n",
        "lstmconvdistPreds = '/content/drive/My Drive/MLPW/lstmconvdistpreds.csv'\n",
        "lstmconvdistnostopwordsWeights = '/content/drive/My Drive/MLPW/lstmconvdistnostopwordsWeights.h5'\n",
        "lstmconvdistnostopwordsPreds = '/content/drive/My Drive/MLPW/lstmconvdistpredsnostopwords.csv'\n"
      ],
      "execution_count": null,
      "outputs": []
    },
    {
      "cell_type": "markdown",
      "metadata": {
        "id": "WcsfGfaQ-uX9"
      },
      "source": [
        "Dataset\n",
        "==="
      ]
    },
    {
      "cell_type": "code",
      "metadata": {
        "id": "mesxHZE3-zlW"
      },
      "source": [
        "data = pd.read_csv(trainDatasetPath, encoding='utf8',index_col = 0)\n",
        "embedding_matrix = _pickle.load(open(gloveEmbdeddingMatrixPath,'rb'))\n",
        "y = data[\"is_duplicate\"].values\n",
        "ytrain_enc = np_utils.to_categorical(y)\n",
        "y_train = np.asarray(ytrain_enc).astype('float32').reshape((-1,1))\n",
        "distance_columns = ['fuzz_qratio', 'fuzz_WRatio', 'fuzz_partial_ratio',\n",
        "       'fuzz_partial_token_set_ratio', 'fuzz_partial_token_sort_ratio',\n",
        "       'fuzz_token_set_ratio', 'fuzz_token_sort_ratio', 'wmd', 'norm_wmd',\n",
        "       'cosine_distance', 'cityblock_distance', 'jaccard_distance',\n",
        "       'canberra_distance', 'euclidean_distance', 'minkowski_distance',\n",
        "       'braycurtis_distance', 'skew_q1vec', 'skew_q2vec', 'kur_q1vec',\n",
        "       'kur_q2vec']"
      ],
      "execution_count": null,
      "outputs": []
    },
    {
      "cell_type": "markdown",
      "metadata": {
        "id": "x7zJTFqxK8_o"
      },
      "source": [
        "# Logisitc + PCA"
      ]
    },
    {
      "cell_type": "code",
      "metadata": {
        "id": "s6iCRD1_LANK"
      },
      "source": [
        "  ### PCA from scratch\n",
        "\n",
        "from scipy.stats import norm\n",
        "from sklearn.preprocessing import StandardScaler\n",
        "import numpy as np\n",
        "def scaler(matrix):\n",
        "    #work on each row of the matrix\n",
        "    scaler = StandardScaler()\n",
        "    scaler.fit(matrix)\n",
        "    scaled_matrix = scaler.transform(matrix)\n",
        "    return scaled_matrix\n",
        "        \n",
        "def PCA(matrix,n):\n",
        "    '''\n",
        "    takes in numpy matrix and returns the reduced version of it to n dimensions\n",
        "    n should be less than the original number of columns\n",
        "    '''\n",
        "    # scale the data\n",
        "    scaled_matrix = scaler(matrix)\n",
        "    # take the covariance of the scaled_matrix\n",
        "    cov_matrix = scaled_matrix.T.dot(scaled_matrix)\n",
        "    # get the eigen vectors and the eigen values\n",
        "    eigen_vals, eigen_vecs = np.linalg.eig(cov_matrix)\n",
        "    # sort eigenvalue in increasing order (get the indices from the sort)\n",
        "    idx_sorted = np.argsort(eigen_vals)\n",
        "\n",
        "    # reverse the order so that it's from highest to lowest.\n",
        "    idx_sorted_decreasing = np.flip(idx_sorted)\n",
        "\n",
        "    # sort the eigen values by idx_sorted_decreasing\n",
        "    eigen_vals_sorted = eigen_vals[idx_sorted_decreasing]\n",
        "\n",
        "    # sort eigenvectors using the idx_sorted_decreasing indices\n",
        "    eigen_vecs_sorted = eigen_vecs[:,idx_sorted_decreasing]\n",
        "\n",
        "    # select the first n eigenvectors (n is desired dimension\n",
        "    # of rescaled data array, or dims_rescaled_data)\n",
        "    eigen_vecs_subset = eigen_vecs_sorted[:,:2]\n",
        "\n",
        "    # transform the data by multiplying the transpose of the eigenvectors \n",
        "    # with the transpose of the de-meaned data\n",
        "    # Then take the transpose of that product.\n",
        "    X_reduced = np.dot(eigen_vecs_subset.T,scaled_matrix.T).T\n",
        "    return X_reduced\n",
        "\n",
        "from numpy import log, dot, e\n",
        "from numpy.random import rand\n",
        "\n",
        "class LogisticRegression:\n",
        "    def __init__(self):\n",
        "      self.weights = None\n",
        "      self.loss = None\n",
        "    def sigmoid(self, z): \n",
        "      return 1 / (1 + e**(-z))\n",
        "\n",
        "    def cost_function(self, X, y, weights):                 \n",
        "      z = dot(X, weights)\n",
        "      predict_1 = y * log(self.sigmoid(z))\n",
        "      predict_0 = (1 - y) * log(1 - self.sigmoid(z))\n",
        "      return -sum(predict_1 + predict_0) / len(X)\n",
        "\n",
        "    def fit(self, X, y, epochs=25, lr=0.05):        \n",
        "      loss = []\n",
        "      weights = rand(X.shape[1])\n",
        "      N = len(X)\n",
        "                \n",
        "      for _ in range(epochs):        \n",
        "        # Gradient Descent\n",
        "        y_hat = self.sigmoid(dot(X, weights))\n",
        "        weights -= lr * dot(X.T,  y_hat - y) / N            \n",
        "        # Saving Progress\n",
        "        loss.append(self.cost_function(X, y, weights)) \n",
        "          \n",
        "      self.weights = weights\n",
        "      self.loss = loss\n",
        "\n",
        "    def predict(self, X):        \n",
        "      # Predicting with sigmoid function\n",
        "      z = dot(X, self.weights)\n",
        "      # Returning binary result\n",
        "      return [1 if i > 0.5 else 0 for i in self.sigmoid(z)]\n",
        "\n",
        "  stop_words = stopwords.words('english')\n",
        "\n",
        "  def sent2vec(s):\n",
        "    words = str(s).lower()\n",
        "    words = word_tokenize(words)\n",
        "    words = [w for w in words if not w in stop_words]\n",
        "    words = [w for w in words if w.isalpha()]\n",
        "    M = []\n",
        "    for w in words:\n",
        "      try:\n",
        "        M.append(model[w])\n",
        "      except:\n",
        "        continue\n",
        "    M = np.array(M)\n",
        "    v = M.sum(axis=0)\n",
        "    return v / np.sqrt((v ** 2).sum())\n",
        "safe = ['len_q1', 'len_q2', 'diff_len', 'len_char_q1', 'len_char_q2',\n",
        "       'len_word_q1', 'len_word_q2', 'common_words', 'fuzz_qratio',\n",
        "       'fuzz_WRatio', 'fuzz_partial_ratio', 'fuzz_partial_token_set_ratio',\n",
        "       'fuzz_partial_token_sort_ratio', 'fuzz_token_set_ratio',\n",
        "       'fuzz_token_sort_ratio', 'cityblock_distance', 'jaccard_distance',\n",
        "       'canberra_distance', 'euclidean_distance', 'minkowski_distance',\n",
        "       'skew_q1vec', 'skew_q2vec', 'kur_q1vec', 'kur_q2vec']\n",
        "\n",
        "def batch_pred_logistic(data):\n",
        "    data['len_q1'] = data.question1.apply(lambda x: len(str(x)))\n",
        "    data['len_q2'] = data.question2.apply(lambda x: len(str(x)))\n",
        "    data['diff_len'] = data.len_q1 - data.len_q2\n",
        "    data['len_char_q1'] = data.question1.apply(lambda x: len(''.join(set(str(x).replace(' ', '')))))\n",
        "    data['len_char_q2'] = data.question2.apply(lambda x: len(''.join(set(str(x).replace(' ', '')))))\n",
        "    data['len_word_q1'] = data.question1.apply(lambda x: len(str(x).split()))\n",
        "    data['len_word_q2'] = data.question2.apply(lambda x: len(str(x).split()))\n",
        "    data['common_words'] = data.apply(lambda x: len(set(str(x['question1']).lower().split()).intersection(set(str(x['question2']).lower().split()))), axis=1)\n",
        "    data['fuzz_qratio'] = data.apply(lambda x: fuzz.QRatio(str(x['question1']), str(x['question2'])), axis=1)\n",
        "    data['fuzz_WRatio'] = data.apply(lambda x: fuzz.WRatio(str(x['question1']), str(x['question2'])), axis=1)\n",
        "    data['fuzz_partial_ratio'] = data.apply(lambda x: fuzz.partial_ratio(str(x['question1']), str(x['question2'])), axis=1)\n",
        "    data['fuzz_partial_token_set_ratio'] = data.apply(lambda x: fuzz.partial_token_set_ratio(str(x['question1']), str(x['question2'])), axis=1)\n",
        "    data['fuzz_partial_token_sort_ratio'] = data.apply(lambda x: fuzz.partial_token_sort_ratio(str(x['question1']), str(x['question2'])), axis=1)\n",
        "    data['fuzz_token_set_ratio'] = data.apply(lambda x: fuzz.token_set_ratio(str(x['question1']), str(x['question2'])), axis=1)\n",
        "    data['fuzz_token_sort_ratio'] = data.apply(lambda x: fuzz.token_sort_ratio(str(x['question1']), str(x['question2'])), axis=1)\n",
        "    question1_vectors = np.zeros((data.shape[0], 300))\n",
        "    for i, q in tqdm(enumerate(data.question1.values)):\n",
        "        question1_vectors[i, :] = sent2vec(q)\n",
        "    question2_vectors  = np.zeros((data.shape[0], 300))\n",
        "    for i, q in tqdm(enumerate(data.question2.values)):\n",
        "        question2_vectors[i, :] = sent2vec(q)\n",
        "    data['cityblock_distance'] = [cityblock(x, y) for (x, y) in zip(np.nan_to_num(question1_vectors),\n",
        "                                                          np.nan_to_num(question2_vectors))]\n",
        "    data['jaccard_distance'] = [jaccard(x, y) for (x, y) in zip(np.nan_to_num(question1_vectors),\n",
        "                                                              np.nan_to_num(question2_vectors))]\n",
        "    data['canberra_distance'] = [canberra(x, y) for (x, y) in zip(np.nan_to_num(question1_vectors),\n",
        "                                                              np.nan_to_num(question2_vectors))]\n",
        "    data['euclidean_distance'] = [euclidean(x, y) for (x, y) in zip(np.nan_to_num(question1_vectors),\n",
        "                                                              np.nan_to_num(question2_vectors))]\n",
        "    data['minkowski_distance'] = [minkowski(x, y, 3) for (x, y) in zip(np.nan_to_num(question1_vectors),\n",
        "                                                              np.nan_to_num(question2_vectors))]\n",
        "    data['skew_q1vec'] = [skew(x) for x in np.nan_to_num(question1_vectors)]\n",
        "    data['skew_q2vec'] = [skew(x) for x in np.nan_to_num(question2_vectors)]\n",
        "    data['kur_q1vec'] = [kurtosis(x) for x in np.nan_to_num(question1_vectors)]\n",
        "    data['kur_q2vec'] = [kurtosis(x) for x in np.nan_to_num(question2_vectors)]\n",
        "    matrix = PCA(data[safe].to_numpy(),2)\n",
        "    df = pd.DataFrame()\n",
        "    df['test_id'] = data['test_id']\n",
        "    df['is_duplicate'] = model.predict(matrix)\n",
        "    return df\n"
      ],
      "execution_count": null,
      "outputs": []
    },
    {
      "cell_type": "code",
      "metadata": {
        "id": "xfZA_FNsaBLq",
        "colab": {
          "base_uri": "https://localhost:8080/"
        },
        "outputId": "a3bc8a1b-5c9e-493f-db9e-885c2ed44672"
      },
      "source": [
        "matrix = PCA(data[safe].to_numpy(dtype = float),2)\n",
        "df_pcad = pd.DataFrame()\n",
        "df_pcad['pca1'] = matrix[:,0]\n",
        "df_pcad['pca2'] = matrix[:,1]\n",
        "df_pcad['is_duplicate'] = data['is_duplicate']\n",
        "\n",
        "model = LogisticRegression()\n",
        "model.fit(matrix, df_pcad['is_duplicate'].to_numpy(), epochs = 1000)\n",
        "import time\n",
        "submission = pd.DataFrame(columns = ['test_id','is_duplicate'])\n",
        "test_iterator = pd.read_csv(testDatasetPath, chunksize = 5000)\n",
        "i = 0\n",
        "global_start_time = time.time()\n",
        "time_per_chunk = []\n",
        "for chunk in test_iterator:\n",
        "    # print(type(chunk))\n",
        "    i = i+1\n",
        "    loop_start_time = time.time()\n",
        "    dfapp = batch_pred_logistic(chunk)\n",
        "    loop_time = (time.time() - loop_start_time)\n",
        "    time_per_chunk.append(loop_time)\n",
        "    print(\"chunk \",i,\" execution_time \",loop_time)\n",
        "    submission = submission.append(dfapp)\n",
        "global_train_time = time.time() - global_start_time \n",
        "print(\"total train time \", global_train_time)\n",
        "# submission.to_csv(logisticPredictionPath)"
      ],
      "execution_count": null,
      "outputs": [
        {
          "output_type": "stream",
          "text": [
            "0it [00:00, ?it/s]/usr/local/lib/python3.6/dist-packages/ipykernel_launcher.py:98: RuntimeWarning: invalid value encountered in double_scalars\n",
            "5000it [00:00, 6535.81it/s]\n",
            "5000it [00:00, 6244.76it/s]\n"
          ],
          "name": "stderr"
        },
        {
          "output_type": "stream",
          "text": [
            "chunk  1  execution_time  46.2850124835968\n"
          ],
          "name": "stdout"
        },
        {
          "output_type": "stream",
          "text": [
            "0it [00:00, ?it/s]/usr/local/lib/python3.6/dist-packages/ipykernel_launcher.py:98: RuntimeWarning: invalid value encountered in double_scalars\n",
            "5000it [00:00, 6751.52it/s]\n",
            "5000it [00:00, 6705.63it/s]\n"
          ],
          "name": "stderr"
        },
        {
          "output_type": "stream",
          "text": [
            "chunk  2  execution_time  45.269978523254395\n"
          ],
          "name": "stdout"
        },
        {
          "output_type": "stream",
          "text": [
            "0it [00:00, ?it/s]/usr/local/lib/python3.6/dist-packages/ipykernel_launcher.py:98: RuntimeWarning: invalid value encountered in double_scalars\n",
            "5000it [00:00, 6665.14it/s]\n",
            "5000it [00:00, 6737.05it/s]\n"
          ],
          "name": "stderr"
        },
        {
          "output_type": "stream",
          "text": [
            "chunk  3  execution_time  45.12807559967041\n"
          ],
          "name": "stdout"
        },
        {
          "output_type": "stream",
          "text": [
            "0it [00:00, ?it/s]/usr/local/lib/python3.6/dist-packages/ipykernel_launcher.py:98: RuntimeWarning: invalid value encountered in double_scalars\n",
            "5000it [00:00, 6584.54it/s]\n",
            "5000it [00:00, 6365.93it/s]\n"
          ],
          "name": "stderr"
        },
        {
          "output_type": "stream",
          "text": [
            "chunk  4  execution_time  46.96396088600159\n"
          ],
          "name": "stdout"
        },
        {
          "output_type": "stream",
          "text": [
            "0it [00:00, ?it/s]/usr/local/lib/python3.6/dist-packages/ipykernel_launcher.py:98: RuntimeWarning: invalid value encountered in double_scalars\n",
            "5000it [00:00, 6672.33it/s]\n",
            "5000it [00:00, 6402.58it/s]\n"
          ],
          "name": "stderr"
        },
        {
          "output_type": "stream",
          "text": [
            "chunk  5  execution_time  46.153541803359985\n"
          ],
          "name": "stdout"
        },
        {
          "output_type": "stream",
          "text": [
            "0it [00:00, ?it/s]/usr/local/lib/python3.6/dist-packages/ipykernel_launcher.py:98: RuntimeWarning: invalid value encountered in double_scalars\n",
            "5000it [00:00, 6571.89it/s]\n",
            "5000it [00:00, 6756.00it/s]\n"
          ],
          "name": "stderr"
        },
        {
          "output_type": "stream",
          "text": [
            "chunk  6  execution_time  45.707496881484985\n"
          ],
          "name": "stdout"
        },
        {
          "output_type": "stream",
          "text": [
            "0it [00:00, ?it/s]/usr/local/lib/python3.6/dist-packages/ipykernel_launcher.py:98: RuntimeWarning: invalid value encountered in double_scalars\n",
            "5000it [00:00, 6717.61it/s]\n",
            "5000it [00:00, 6571.27it/s]\n"
          ],
          "name": "stderr"
        },
        {
          "output_type": "stream",
          "text": [
            "chunk  7  execution_time  47.12289214134216\n"
          ],
          "name": "stdout"
        },
        {
          "output_type": "stream",
          "text": [
            "0it [00:00, ?it/s]/usr/local/lib/python3.6/dist-packages/ipykernel_launcher.py:98: RuntimeWarning: invalid value encountered in double_scalars\n",
            "5000it [00:00, 6730.59it/s]\n",
            "5000it [00:00, 6603.96it/s]\n"
          ],
          "name": "stderr"
        },
        {
          "output_type": "stream",
          "text": [
            "chunk  8  execution_time  46.574331521987915\n"
          ],
          "name": "stdout"
        },
        {
          "output_type": "stream",
          "text": [
            "0it [00:00, ?it/s]/usr/local/lib/python3.6/dist-packages/ipykernel_launcher.py:98: RuntimeWarning: invalid value encountered in double_scalars\n",
            "5000it [00:00, 6689.92it/s]\n",
            "5000it [00:00, 6650.55it/s]\n"
          ],
          "name": "stderr"
        },
        {
          "output_type": "stream",
          "text": [
            "chunk  9  execution_time  45.903969526290894\n"
          ],
          "name": "stdout"
        },
        {
          "output_type": "stream",
          "text": [
            "0it [00:00, ?it/s]/usr/local/lib/python3.6/dist-packages/ipykernel_launcher.py:98: RuntimeWarning: invalid value encountered in double_scalars\n",
            "5000it [00:00, 6561.07it/s]\n",
            "5000it [00:00, 6427.40it/s]\n"
          ],
          "name": "stderr"
        },
        {
          "output_type": "stream",
          "text": [
            "chunk  10  execution_time  45.598599672317505\n"
          ],
          "name": "stdout"
        },
        {
          "output_type": "stream",
          "text": [
            "0it [00:00, ?it/s]/usr/local/lib/python3.6/dist-packages/ipykernel_launcher.py:98: RuntimeWarning: invalid value encountered in double_scalars\n",
            "5000it [00:00, 6539.11it/s]\n",
            "5000it [00:00, 6590.61it/s]\n"
          ],
          "name": "stderr"
        },
        {
          "output_type": "stream",
          "text": [
            "chunk  11  execution_time  45.774378538131714\n"
          ],
          "name": "stdout"
        },
        {
          "output_type": "stream",
          "text": [
            "0it [00:00, ?it/s]/usr/local/lib/python3.6/dist-packages/ipykernel_launcher.py:98: RuntimeWarning: invalid value encountered in double_scalars\n",
            "5000it [00:00, 6689.56it/s]\n",
            "5000it [00:00, 6510.28it/s]\n"
          ],
          "name": "stderr"
        },
        {
          "output_type": "stream",
          "text": [
            "chunk  12  execution_time  46.575507402420044\n"
          ],
          "name": "stdout"
        },
        {
          "output_type": "stream",
          "text": [
            "0it [00:00, ?it/s]/usr/local/lib/python3.6/dist-packages/ipykernel_launcher.py:98: RuntimeWarning: invalid value encountered in double_scalars\n",
            "5000it [00:00, 6675.00it/s]\n",
            "5000it [00:00, 6723.10it/s]\n"
          ],
          "name": "stderr"
        },
        {
          "output_type": "stream",
          "text": [
            "chunk  13  execution_time  47.333508014678955\n"
          ],
          "name": "stdout"
        },
        {
          "output_type": "stream",
          "text": [
            "0it [00:00, ?it/s]/usr/local/lib/python3.6/dist-packages/ipykernel_launcher.py:98: RuntimeWarning: invalid value encountered in double_scalars\n",
            "5000it [00:00, 6682.01it/s]\n",
            "5000it [00:00, 6728.19it/s]\n"
          ],
          "name": "stderr"
        },
        {
          "output_type": "stream",
          "text": [
            "chunk  14  execution_time  44.96168375015259\n"
          ],
          "name": "stdout"
        },
        {
          "output_type": "stream",
          "text": [
            "0it [00:00, ?it/s]/usr/local/lib/python3.6/dist-packages/ipykernel_launcher.py:98: RuntimeWarning: invalid value encountered in double_scalars\n",
            "5000it [00:00, 6568.36it/s]\n",
            "5000it [00:00, 6749.22it/s]\n"
          ],
          "name": "stderr"
        },
        {
          "output_type": "stream",
          "text": [
            "chunk  15  execution_time  46.06763315200806\n"
          ],
          "name": "stdout"
        },
        {
          "output_type": "stream",
          "text": [
            "0it [00:00, ?it/s]/usr/local/lib/python3.6/dist-packages/ipykernel_launcher.py:98: RuntimeWarning: invalid value encountered in double_scalars\n",
            "5000it [00:00, 6586.80it/s]\n",
            "5000it [00:00, 6356.24it/s]\n"
          ],
          "name": "stderr"
        },
        {
          "output_type": "stream",
          "text": [
            "chunk  16  execution_time  47.16127967834473\n"
          ],
          "name": "stdout"
        },
        {
          "output_type": "stream",
          "text": [
            "0it [00:00, ?it/s]/usr/local/lib/python3.6/dist-packages/ipykernel_launcher.py:98: RuntimeWarning: invalid value encountered in double_scalars\n",
            "5000it [00:00, 6401.61it/s]\n",
            "5000it [00:00, 6810.11it/s]\n"
          ],
          "name": "stderr"
        },
        {
          "output_type": "stream",
          "text": [
            "chunk  17  execution_time  46.7076621055603\n"
          ],
          "name": "stdout"
        },
        {
          "output_type": "stream",
          "text": [
            "0it [00:00, ?it/s]/usr/local/lib/python3.6/dist-packages/ipykernel_launcher.py:98: RuntimeWarning: invalid value encountered in double_scalars\n",
            "5000it [00:00, 6428.82it/s]\n",
            "5000it [00:00, 6479.45it/s]\n"
          ],
          "name": "stderr"
        },
        {
          "output_type": "stream",
          "text": [
            "chunk  18  execution_time  46.31514239311218\n"
          ],
          "name": "stdout"
        },
        {
          "output_type": "stream",
          "text": [
            "0it [00:00, ?it/s]/usr/local/lib/python3.6/dist-packages/ipykernel_launcher.py:98: RuntimeWarning: invalid value encountered in double_scalars\n",
            "5000it [00:00, 6555.13it/s]\n",
            "5000it [00:00, 6642.44it/s]\n"
          ],
          "name": "stderr"
        },
        {
          "output_type": "stream",
          "text": [
            "chunk  19  execution_time  45.08453106880188\n"
          ],
          "name": "stdout"
        },
        {
          "output_type": "stream",
          "text": [
            "0it [00:00, ?it/s]/usr/local/lib/python3.6/dist-packages/ipykernel_launcher.py:98: RuntimeWarning: invalid value encountered in double_scalars\n",
            "5000it [00:00, 6554.82it/s]\n",
            "5000it [00:00, 6653.57it/s]\n"
          ],
          "name": "stderr"
        },
        {
          "output_type": "stream",
          "text": [
            "chunk  20  execution_time  47.040939807891846\n"
          ],
          "name": "stdout"
        },
        {
          "output_type": "stream",
          "text": [
            "0it [00:00, ?it/s]/usr/local/lib/python3.6/dist-packages/ipykernel_launcher.py:98: RuntimeWarning: invalid value encountered in double_scalars\n",
            "5000it [00:00, 6603.17it/s]\n",
            "5000it [00:00, 6614.04it/s]\n"
          ],
          "name": "stderr"
        },
        {
          "output_type": "stream",
          "text": [
            "chunk  21  execution_time  46.5108802318573\n"
          ],
          "name": "stdout"
        },
        {
          "output_type": "stream",
          "text": [
            "0it [00:00, ?it/s]/usr/local/lib/python3.6/dist-packages/ipykernel_launcher.py:98: RuntimeWarning: invalid value encountered in double_scalars\n",
            "5000it [00:00, 6717.38it/s]\n",
            "5000it [00:00, 6437.95it/s]\n"
          ],
          "name": "stderr"
        },
        {
          "output_type": "stream",
          "text": [
            "chunk  22  execution_time  45.49729633331299\n"
          ],
          "name": "stdout"
        },
        {
          "output_type": "stream",
          "text": [
            "0it [00:00, ?it/s]/usr/local/lib/python3.6/dist-packages/ipykernel_launcher.py:98: RuntimeWarning: invalid value encountered in double_scalars\n",
            "5000it [00:00, 6637.06it/s]\n",
            "5000it [00:00, 6783.59it/s]\n"
          ],
          "name": "stderr"
        },
        {
          "output_type": "stream",
          "text": [
            "chunk  23  execution_time  45.71877908706665\n"
          ],
          "name": "stdout"
        },
        {
          "output_type": "stream",
          "text": [
            "0it [00:00, ?it/s]/usr/local/lib/python3.6/dist-packages/ipykernel_launcher.py:98: RuntimeWarning: invalid value encountered in double_scalars\n",
            "5000it [00:00, 6673.82it/s]\n",
            "5000it [00:00, 6685.30it/s]\n"
          ],
          "name": "stderr"
        },
        {
          "output_type": "stream",
          "text": [
            "chunk  24  execution_time  46.09220623970032\n"
          ],
          "name": "stdout"
        },
        {
          "output_type": "stream",
          "text": [
            "0it [00:00, ?it/s]/usr/local/lib/python3.6/dist-packages/ipykernel_launcher.py:98: RuntimeWarning: invalid value encountered in double_scalars\n",
            "5000it [00:00, 6431.71it/s]\n",
            "5000it [00:00, 6594.78it/s]\n"
          ],
          "name": "stderr"
        },
        {
          "output_type": "stream",
          "text": [
            "chunk  25  execution_time  46.81988310813904\n"
          ],
          "name": "stdout"
        },
        {
          "output_type": "stream",
          "text": [
            "0it [00:00, ?it/s]/usr/local/lib/python3.6/dist-packages/ipykernel_launcher.py:98: RuntimeWarning: invalid value encountered in double_scalars\n",
            "5000it [00:00, 6739.29it/s]\n",
            "5000it [00:00, 6669.66it/s]\n"
          ],
          "name": "stderr"
        },
        {
          "output_type": "stream",
          "text": [
            "chunk  26  execution_time  46.001121520996094\n"
          ],
          "name": "stdout"
        },
        {
          "output_type": "stream",
          "text": [
            "0it [00:00, ?it/s]/usr/local/lib/python3.6/dist-packages/ipykernel_launcher.py:98: RuntimeWarning: invalid value encountered in double_scalars\n",
            "5000it [00:00, 6702.45it/s]\n",
            "5000it [00:00, 6552.82it/s]\n"
          ],
          "name": "stderr"
        },
        {
          "output_type": "stream",
          "text": [
            "chunk  27  execution_time  45.95640158653259\n"
          ],
          "name": "stdout"
        },
        {
          "output_type": "stream",
          "text": [
            "0it [00:00, ?it/s]/usr/local/lib/python3.6/dist-packages/ipykernel_launcher.py:98: RuntimeWarning: invalid value encountered in double_scalars\n",
            "5000it [00:00, 6596.85it/s]\n",
            "5000it [00:00, 6531.94it/s]\n"
          ],
          "name": "stderr"
        },
        {
          "output_type": "stream",
          "text": [
            "chunk  28  execution_time  45.54279708862305\n"
          ],
          "name": "stdout"
        },
        {
          "output_type": "stream",
          "text": [
            "0it [00:00, ?it/s]/usr/local/lib/python3.6/dist-packages/ipykernel_launcher.py:98: RuntimeWarning: invalid value encountered in double_scalars\n",
            "5000it [00:00, 6792.86it/s]\n",
            "5000it [00:00, 6466.47it/s]\n"
          ],
          "name": "stderr"
        },
        {
          "output_type": "stream",
          "text": [
            "chunk  29  execution_time  45.93473172187805\n"
          ],
          "name": "stdout"
        },
        {
          "output_type": "stream",
          "text": [
            "0it [00:00, ?it/s]/usr/local/lib/python3.6/dist-packages/ipykernel_launcher.py:98: RuntimeWarning: invalid value encountered in double_scalars\n",
            "5000it [00:00, 6479.50it/s]\n",
            "5000it [00:00, 6698.27it/s]\n"
          ],
          "name": "stderr"
        },
        {
          "output_type": "stream",
          "text": [
            "chunk  30  execution_time  45.6590051651001\n"
          ],
          "name": "stdout"
        },
        {
          "output_type": "stream",
          "text": [
            "0it [00:00, ?it/s]/usr/local/lib/python3.6/dist-packages/ipykernel_launcher.py:98: RuntimeWarning: invalid value encountered in double_scalars\n",
            "5000it [00:00, 6839.08it/s]\n",
            "5000it [00:00, 6839.74it/s]\n"
          ],
          "name": "stderr"
        },
        {
          "output_type": "stream",
          "text": [
            "chunk  31  execution_time  45.52132868766785\n"
          ],
          "name": "stdout"
        },
        {
          "output_type": "stream",
          "text": [
            "0it [00:00, ?it/s]/usr/local/lib/python3.6/dist-packages/ipykernel_launcher.py:98: RuntimeWarning: invalid value encountered in double_scalars\n",
            "5000it [00:00, 6588.40it/s]\n",
            "5000it [00:00, 6622.22it/s]\n"
          ],
          "name": "stderr"
        },
        {
          "output_type": "stream",
          "text": [
            "chunk  32  execution_time  45.3048095703125\n"
          ],
          "name": "stdout"
        },
        {
          "output_type": "stream",
          "text": [
            "0it [00:00, ?it/s]/usr/local/lib/python3.6/dist-packages/ipykernel_launcher.py:98: RuntimeWarning: invalid value encountered in double_scalars\n",
            "5000it [00:00, 6656.43it/s]\n",
            "5000it [00:00, 6622.09it/s]\n"
          ],
          "name": "stderr"
        },
        {
          "output_type": "stream",
          "text": [
            "chunk  33  execution_time  46.85358762741089\n"
          ],
          "name": "stdout"
        },
        {
          "output_type": "stream",
          "text": [
            "0it [00:00, ?it/s]/usr/local/lib/python3.6/dist-packages/ipykernel_launcher.py:98: RuntimeWarning: invalid value encountered in double_scalars\n",
            "5000it [00:00, 6724.45it/s]\n",
            "5000it [00:00, 6604.02it/s]\n"
          ],
          "name": "stderr"
        },
        {
          "output_type": "stream",
          "text": [
            "chunk  34  execution_time  46.740158796310425\n"
          ],
          "name": "stdout"
        },
        {
          "output_type": "stream",
          "text": [
            "0it [00:00, ?it/s]/usr/local/lib/python3.6/dist-packages/ipykernel_launcher.py:98: RuntimeWarning: invalid value encountered in double_scalars\n",
            "5000it [00:00, 6452.83it/s]\n",
            "5000it [00:00, 6717.19it/s]\n"
          ],
          "name": "stderr"
        },
        {
          "output_type": "stream",
          "text": [
            "chunk  35  execution_time  47.04929566383362\n"
          ],
          "name": "stdout"
        },
        {
          "output_type": "stream",
          "text": [
            "0it [00:00, ?it/s]/usr/local/lib/python3.6/dist-packages/ipykernel_launcher.py:98: RuntimeWarning: invalid value encountered in double_scalars\n",
            "5000it [00:00, 6545.01it/s]\n",
            "5000it [00:00, 6869.26it/s]\n"
          ],
          "name": "stderr"
        },
        {
          "output_type": "stream",
          "text": [
            "chunk  36  execution_time  45.97977900505066\n"
          ],
          "name": "stdout"
        },
        {
          "output_type": "stream",
          "text": [
            "0it [00:00, ?it/s]/usr/local/lib/python3.6/dist-packages/ipykernel_launcher.py:98: RuntimeWarning: invalid value encountered in double_scalars\n",
            "5000it [00:00, 6646.44it/s]\n",
            "5000it [00:00, 6782.04it/s]\n"
          ],
          "name": "stderr"
        },
        {
          "output_type": "stream",
          "text": [
            "chunk  37  execution_time  46.06478524208069\n"
          ],
          "name": "stdout"
        },
        {
          "output_type": "stream",
          "text": [
            "0it [00:00, ?it/s]/usr/local/lib/python3.6/dist-packages/ipykernel_launcher.py:98: RuntimeWarning: invalid value encountered in double_scalars\n",
            "5000it [00:00, 6513.66it/s]\n",
            "5000it [00:00, 6962.81it/s]\n"
          ],
          "name": "stderr"
        },
        {
          "output_type": "stream",
          "text": [
            "chunk  38  execution_time  46.1927011013031\n"
          ],
          "name": "stdout"
        },
        {
          "output_type": "stream",
          "text": [
            "0it [00:00, ?it/s]/usr/local/lib/python3.6/dist-packages/ipykernel_launcher.py:98: RuntimeWarning: invalid value encountered in double_scalars\n",
            "5000it [00:00, 6742.98it/s]\n",
            "5000it [00:00, 6776.65it/s]\n"
          ],
          "name": "stderr"
        },
        {
          "output_type": "stream",
          "text": [
            "chunk  39  execution_time  46.57050347328186\n"
          ],
          "name": "stdout"
        },
        {
          "output_type": "stream",
          "text": [
            "0it [00:00, ?it/s]/usr/local/lib/python3.6/dist-packages/ipykernel_launcher.py:98: RuntimeWarning: invalid value encountered in double_scalars\n",
            "5000it [00:00, 6793.84it/s]\n",
            "5000it [00:00, 6670.86it/s]\n"
          ],
          "name": "stderr"
        },
        {
          "output_type": "stream",
          "text": [
            "chunk  40  execution_time  46.693620920181274\n"
          ],
          "name": "stdout"
        },
        {
          "output_type": "stream",
          "text": [
            "0it [00:00, ?it/s]/usr/local/lib/python3.6/dist-packages/ipykernel_launcher.py:98: RuntimeWarning: invalid value encountered in double_scalars\n",
            "5000it [00:00, 6800.56it/s]\n",
            "5000it [00:00, 6751.63it/s]\n"
          ],
          "name": "stderr"
        },
        {
          "output_type": "stream",
          "text": [
            "chunk  41  execution_time  46.03510570526123\n"
          ],
          "name": "stdout"
        },
        {
          "output_type": "stream",
          "text": [
            "0it [00:00, ?it/s]/usr/local/lib/python3.6/dist-packages/ipykernel_launcher.py:98: RuntimeWarning: invalid value encountered in double_scalars\n",
            "5000it [00:00, 6619.19it/s]\n",
            "5000it [00:00, 6868.10it/s]\n"
          ],
          "name": "stderr"
        },
        {
          "output_type": "stream",
          "text": [
            "chunk  42  execution_time  45.704983949661255\n"
          ],
          "name": "stdout"
        },
        {
          "output_type": "stream",
          "text": [
            "0it [00:00, ?it/s]/usr/local/lib/python3.6/dist-packages/ipykernel_launcher.py:98: RuntimeWarning: invalid value encountered in double_scalars\n",
            "5000it [00:00, 6718.16it/s]\n",
            "5000it [00:00, 6755.77it/s]\n"
          ],
          "name": "stderr"
        },
        {
          "output_type": "stream",
          "text": [
            "chunk  43  execution_time  45.8292760848999\n"
          ],
          "name": "stdout"
        },
        {
          "output_type": "stream",
          "text": [
            "0it [00:00, ?it/s]/usr/local/lib/python3.6/dist-packages/ipykernel_launcher.py:98: RuntimeWarning: invalid value encountered in double_scalars\n",
            "5000it [00:00, 6753.81it/s]\n",
            "5000it [00:00, 6758.88it/s]\n"
          ],
          "name": "stderr"
        },
        {
          "output_type": "stream",
          "text": [
            "chunk  44  execution_time  46.37445521354675\n"
          ],
          "name": "stdout"
        },
        {
          "output_type": "stream",
          "text": [
            "0it [00:00, ?it/s]/usr/local/lib/python3.6/dist-packages/ipykernel_launcher.py:98: RuntimeWarning: invalid value encountered in double_scalars\n",
            "5000it [00:00, 6808.96it/s]\n",
            "5000it [00:00, 6741.73it/s]\n"
          ],
          "name": "stderr"
        },
        {
          "output_type": "stream",
          "text": [
            "chunk  45  execution_time  46.11364507675171\n"
          ],
          "name": "stdout"
        },
        {
          "output_type": "stream",
          "text": [
            "0it [00:00, ?it/s]/usr/local/lib/python3.6/dist-packages/ipykernel_launcher.py:98: RuntimeWarning: invalid value encountered in double_scalars\n",
            "5000it [00:00, 6687.24it/s]\n",
            "5000it [00:00, 6626.15it/s]\n"
          ],
          "name": "stderr"
        },
        {
          "output_type": "stream",
          "text": [
            "chunk  46  execution_time  45.22578287124634\n"
          ],
          "name": "stdout"
        },
        {
          "output_type": "stream",
          "text": [
            "0it [00:00, ?it/s]/usr/local/lib/python3.6/dist-packages/ipykernel_launcher.py:98: RuntimeWarning: invalid value encountered in double_scalars\n",
            "5000it [00:00, 6741.80it/s]\n",
            "5000it [00:00, 6812.09it/s]\n"
          ],
          "name": "stderr"
        },
        {
          "output_type": "stream",
          "text": [
            "chunk  47  execution_time  45.39743447303772\n"
          ],
          "name": "stdout"
        },
        {
          "output_type": "stream",
          "text": [
            "0it [00:00, ?it/s]/usr/local/lib/python3.6/dist-packages/ipykernel_launcher.py:98: RuntimeWarning: invalid value encountered in double_scalars\n",
            "5000it [00:00, 6721.41it/s]\n",
            "5000it [00:00, 6776.71it/s]\n"
          ],
          "name": "stderr"
        },
        {
          "output_type": "stream",
          "text": [
            "chunk  48  execution_time  45.56599473953247\n"
          ],
          "name": "stdout"
        },
        {
          "output_type": "stream",
          "text": [
            "0it [00:00, ?it/s]/usr/local/lib/python3.6/dist-packages/ipykernel_launcher.py:98: RuntimeWarning: invalid value encountered in double_scalars\n",
            "5000it [00:00, 6937.35it/s]\n",
            "5000it [00:00, 6601.63it/s]\n"
          ],
          "name": "stderr"
        },
        {
          "output_type": "stream",
          "text": [
            "chunk  49  execution_time  46.26817536354065\n"
          ],
          "name": "stdout"
        },
        {
          "output_type": "stream",
          "text": [
            "0it [00:00, ?it/s]/usr/local/lib/python3.6/dist-packages/ipykernel_launcher.py:98: RuntimeWarning: invalid value encountered in double_scalars\n",
            "5000it [00:00, 6799.91it/s]\n",
            "5000it [00:00, 6650.65it/s]\n"
          ],
          "name": "stderr"
        },
        {
          "output_type": "stream",
          "text": [
            "chunk  50  execution_time  44.93521761894226\n"
          ],
          "name": "stdout"
        },
        {
          "output_type": "stream",
          "text": [
            "0it [00:00, ?it/s]/usr/local/lib/python3.6/dist-packages/ipykernel_launcher.py:98: RuntimeWarning: invalid value encountered in double_scalars\n",
            "5000it [00:00, 6950.16it/s]\n",
            "5000it [00:00, 6575.22it/s]\n"
          ],
          "name": "stderr"
        },
        {
          "output_type": "stream",
          "text": [
            "chunk  51  execution_time  46.16097044944763\n"
          ],
          "name": "stdout"
        },
        {
          "output_type": "stream",
          "text": [
            "0it [00:00, ?it/s]/usr/local/lib/python3.6/dist-packages/ipykernel_launcher.py:98: RuntimeWarning: invalid value encountered in double_scalars\n",
            "5000it [00:00, 6917.39it/s]\n",
            "5000it [00:00, 6781.06it/s]\n"
          ],
          "name": "stderr"
        },
        {
          "output_type": "stream",
          "text": [
            "chunk  52  execution_time  45.45875120162964\n"
          ],
          "name": "stdout"
        },
        {
          "output_type": "stream",
          "text": [
            "0it [00:00, ?it/s]/usr/local/lib/python3.6/dist-packages/ipykernel_launcher.py:98: RuntimeWarning: invalid value encountered in double_scalars\n",
            "5000it [00:00, 6782.93it/s]\n",
            "5000it [00:00, 6420.39it/s]\n"
          ],
          "name": "stderr"
        },
        {
          "output_type": "stream",
          "text": [
            "chunk  53  execution_time  44.804145097732544\n"
          ],
          "name": "stdout"
        },
        {
          "output_type": "stream",
          "text": [
            "0it [00:00, ?it/s]/usr/local/lib/python3.6/dist-packages/ipykernel_launcher.py:98: RuntimeWarning: invalid value encountered in double_scalars\n",
            "5000it [00:00, 6816.17it/s]\n",
            "5000it [00:00, 6625.80it/s]\n"
          ],
          "name": "stderr"
        },
        {
          "output_type": "stream",
          "text": [
            "chunk  54  execution_time  44.932464599609375\n"
          ],
          "name": "stdout"
        },
        {
          "output_type": "stream",
          "text": [
            "0it [00:00, ?it/s]/usr/local/lib/python3.6/dist-packages/ipykernel_launcher.py:98: RuntimeWarning: invalid value encountered in double_scalars\n",
            "5000it [00:00, 6834.86it/s]\n",
            "5000it [00:00, 6113.65it/s]\n"
          ],
          "name": "stderr"
        },
        {
          "output_type": "stream",
          "text": [
            "chunk  55  execution_time  46.81830716133118\n"
          ],
          "name": "stdout"
        },
        {
          "output_type": "stream",
          "text": [
            "0it [00:00, ?it/s]/usr/local/lib/python3.6/dist-packages/ipykernel_launcher.py:98: RuntimeWarning: invalid value encountered in double_scalars\n",
            "5000it [00:00, 6674.39it/s]\n",
            "5000it [00:00, 6722.51it/s]\n"
          ],
          "name": "stderr"
        },
        {
          "output_type": "stream",
          "text": [
            "chunk  56  execution_time  45.338690757751465\n"
          ],
          "name": "stdout"
        },
        {
          "output_type": "stream",
          "text": [
            "0it [00:00, ?it/s]/usr/local/lib/python3.6/dist-packages/ipykernel_launcher.py:98: RuntimeWarning: invalid value encountered in double_scalars\n",
            "5000it [00:00, 6734.45it/s]\n",
            "5000it [00:00, 6643.68it/s]\n"
          ],
          "name": "stderr"
        },
        {
          "output_type": "stream",
          "text": [
            "chunk  57  execution_time  46.30628848075867\n"
          ],
          "name": "stdout"
        },
        {
          "output_type": "stream",
          "text": [
            "0it [00:00, ?it/s]/usr/local/lib/python3.6/dist-packages/ipykernel_launcher.py:98: RuntimeWarning: invalid value encountered in double_scalars\n",
            "5000it [00:00, 6857.57it/s]\n",
            "5000it [00:00, 6588.09it/s]\n"
          ],
          "name": "stderr"
        },
        {
          "output_type": "stream",
          "text": [
            "chunk  58  execution_time  46.21419715881348\n"
          ],
          "name": "stdout"
        },
        {
          "output_type": "stream",
          "text": [
            "0it [00:00, ?it/s]/usr/local/lib/python3.6/dist-packages/ipykernel_launcher.py:98: RuntimeWarning: invalid value encountered in double_scalars\n",
            "5000it [00:00, 6859.41it/s]\n",
            "5000it [00:00, 6659.30it/s]\n"
          ],
          "name": "stderr"
        },
        {
          "output_type": "stream",
          "text": [
            "chunk  59  execution_time  46.73621392250061\n"
          ],
          "name": "stdout"
        },
        {
          "output_type": "stream",
          "text": [
            "0it [00:00, ?it/s]/usr/local/lib/python3.6/dist-packages/ipykernel_launcher.py:98: RuntimeWarning: invalid value encountered in double_scalars\n",
            "5000it [00:00, 6527.32it/s]\n",
            "5000it [00:00, 6620.19it/s]\n"
          ],
          "name": "stderr"
        },
        {
          "output_type": "stream",
          "text": [
            "chunk  60  execution_time  47.144325256347656\n"
          ],
          "name": "stdout"
        },
        {
          "output_type": "stream",
          "text": [
            "0it [00:00, ?it/s]/usr/local/lib/python3.6/dist-packages/ipykernel_launcher.py:98: RuntimeWarning: invalid value encountered in double_scalars\n",
            "5000it [00:00, 6520.29it/s]\n",
            "5000it [00:00, 6666.08it/s]\n"
          ],
          "name": "stderr"
        },
        {
          "output_type": "stream",
          "text": [
            "chunk  61  execution_time  44.51062083244324\n"
          ],
          "name": "stdout"
        },
        {
          "output_type": "stream",
          "text": [
            "0it [00:00, ?it/s]/usr/local/lib/python3.6/dist-packages/ipykernel_launcher.py:98: RuntimeWarning: invalid value encountered in double_scalars\n",
            "5000it [00:00, 6459.32it/s]\n",
            "5000it [00:00, 6681.07it/s]\n"
          ],
          "name": "stderr"
        },
        {
          "output_type": "stream",
          "text": [
            "chunk  62  execution_time  45.28346014022827\n"
          ],
          "name": "stdout"
        },
        {
          "output_type": "stream",
          "text": [
            "0it [00:00, ?it/s]/usr/local/lib/python3.6/dist-packages/ipykernel_launcher.py:98: RuntimeWarning: invalid value encountered in double_scalars\n",
            "5000it [00:00, 6676.95it/s]\n",
            "5000it [00:00, 6706.25it/s]\n"
          ],
          "name": "stderr"
        },
        {
          "output_type": "stream",
          "text": [
            "chunk  63  execution_time  46.918062925338745\n"
          ],
          "name": "stdout"
        },
        {
          "output_type": "stream",
          "text": [
            "0it [00:00, ?it/s]/usr/local/lib/python3.6/dist-packages/ipykernel_launcher.py:98: RuntimeWarning: invalid value encountered in double_scalars\n",
            "5000it [00:00, 6688.08it/s]\n",
            "5000it [00:00, 6753.78it/s]\n"
          ],
          "name": "stderr"
        },
        {
          "output_type": "stream",
          "text": [
            "chunk  64  execution_time  45.92008399963379\n"
          ],
          "name": "stdout"
        },
        {
          "output_type": "stream",
          "text": [
            "0it [00:00, ?it/s]/usr/local/lib/python3.6/dist-packages/ipykernel_launcher.py:98: RuntimeWarning: invalid value encountered in double_scalars\n",
            "5000it [00:00, 6811.67it/s]\n",
            "5000it [00:00, 6758.79it/s]\n"
          ],
          "name": "stderr"
        },
        {
          "output_type": "stream",
          "text": [
            "chunk  65  execution_time  44.997376680374146\n"
          ],
          "name": "stdout"
        },
        {
          "output_type": "stream",
          "text": [
            "0it [00:00, ?it/s]/usr/local/lib/python3.6/dist-packages/ipykernel_launcher.py:98: RuntimeWarning: invalid value encountered in double_scalars\n",
            "5000it [00:00, 6865.74it/s]\n",
            "5000it [00:00, 6780.59it/s]\n"
          ],
          "name": "stderr"
        },
        {
          "output_type": "stream",
          "text": [
            "chunk  66  execution_time  45.572386741638184\n"
          ],
          "name": "stdout"
        },
        {
          "output_type": "stream",
          "text": [
            "0it [00:00, ?it/s]/usr/local/lib/python3.6/dist-packages/ipykernel_launcher.py:98: RuntimeWarning: invalid value encountered in double_scalars\n",
            "5000it [00:00, 6684.03it/s]\n",
            "5000it [00:00, 6374.84it/s]\n"
          ],
          "name": "stderr"
        },
        {
          "output_type": "stream",
          "text": [
            "chunk  67  execution_time  46.55976748466492\n"
          ],
          "name": "stdout"
        },
        {
          "output_type": "stream",
          "text": [
            "0it [00:00, ?it/s]/usr/local/lib/python3.6/dist-packages/ipykernel_launcher.py:98: RuntimeWarning: invalid value encountered in double_scalars\n",
            "5000it [00:00, 6831.01it/s]\n",
            "5000it [00:00, 6659.26it/s]\n"
          ],
          "name": "stderr"
        },
        {
          "output_type": "stream",
          "text": [
            "chunk  68  execution_time  45.22137117385864\n"
          ],
          "name": "stdout"
        },
        {
          "output_type": "stream",
          "text": [
            "0it [00:00, ?it/s]/usr/local/lib/python3.6/dist-packages/ipykernel_launcher.py:98: RuntimeWarning: invalid value encountered in double_scalars\n",
            "5000it [00:00, 6745.95it/s]\n",
            "5000it [00:00, 6714.74it/s]\n"
          ],
          "name": "stderr"
        },
        {
          "output_type": "stream",
          "text": [
            "chunk  69  execution_time  46.40580487251282\n"
          ],
          "name": "stdout"
        },
        {
          "output_type": "stream",
          "text": [
            "0it [00:00, ?it/s]/usr/local/lib/python3.6/dist-packages/ipykernel_launcher.py:98: RuntimeWarning: invalid value encountered in double_scalars\n",
            "5000it [00:00, 6833.57it/s]\n",
            "5000it [00:00, 6700.41it/s]\n"
          ],
          "name": "stderr"
        },
        {
          "output_type": "stream",
          "text": [
            "chunk  70  execution_time  45.86294913291931\n"
          ],
          "name": "stdout"
        },
        {
          "output_type": "stream",
          "text": [
            "0it [00:00, ?it/s]/usr/local/lib/python3.6/dist-packages/ipykernel_launcher.py:98: RuntimeWarning: invalid value encountered in double_scalars\n",
            "5000it [00:00, 6804.81it/s]\n",
            "5000it [00:00, 6677.37it/s]\n"
          ],
          "name": "stderr"
        },
        {
          "output_type": "stream",
          "text": [
            "chunk  71  execution_time  45.9568772315979\n"
          ],
          "name": "stdout"
        },
        {
          "output_type": "stream",
          "text": [
            "0it [00:00, ?it/s]/usr/local/lib/python3.6/dist-packages/ipykernel_launcher.py:98: RuntimeWarning: invalid value encountered in double_scalars\n",
            "5000it [00:00, 6729.17it/s]\n",
            "5000it [00:00, 6599.62it/s]\n"
          ],
          "name": "stderr"
        },
        {
          "output_type": "stream",
          "text": [
            "chunk  72  execution_time  46.56366276741028\n"
          ],
          "name": "stdout"
        },
        {
          "output_type": "stream",
          "text": [
            "0it [00:00, ?it/s]/usr/local/lib/python3.6/dist-packages/ipykernel_launcher.py:98: RuntimeWarning: invalid value encountered in double_scalars\n",
            "5000it [00:00, 6693.00it/s]\n",
            "5000it [00:00, 6752.41it/s]\n"
          ],
          "name": "stderr"
        },
        {
          "output_type": "stream",
          "text": [
            "chunk  73  execution_time  46.297648906707764\n"
          ],
          "name": "stdout"
        },
        {
          "output_type": "stream",
          "text": [
            "0it [00:00, ?it/s]/usr/local/lib/python3.6/dist-packages/ipykernel_launcher.py:98: RuntimeWarning: invalid value encountered in double_scalars\n",
            "5000it [00:00, 6595.83it/s]\n",
            "5000it [00:00, 6542.96it/s]\n"
          ],
          "name": "stderr"
        },
        {
          "output_type": "stream",
          "text": [
            "chunk  74  execution_time  45.680912494659424\n"
          ],
          "name": "stdout"
        },
        {
          "output_type": "stream",
          "text": [
            "0it [00:00, ?it/s]/usr/local/lib/python3.6/dist-packages/ipykernel_launcher.py:98: RuntimeWarning: invalid value encountered in double_scalars\n",
            "5000it [00:00, 6910.93it/s]\n",
            "5000it [00:00, 6734.35it/s]\n"
          ],
          "name": "stderr"
        },
        {
          "output_type": "stream",
          "text": [
            "chunk  75  execution_time  44.95124673843384\n"
          ],
          "name": "stdout"
        },
        {
          "output_type": "stream",
          "text": [
            "0it [00:00, ?it/s]/usr/local/lib/python3.6/dist-packages/ipykernel_launcher.py:98: RuntimeWarning: invalid value encountered in double_scalars\n",
            "5000it [00:00, 6682.61it/s]\n",
            "5000it [00:00, 6586.35it/s]\n"
          ],
          "name": "stderr"
        },
        {
          "output_type": "stream",
          "text": [
            "chunk  76  execution_time  46.454673767089844\n"
          ],
          "name": "stdout"
        },
        {
          "output_type": "stream",
          "text": [
            "0it [00:00, ?it/s]/usr/local/lib/python3.6/dist-packages/ipykernel_launcher.py:98: RuntimeWarning: invalid value encountered in double_scalars\n",
            "5000it [00:00, 6898.04it/s]\n",
            "5000it [00:00, 6660.06it/s]\n"
          ],
          "name": "stderr"
        },
        {
          "output_type": "stream",
          "text": [
            "chunk  77  execution_time  45.449583768844604\n"
          ],
          "name": "stdout"
        },
        {
          "output_type": "stream",
          "text": [
            "0it [00:00, ?it/s]/usr/local/lib/python3.6/dist-packages/ipykernel_launcher.py:98: RuntimeWarning: invalid value encountered in double_scalars\n",
            "5000it [00:00, 6726.44it/s]\n",
            "5000it [00:00, 6708.37it/s]\n"
          ],
          "name": "stderr"
        },
        {
          "output_type": "stream",
          "text": [
            "chunk  78  execution_time  44.63814187049866\n"
          ],
          "name": "stdout"
        },
        {
          "output_type": "stream",
          "text": [
            "0it [00:00, ?it/s]/usr/local/lib/python3.6/dist-packages/ipykernel_launcher.py:98: RuntimeWarning: invalid value encountered in double_scalars\n",
            "5000it [00:00, 6946.84it/s]\n",
            "5000it [00:00, 6839.64it/s]\n"
          ],
          "name": "stderr"
        },
        {
          "output_type": "stream",
          "text": [
            "chunk  79  execution_time  45.00880026817322\n"
          ],
          "name": "stdout"
        },
        {
          "output_type": "stream",
          "text": [
            "0it [00:00, ?it/s]/usr/local/lib/python3.6/dist-packages/ipykernel_launcher.py:98: RuntimeWarning: invalid value encountered in double_scalars\n",
            "5000it [00:00, 6759.81it/s]\n",
            "5000it [00:00, 6933.84it/s]\n"
          ],
          "name": "stderr"
        },
        {
          "output_type": "stream",
          "text": [
            "chunk  80  execution_time  45.263322830200195\n"
          ],
          "name": "stdout"
        },
        {
          "output_type": "stream",
          "text": [
            "0it [00:00, ?it/s]/usr/local/lib/python3.6/dist-packages/ipykernel_launcher.py:98: RuntimeWarning: invalid value encountered in double_scalars\n",
            "5000it [00:00, 7000.96it/s]\n",
            "5000it [00:00, 6855.82it/s]\n"
          ],
          "name": "stderr"
        },
        {
          "output_type": "stream",
          "text": [
            "chunk  81  execution_time  43.83353090286255\n"
          ],
          "name": "stdout"
        },
        {
          "output_type": "stream",
          "text": [
            "0it [00:00, ?it/s]/usr/local/lib/python3.6/dist-packages/ipykernel_launcher.py:98: RuntimeWarning: invalid value encountered in double_scalars\n",
            "5000it [00:00, 6941.85it/s]\n",
            "5000it [00:00, 6702.52it/s]\n"
          ],
          "name": "stderr"
        },
        {
          "output_type": "stream",
          "text": [
            "chunk  82  execution_time  43.807135820388794\n"
          ],
          "name": "stdout"
        },
        {
          "output_type": "stream",
          "text": [
            "0it [00:00, ?it/s]/usr/local/lib/python3.6/dist-packages/ipykernel_launcher.py:98: RuntimeWarning: invalid value encountered in double_scalars\n",
            "5000it [00:00, 6989.88it/s]\n",
            "5000it [00:00, 6774.39it/s]\n"
          ],
          "name": "stderr"
        },
        {
          "output_type": "stream",
          "text": [
            "chunk  83  execution_time  44.81348729133606\n"
          ],
          "name": "stdout"
        },
        {
          "output_type": "stream",
          "text": [
            "0it [00:00, ?it/s]/usr/local/lib/python3.6/dist-packages/ipykernel_launcher.py:98: RuntimeWarning: invalid value encountered in double_scalars\n",
            "5000it [00:00, 7069.53it/s]\n",
            "5000it [00:00, 6911.09it/s]\n"
          ],
          "name": "stderr"
        },
        {
          "output_type": "stream",
          "text": [
            "chunk  84  execution_time  44.275672912597656\n"
          ],
          "name": "stdout"
        },
        {
          "output_type": "stream",
          "text": [
            "0it [00:00, ?it/s]/usr/local/lib/python3.6/dist-packages/ipykernel_launcher.py:98: RuntimeWarning: invalid value encountered in double_scalars\n",
            "5000it [00:00, 6888.71it/s]\n",
            "5000it [00:00, 6789.54it/s]\n"
          ],
          "name": "stderr"
        },
        {
          "output_type": "stream",
          "text": [
            "chunk  85  execution_time  44.931199073791504\n"
          ],
          "name": "stdout"
        },
        {
          "output_type": "stream",
          "text": [
            "0it [00:00, ?it/s]/usr/local/lib/python3.6/dist-packages/ipykernel_launcher.py:98: RuntimeWarning: invalid value encountered in double_scalars\n",
            "5000it [00:00, 6721.08it/s]\n",
            "5000it [00:00, 6860.76it/s]\n"
          ],
          "name": "stderr"
        },
        {
          "output_type": "stream",
          "text": [
            "chunk  86  execution_time  43.420660972595215\n"
          ],
          "name": "stdout"
        },
        {
          "output_type": "stream",
          "text": [
            "0it [00:00, ?it/s]/usr/local/lib/python3.6/dist-packages/ipykernel_launcher.py:98: RuntimeWarning: invalid value encountered in double_scalars\n",
            "5000it [00:00, 6912.82it/s]\n",
            "5000it [00:00, 6974.49it/s]\n"
          ],
          "name": "stderr"
        },
        {
          "output_type": "stream",
          "text": [
            "chunk  87  execution_time  43.99710440635681\n"
          ],
          "name": "stdout"
        },
        {
          "output_type": "stream",
          "text": [
            "0it [00:00, ?it/s]/usr/local/lib/python3.6/dist-packages/ipykernel_launcher.py:98: RuntimeWarning: invalid value encountered in double_scalars\n",
            "5000it [00:00, 6898.74it/s]\n",
            "5000it [00:00, 6900.18it/s]\n"
          ],
          "name": "stderr"
        },
        {
          "output_type": "stream",
          "text": [
            "chunk  88  execution_time  45.23455357551575\n"
          ],
          "name": "stdout"
        },
        {
          "output_type": "stream",
          "text": [
            "0it [00:00, ?it/s]/usr/local/lib/python3.6/dist-packages/ipykernel_launcher.py:98: RuntimeWarning: invalid value encountered in double_scalars\n",
            "5000it [00:00, 6774.61it/s]\n",
            "5000it [00:00, 6779.68it/s]\n"
          ],
          "name": "stderr"
        },
        {
          "output_type": "stream",
          "text": [
            "chunk  89  execution_time  44.9003050327301\n"
          ],
          "name": "stdout"
        },
        {
          "output_type": "stream",
          "text": [
            "0it [00:00, ?it/s]/usr/local/lib/python3.6/dist-packages/ipykernel_launcher.py:98: RuntimeWarning: invalid value encountered in double_scalars\n",
            "5000it [00:00, 6919.50it/s]\n",
            "5000it [00:00, 6893.77it/s]\n"
          ],
          "name": "stderr"
        },
        {
          "output_type": "stream",
          "text": [
            "chunk  90  execution_time  45.2093448638916\n"
          ],
          "name": "stdout"
        },
        {
          "output_type": "stream",
          "text": [
            "0it [00:00, ?it/s]/usr/local/lib/python3.6/dist-packages/ipykernel_launcher.py:98: RuntimeWarning: invalid value encountered in double_scalars\n",
            "5000it [00:00, 6972.24it/s]\n",
            "5000it [00:00, 6937.86it/s]\n"
          ],
          "name": "stderr"
        },
        {
          "output_type": "stream",
          "text": [
            "chunk  91  execution_time  44.559324979782104\n"
          ],
          "name": "stdout"
        },
        {
          "output_type": "stream",
          "text": [
            "0it [00:00, ?it/s]/usr/local/lib/python3.6/dist-packages/ipykernel_launcher.py:98: RuntimeWarning: invalid value encountered in double_scalars\n",
            "5000it [00:00, 6833.75it/s]\n",
            "5000it [00:00, 6707.20it/s]\n"
          ],
          "name": "stderr"
        },
        {
          "output_type": "stream",
          "text": [
            "chunk  92  execution_time  45.48119115829468\n"
          ],
          "name": "stdout"
        },
        {
          "output_type": "stream",
          "text": [
            "0it [00:00, ?it/s]/usr/local/lib/python3.6/dist-packages/ipykernel_launcher.py:98: RuntimeWarning: invalid value encountered in double_scalars\n",
            "5000it [00:00, 6990.54it/s]\n",
            "5000it [00:00, 6646.00it/s]\n"
          ],
          "name": "stderr"
        },
        {
          "output_type": "stream",
          "text": [
            "chunk  93  execution_time  45.09595084190369\n"
          ],
          "name": "stdout"
        },
        {
          "output_type": "stream",
          "text": [
            "0it [00:00, ?it/s]/usr/local/lib/python3.6/dist-packages/ipykernel_launcher.py:98: RuntimeWarning: invalid value encountered in double_scalars\n",
            "5000it [00:00, 6950.08it/s]\n",
            "5000it [00:00, 6932.43it/s]\n"
          ],
          "name": "stderr"
        },
        {
          "output_type": "stream",
          "text": [
            "chunk  94  execution_time  44.823282957077026\n"
          ],
          "name": "stdout"
        },
        {
          "output_type": "stream",
          "text": [
            "0it [00:00, ?it/s]/usr/local/lib/python3.6/dist-packages/ipykernel_launcher.py:98: RuntimeWarning: invalid value encountered in double_scalars\n",
            "5000it [00:00, 6950.41it/s]\n",
            "5000it [00:00, 6767.92it/s]\n"
          ],
          "name": "stderr"
        },
        {
          "output_type": "stream",
          "text": [
            "chunk  95  execution_time  45.35170006752014\n"
          ],
          "name": "stdout"
        },
        {
          "output_type": "stream",
          "text": [
            "0it [00:00, ?it/s]/usr/local/lib/python3.6/dist-packages/ipykernel_launcher.py:98: RuntimeWarning: invalid value encountered in double_scalars\n",
            "5000it [00:00, 6891.13it/s]\n",
            "5000it [00:00, 6683.46it/s]\n"
          ],
          "name": "stderr"
        },
        {
          "output_type": "stream",
          "text": [
            "chunk  96  execution_time  45.61856508255005\n"
          ],
          "name": "stdout"
        },
        {
          "output_type": "stream",
          "text": [
            "0it [00:00, ?it/s]/usr/local/lib/python3.6/dist-packages/ipykernel_launcher.py:98: RuntimeWarning: invalid value encountered in double_scalars\n",
            "5000it [00:00, 6924.63it/s]\n",
            "5000it [00:00, 6883.79it/s]\n"
          ],
          "name": "stderr"
        },
        {
          "output_type": "stream",
          "text": [
            "chunk  97  execution_time  45.901955366134644\n"
          ],
          "name": "stdout"
        },
        {
          "output_type": "stream",
          "text": [
            "0it [00:00, ?it/s]/usr/local/lib/python3.6/dist-packages/ipykernel_launcher.py:98: RuntimeWarning: invalid value encountered in double_scalars\n",
            "5000it [00:00, 7114.86it/s]\n",
            "5000it [00:00, 7104.15it/s]\n"
          ],
          "name": "stderr"
        },
        {
          "output_type": "stream",
          "text": [
            "chunk  98  execution_time  44.453367948532104\n"
          ],
          "name": "stdout"
        },
        {
          "output_type": "stream",
          "text": [
            "0it [00:00, ?it/s]/usr/local/lib/python3.6/dist-packages/ipykernel_launcher.py:98: RuntimeWarning: invalid value encountered in double_scalars\n",
            "5000it [00:00, 7082.98it/s]\n",
            "5000it [00:00, 6817.51it/s]\n"
          ],
          "name": "stderr"
        },
        {
          "output_type": "stream",
          "text": [
            "chunk  99  execution_time  44.297009229660034\n"
          ],
          "name": "stdout"
        },
        {
          "output_type": "stream",
          "text": [
            "0it [00:00, ?it/s]/usr/local/lib/python3.6/dist-packages/ipykernel_launcher.py:98: RuntimeWarning: invalid value encountered in double_scalars\n",
            "5000it [00:00, 6771.92it/s]\n",
            "5000it [00:00, 7036.54it/s]\n"
          ],
          "name": "stderr"
        },
        {
          "output_type": "stream",
          "text": [
            "chunk  100  execution_time  45.75036907196045\n"
          ],
          "name": "stdout"
        },
        {
          "output_type": "stream",
          "text": [
            "0it [00:00, ?it/s]/usr/local/lib/python3.6/dist-packages/ipykernel_launcher.py:98: RuntimeWarning: invalid value encountered in double_scalars\n",
            "5000it [00:00, 6658.21it/s]\n",
            "5000it [00:00, 6623.27it/s]\n"
          ],
          "name": "stderr"
        },
        {
          "output_type": "stream",
          "text": [
            "chunk  101  execution_time  46.08663487434387\n"
          ],
          "name": "stdout"
        },
        {
          "output_type": "stream",
          "text": [
            "0it [00:00, ?it/s]/usr/local/lib/python3.6/dist-packages/ipykernel_launcher.py:98: RuntimeWarning: invalid value encountered in double_scalars\n",
            "5000it [00:00, 6316.37it/s]\n",
            "5000it [00:00, 6397.23it/s]\n"
          ],
          "name": "stderr"
        },
        {
          "output_type": "stream",
          "text": [
            "chunk  102  execution_time  48.33996033668518\n"
          ],
          "name": "stdout"
        },
        {
          "output_type": "stream",
          "text": [
            "0it [00:00, ?it/s]/usr/local/lib/python3.6/dist-packages/ipykernel_launcher.py:98: RuntimeWarning: invalid value encountered in double_scalars\n",
            "5000it [00:00, 6264.89it/s]\n",
            "5000it [00:00, 6118.99it/s]\n"
          ],
          "name": "stderr"
        },
        {
          "output_type": "stream",
          "text": [
            "chunk  103  execution_time  50.56023812294006\n"
          ],
          "name": "stdout"
        },
        {
          "output_type": "stream",
          "text": [
            "0it [00:00, ?it/s]/usr/local/lib/python3.6/dist-packages/ipykernel_launcher.py:98: RuntimeWarning: invalid value encountered in double_scalars\n",
            "5000it [00:00, 6439.74it/s]\n",
            "5000it [00:00, 6196.23it/s]\n"
          ],
          "name": "stderr"
        },
        {
          "output_type": "stream",
          "text": [
            "chunk  104  execution_time  48.75251913070679\n"
          ],
          "name": "stdout"
        },
        {
          "output_type": "stream",
          "text": [
            "0it [00:00, ?it/s]/usr/local/lib/python3.6/dist-packages/ipykernel_launcher.py:98: RuntimeWarning: invalid value encountered in double_scalars\n",
            "5000it [00:00, 6288.91it/s]\n",
            "5000it [00:00, 6349.61it/s]\n"
          ],
          "name": "stderr"
        },
        {
          "output_type": "stream",
          "text": [
            "chunk  105  execution_time  48.46612477302551\n"
          ],
          "name": "stdout"
        },
        {
          "output_type": "stream",
          "text": [
            "0it [00:00, ?it/s]/usr/local/lib/python3.6/dist-packages/ipykernel_launcher.py:98: RuntimeWarning: invalid value encountered in double_scalars\n",
            "5000it [00:00, 6287.25it/s]\n",
            "5000it [00:00, 6366.79it/s]\n"
          ],
          "name": "stderr"
        },
        {
          "output_type": "stream",
          "text": [
            "chunk  106  execution_time  48.92509961128235\n"
          ],
          "name": "stdout"
        },
        {
          "output_type": "stream",
          "text": [
            "0it [00:00, ?it/s]/usr/local/lib/python3.6/dist-packages/ipykernel_launcher.py:98: RuntimeWarning: invalid value encountered in double_scalars\n",
            "5000it [00:00, 6950.71it/s]\n",
            "5000it [00:00, 6659.37it/s]\n"
          ],
          "name": "stderr"
        },
        {
          "output_type": "stream",
          "text": [
            "chunk  107  execution_time  45.8320095539093\n"
          ],
          "name": "stdout"
        },
        {
          "output_type": "stream",
          "text": [
            "0it [00:00, ?it/s]/usr/local/lib/python3.6/dist-packages/ipykernel_launcher.py:98: RuntimeWarning: invalid value encountered in double_scalars\n",
            "5000it [00:00, 6180.32it/s]\n",
            "5000it [00:00, 6189.44it/s]\n"
          ],
          "name": "stderr"
        },
        {
          "output_type": "stream",
          "text": [
            "chunk  108  execution_time  47.73168992996216\n"
          ],
          "name": "stdout"
        },
        {
          "output_type": "stream",
          "text": [
            "0it [00:00, ?it/s]/usr/local/lib/python3.6/dist-packages/ipykernel_launcher.py:98: RuntimeWarning: invalid value encountered in double_scalars\n",
            "5000it [00:00, 6416.55it/s]\n",
            "5000it [00:00, 6144.20it/s]\n"
          ],
          "name": "stderr"
        },
        {
          "output_type": "stream",
          "text": [
            "chunk  109  execution_time  48.17209029197693\n"
          ],
          "name": "stdout"
        },
        {
          "output_type": "stream",
          "text": [
            "0it [00:00, ?it/s]/usr/local/lib/python3.6/dist-packages/ipykernel_launcher.py:98: RuntimeWarning: invalid value encountered in double_scalars\n",
            "5000it [00:00, 6411.82it/s]\n",
            "5000it [00:00, 6231.93it/s]\n"
          ],
          "name": "stderr"
        },
        {
          "output_type": "stream",
          "text": [
            "chunk  110  execution_time  49.553351640701294\n"
          ],
          "name": "stdout"
        },
        {
          "output_type": "stream",
          "text": [
            "0it [00:00, ?it/s]/usr/local/lib/python3.6/dist-packages/ipykernel_launcher.py:98: RuntimeWarning: invalid value encountered in double_scalars\n",
            "5000it [00:00, 6936.24it/s]\n",
            "5000it [00:00, 7042.62it/s]\n"
          ],
          "name": "stderr"
        },
        {
          "output_type": "stream",
          "text": [
            "chunk  111  execution_time  47.1384551525116\n"
          ],
          "name": "stdout"
        },
        {
          "output_type": "stream",
          "text": [
            "0it [00:00, ?it/s]/usr/local/lib/python3.6/dist-packages/ipykernel_launcher.py:98: RuntimeWarning: invalid value encountered in double_scalars\n",
            "5000it [00:00, 6936.40it/s]\n",
            "5000it [00:00, 6994.87it/s]\n"
          ],
          "name": "stderr"
        },
        {
          "output_type": "stream",
          "text": [
            "chunk  112  execution_time  44.91333341598511\n"
          ],
          "name": "stdout"
        },
        {
          "output_type": "stream",
          "text": [
            "0it [00:00, ?it/s]/usr/local/lib/python3.6/dist-packages/ipykernel_launcher.py:98: RuntimeWarning: invalid value encountered in double_scalars\n",
            "5000it [00:00, 7088.30it/s]\n",
            "5000it [00:00, 6935.35it/s]\n"
          ],
          "name": "stderr"
        },
        {
          "output_type": "stream",
          "text": [
            "chunk  113  execution_time  44.390381813049316\n"
          ],
          "name": "stdout"
        },
        {
          "output_type": "stream",
          "text": [
            "0it [00:00, ?it/s]/usr/local/lib/python3.6/dist-packages/ipykernel_launcher.py:98: RuntimeWarning: invalid value encountered in double_scalars\n",
            "5000it [00:00, 6739.49it/s]\n",
            "5000it [00:00, 7125.21it/s]\n"
          ],
          "name": "stderr"
        },
        {
          "output_type": "stream",
          "text": [
            "chunk  114  execution_time  44.72375178337097\n"
          ],
          "name": "stdout"
        },
        {
          "output_type": "stream",
          "text": [
            "0it [00:00, ?it/s]/usr/local/lib/python3.6/dist-packages/ipykernel_launcher.py:98: RuntimeWarning: invalid value encountered in double_scalars\n",
            "5000it [00:00, 6684.26it/s]\n",
            "5000it [00:00, 6549.09it/s]\n"
          ],
          "name": "stderr"
        },
        {
          "output_type": "stream",
          "text": [
            "chunk  115  execution_time  46.47921061515808\n"
          ],
          "name": "stdout"
        },
        {
          "output_type": "stream",
          "text": [
            "0it [00:00, ?it/s]/usr/local/lib/python3.6/dist-packages/ipykernel_launcher.py:98: RuntimeWarning: invalid value encountered in double_scalars\n",
            "5000it [00:00, 6307.51it/s]\n",
            "5000it [00:00, 6289.49it/s]\n"
          ],
          "name": "stderr"
        },
        {
          "output_type": "stream",
          "text": [
            "chunk  116  execution_time  48.178547382354736\n"
          ],
          "name": "stdout"
        },
        {
          "output_type": "stream",
          "text": [
            "0it [00:00, ?it/s]/usr/local/lib/python3.6/dist-packages/ipykernel_launcher.py:98: RuntimeWarning: invalid value encountered in double_scalars\n",
            "5000it [00:00, 6651.01it/s]\n",
            "5000it [00:00, 6738.50it/s]\n"
          ],
          "name": "stderr"
        },
        {
          "output_type": "stream",
          "text": [
            "chunk  117  execution_time  47.39043712615967\n"
          ],
          "name": "stdout"
        },
        {
          "output_type": "stream",
          "text": [
            "0it [00:00, ?it/s]/usr/local/lib/python3.6/dist-packages/ipykernel_launcher.py:98: RuntimeWarning: invalid value encountered in double_scalars\n",
            "5000it [00:00, 6756.83it/s]\n",
            "5000it [00:00, 6723.73it/s]\n"
          ],
          "name": "stderr"
        },
        {
          "output_type": "stream",
          "text": [
            "chunk  118  execution_time  46.24382448196411\n"
          ],
          "name": "stdout"
        },
        {
          "output_type": "stream",
          "text": [
            "0it [00:00, ?it/s]/usr/local/lib/python3.6/dist-packages/ipykernel_launcher.py:98: RuntimeWarning: invalid value encountered in double_scalars\n",
            "5000it [00:00, 6710.35it/s]\n",
            "5000it [00:00, 6728.01it/s]\n"
          ],
          "name": "stderr"
        },
        {
          "output_type": "stream",
          "text": [
            "chunk  119  execution_time  44.556225061416626\n"
          ],
          "name": "stdout"
        },
        {
          "output_type": "stream",
          "text": [
            "0it [00:00, ?it/s]/usr/local/lib/python3.6/dist-packages/ipykernel_launcher.py:98: RuntimeWarning: invalid value encountered in double_scalars\n",
            "5000it [00:00, 7182.86it/s]\n",
            "5000it [00:00, 6896.82it/s]\n"
          ],
          "name": "stderr"
        },
        {
          "output_type": "stream",
          "text": [
            "chunk  120  execution_time  44.15735912322998\n"
          ],
          "name": "stdout"
        },
        {
          "output_type": "stream",
          "text": [
            "0it [00:00, ?it/s]/usr/local/lib/python3.6/dist-packages/ipykernel_launcher.py:98: RuntimeWarning: invalid value encountered in double_scalars\n",
            "5000it [00:00, 7065.99it/s]\n",
            "5000it [00:00, 6895.46it/s]\n"
          ],
          "name": "stderr"
        },
        {
          "output_type": "stream",
          "text": [
            "chunk  121  execution_time  45.11161398887634\n"
          ],
          "name": "stdout"
        },
        {
          "output_type": "stream",
          "text": [
            "0it [00:00, ?it/s]/usr/local/lib/python3.6/dist-packages/ipykernel_launcher.py:98: RuntimeWarning: invalid value encountered in double_scalars\n",
            "5000it [00:00, 6693.72it/s]\n",
            "5000it [00:00, 6354.86it/s]\n"
          ],
          "name": "stderr"
        },
        {
          "output_type": "stream",
          "text": [
            "chunk  122  execution_time  47.10333752632141\n"
          ],
          "name": "stdout"
        },
        {
          "output_type": "stream",
          "text": [
            "0it [00:00, ?it/s]/usr/local/lib/python3.6/dist-packages/ipykernel_launcher.py:98: RuntimeWarning: invalid value encountered in double_scalars\n",
            "5000it [00:00, 6216.96it/s]\n",
            "5000it [00:00, 6256.22it/s]\n"
          ],
          "name": "stderr"
        },
        {
          "output_type": "stream",
          "text": [
            "chunk  123  execution_time  46.749995946884155\n"
          ],
          "name": "stdout"
        },
        {
          "output_type": "stream",
          "text": [
            "0it [00:00, ?it/s]/usr/local/lib/python3.6/dist-packages/ipykernel_launcher.py:98: RuntimeWarning: invalid value encountered in double_scalars\n",
            "5000it [00:00, 6646.64it/s]\n",
            "5000it [00:00, 6731.25it/s]\n"
          ],
          "name": "stderr"
        },
        {
          "output_type": "stream",
          "text": [
            "chunk  124  execution_time  46.19278168678284\n"
          ],
          "name": "stdout"
        },
        {
          "output_type": "stream",
          "text": [
            "0it [00:00, ?it/s]/usr/local/lib/python3.6/dist-packages/ipykernel_launcher.py:98: RuntimeWarning: invalid value encountered in double_scalars\n",
            "5000it [00:00, 6719.65it/s]\n",
            "5000it [00:00, 6884.03it/s]\n"
          ],
          "name": "stderr"
        },
        {
          "output_type": "stream",
          "text": [
            "chunk  125  execution_time  45.70195555686951\n"
          ],
          "name": "stdout"
        },
        {
          "output_type": "stream",
          "text": [
            "0it [00:00, ?it/s]/usr/local/lib/python3.6/dist-packages/ipykernel_launcher.py:98: RuntimeWarning: invalid value encountered in double_scalars\n",
            "5000it [00:00, 6978.27it/s]\n",
            "5000it [00:00, 7017.23it/s]\n"
          ],
          "name": "stderr"
        },
        {
          "output_type": "stream",
          "text": [
            "chunk  126  execution_time  44.43023705482483\n"
          ],
          "name": "stdout"
        },
        {
          "output_type": "stream",
          "text": [
            "0it [00:00, ?it/s]/usr/local/lib/python3.6/dist-packages/ipykernel_launcher.py:98: RuntimeWarning: invalid value encountered in double_scalars\n",
            "5000it [00:00, 6711.17it/s]\n",
            "5000it [00:00, 6980.67it/s]\n"
          ],
          "name": "stderr"
        },
        {
          "output_type": "stream",
          "text": [
            "chunk  127  execution_time  45.24884867668152\n"
          ],
          "name": "stdout"
        },
        {
          "output_type": "stream",
          "text": [
            "0it [00:00, ?it/s]/usr/local/lib/python3.6/dist-packages/ipykernel_launcher.py:98: RuntimeWarning: invalid value encountered in double_scalars\n",
            "5000it [00:00, 7043.69it/s]\n",
            "5000it [00:00, 7218.09it/s]\n"
          ],
          "name": "stderr"
        },
        {
          "output_type": "stream",
          "text": [
            "chunk  128  execution_time  44.13087296485901\n"
          ],
          "name": "stdout"
        },
        {
          "output_type": "stream",
          "text": [
            "0it [00:00, ?it/s]/usr/local/lib/python3.6/dist-packages/ipykernel_launcher.py:98: RuntimeWarning: invalid value encountered in double_scalars\n",
            "5000it [00:00, 7076.55it/s]\n",
            "5000it [00:00, 7291.81it/s]\n"
          ],
          "name": "stderr"
        },
        {
          "output_type": "stream",
          "text": [
            "chunk  129  execution_time  44.73188352584839\n"
          ],
          "name": "stdout"
        },
        {
          "output_type": "stream",
          "text": [
            "0it [00:00, ?it/s]/usr/local/lib/python3.6/dist-packages/ipykernel_launcher.py:98: RuntimeWarning: invalid value encountered in double_scalars\n",
            "5000it [00:00, 7032.57it/s]\n",
            "5000it [00:00, 7290.64it/s]\n"
          ],
          "name": "stderr"
        },
        {
          "output_type": "stream",
          "text": [
            "chunk  130  execution_time  44.4900324344635\n"
          ],
          "name": "stdout"
        },
        {
          "output_type": "stream",
          "text": [
            "0it [00:00, ?it/s]/usr/local/lib/python3.6/dist-packages/ipykernel_launcher.py:98: RuntimeWarning: invalid value encountered in double_scalars\n",
            "5000it [00:00, 7073.10it/s]\n",
            "5000it [00:00, 7248.87it/s]\n"
          ],
          "name": "stderr"
        },
        {
          "output_type": "stream",
          "text": [
            "chunk  131  execution_time  44.23083710670471\n"
          ],
          "name": "stdout"
        },
        {
          "output_type": "stream",
          "text": [
            "0it [00:00, ?it/s]/usr/local/lib/python3.6/dist-packages/ipykernel_launcher.py:98: RuntimeWarning: invalid value encountered in double_scalars\n",
            "5000it [00:00, 7057.31it/s]\n",
            "5000it [00:00, 6721.26it/s]\n"
          ],
          "name": "stderr"
        },
        {
          "output_type": "stream",
          "text": [
            "chunk  132  execution_time  43.603586196899414\n"
          ],
          "name": "stdout"
        },
        {
          "output_type": "stream",
          "text": [
            "0it [00:00, ?it/s]/usr/local/lib/python3.6/dist-packages/ipykernel_launcher.py:98: RuntimeWarning: invalid value encountered in double_scalars\n",
            "5000it [00:00, 7002.28it/s]\n",
            "5000it [00:00, 6954.10it/s]\n"
          ],
          "name": "stderr"
        },
        {
          "output_type": "stream",
          "text": [
            "chunk  133  execution_time  43.92684602737427\n"
          ],
          "name": "stdout"
        },
        {
          "output_type": "stream",
          "text": [
            "0it [00:00, ?it/s]/usr/local/lib/python3.6/dist-packages/ipykernel_launcher.py:98: RuntimeWarning: invalid value encountered in double_scalars\n",
            "5000it [00:00, 6992.11it/s]\n",
            "5000it [00:00, 6988.49it/s]\n"
          ],
          "name": "stderr"
        },
        {
          "output_type": "stream",
          "text": [
            "chunk  134  execution_time  43.39842629432678\n"
          ],
          "name": "stdout"
        },
        {
          "output_type": "stream",
          "text": [
            "0it [00:00, ?it/s]/usr/local/lib/python3.6/dist-packages/ipykernel_launcher.py:98: RuntimeWarning: invalid value encountered in double_scalars\n",
            "5000it [00:00, 6909.06it/s]\n",
            "5000it [00:00, 6424.42it/s]\n"
          ],
          "name": "stderr"
        },
        {
          "output_type": "stream",
          "text": [
            "chunk  135  execution_time  45.72401714324951\n"
          ],
          "name": "stdout"
        },
        {
          "output_type": "stream",
          "text": [
            "0it [00:00, ?it/s]/usr/local/lib/python3.6/dist-packages/ipykernel_launcher.py:98: RuntimeWarning: invalid value encountered in double_scalars\n",
            "5000it [00:00, 6222.19it/s]\n",
            "5000it [00:00, 6092.79it/s]\n"
          ],
          "name": "stderr"
        },
        {
          "output_type": "stream",
          "text": [
            "chunk  136  execution_time  45.31185698509216\n"
          ],
          "name": "stdout"
        },
        {
          "output_type": "stream",
          "text": [
            "0it [00:00, ?it/s]/usr/local/lib/python3.6/dist-packages/ipykernel_launcher.py:98: RuntimeWarning: invalid value encountered in double_scalars\n",
            "5000it [00:00, 6245.93it/s]\n",
            "5000it [00:00, 6301.67it/s]\n"
          ],
          "name": "stderr"
        },
        {
          "output_type": "stream",
          "text": [
            "chunk  137  execution_time  50.14941096305847\n"
          ],
          "name": "stdout"
        },
        {
          "output_type": "stream",
          "text": [
            "0it [00:00, ?it/s]/usr/local/lib/python3.6/dist-packages/ipykernel_launcher.py:98: RuntimeWarning: invalid value encountered in double_scalars\n",
            "5000it [00:00, 6213.61it/s]\n",
            "5000it [00:00, 6270.49it/s]\n"
          ],
          "name": "stderr"
        },
        {
          "output_type": "stream",
          "text": [
            "chunk  138  execution_time  49.77301335334778\n"
          ],
          "name": "stdout"
        },
        {
          "output_type": "stream",
          "text": [
            "0it [00:00, ?it/s]/usr/local/lib/python3.6/dist-packages/ipykernel_launcher.py:98: RuntimeWarning: invalid value encountered in double_scalars\n",
            "5000it [00:00, 6066.06it/s]\n",
            "5000it [00:00, 6151.32it/s]\n"
          ],
          "name": "stderr"
        },
        {
          "output_type": "stream",
          "text": [
            "chunk  139  execution_time  49.55346894264221\n"
          ],
          "name": "stdout"
        },
        {
          "output_type": "stream",
          "text": [
            "0it [00:00, ?it/s]/usr/local/lib/python3.6/dist-packages/ipykernel_launcher.py:98: RuntimeWarning: invalid value encountered in double_scalars\n",
            "5000it [00:00, 6031.81it/s]\n",
            "5000it [00:00, 6166.53it/s]\n"
          ],
          "name": "stderr"
        },
        {
          "output_type": "stream",
          "text": [
            "chunk  140  execution_time  50.13748502731323\n"
          ],
          "name": "stdout"
        },
        {
          "output_type": "stream",
          "text": [
            "0it [00:00, ?it/s]/usr/local/lib/python3.6/dist-packages/ipykernel_launcher.py:98: RuntimeWarning: invalid value encountered in double_scalars\n",
            "5000it [00:00, 7294.98it/s]\n",
            "5000it [00:00, 7095.34it/s]\n"
          ],
          "name": "stderr"
        },
        {
          "output_type": "stream",
          "text": [
            "chunk  141  execution_time  46.277423620224\n"
          ],
          "name": "stdout"
        },
        {
          "output_type": "stream",
          "text": [
            "0it [00:00, ?it/s]/usr/local/lib/python3.6/dist-packages/ipykernel_launcher.py:98: RuntimeWarning: invalid value encountered in double_scalars\n",
            "5000it [00:00, 7082.72it/s]\n",
            "5000it [00:00, 6809.53it/s]\n"
          ],
          "name": "stderr"
        },
        {
          "output_type": "stream",
          "text": [
            "chunk  142  execution_time  43.33403778076172\n"
          ],
          "name": "stdout"
        },
        {
          "output_type": "stream",
          "text": [
            "0it [00:00, ?it/s]/usr/local/lib/python3.6/dist-packages/ipykernel_launcher.py:98: RuntimeWarning: invalid value encountered in double_scalars\n",
            "5000it [00:00, 6735.68it/s]\n",
            "5000it [00:00, 7101.44it/s]\n"
          ],
          "name": "stderr"
        },
        {
          "output_type": "stream",
          "text": [
            "chunk  143  execution_time  44.25848960876465\n"
          ],
          "name": "stdout"
        },
        {
          "output_type": "stream",
          "text": [
            "0it [00:00, ?it/s]/usr/local/lib/python3.6/dist-packages/ipykernel_launcher.py:98: RuntimeWarning: invalid value encountered in double_scalars\n",
            "5000it [00:00, 6788.98it/s]\n",
            "5000it [00:00, 6967.88it/s]\n"
          ],
          "name": "stderr"
        },
        {
          "output_type": "stream",
          "text": [
            "chunk  144  execution_time  44.92044258117676\n"
          ],
          "name": "stdout"
        },
        {
          "output_type": "stream",
          "text": [
            "0it [00:00, ?it/s]/usr/local/lib/python3.6/dist-packages/ipykernel_launcher.py:98: RuntimeWarning: invalid value encountered in double_scalars\n",
            "5000it [00:00, 6706.16it/s]\n",
            "5000it [00:00, 6992.36it/s]\n"
          ],
          "name": "stderr"
        },
        {
          "output_type": "stream",
          "text": [
            "chunk  145  execution_time  43.605488777160645\n"
          ],
          "name": "stdout"
        },
        {
          "output_type": "stream",
          "text": [
            "0it [00:00, ?it/s]/usr/local/lib/python3.6/dist-packages/ipykernel_launcher.py:98: RuntimeWarning: invalid value encountered in double_scalars\n",
            "5000it [00:00, 7049.42it/s]\n",
            "5000it [00:00, 6876.68it/s]\n"
          ],
          "name": "stderr"
        },
        {
          "output_type": "stream",
          "text": [
            "chunk  146  execution_time  43.39401698112488\n"
          ],
          "name": "stdout"
        },
        {
          "output_type": "stream",
          "text": [
            "0it [00:00, ?it/s]/usr/local/lib/python3.6/dist-packages/ipykernel_launcher.py:98: RuntimeWarning: invalid value encountered in double_scalars\n",
            "5000it [00:00, 6626.52it/s]\n",
            "5000it [00:00, 6726.68it/s]\n"
          ],
          "name": "stderr"
        },
        {
          "output_type": "stream",
          "text": [
            "chunk  147  execution_time  43.69620490074158\n"
          ],
          "name": "stdout"
        },
        {
          "output_type": "stream",
          "text": [
            "0it [00:00, ?it/s]/usr/local/lib/python3.6/dist-packages/ipykernel_launcher.py:98: RuntimeWarning: invalid value encountered in double_scalars\n",
            "5000it [00:00, 6231.69it/s]\n",
            "5000it [00:00, 6143.96it/s]\n"
          ],
          "name": "stderr"
        },
        {
          "output_type": "stream",
          "text": [
            "chunk  148  execution_time  50.2904486656189\n"
          ],
          "name": "stdout"
        },
        {
          "output_type": "stream",
          "text": [
            "0it [00:00, ?it/s]/usr/local/lib/python3.6/dist-packages/ipykernel_launcher.py:98: RuntimeWarning: invalid value encountered in double_scalars\n",
            "5000it [00:00, 6126.68it/s]\n",
            "5000it [00:00, 6203.18it/s]\n"
          ],
          "name": "stderr"
        },
        {
          "output_type": "stream",
          "text": [
            "chunk  149  execution_time  49.092631101608276\n"
          ],
          "name": "stdout"
        },
        {
          "output_type": "stream",
          "text": [
            "0it [00:00, ?it/s]/usr/local/lib/python3.6/dist-packages/ipykernel_launcher.py:98: RuntimeWarning: invalid value encountered in double_scalars\n",
            "5000it [00:00, 6968.69it/s]\n",
            "5000it [00:00, 6851.18it/s]\n"
          ],
          "name": "stderr"
        },
        {
          "output_type": "stream",
          "text": [
            "chunk  150  execution_time  45.43012285232544\n"
          ],
          "name": "stdout"
        },
        {
          "output_type": "stream",
          "text": [
            "0it [00:00, ?it/s]/usr/local/lib/python3.6/dist-packages/ipykernel_launcher.py:98: RuntimeWarning: invalid value encountered in double_scalars\n",
            "5000it [00:00, 7075.52it/s]\n",
            "5000it [00:00, 7195.21it/s]\n"
          ],
          "name": "stderr"
        },
        {
          "output_type": "stream",
          "text": [
            "chunk  151  execution_time  44.17072319984436\n"
          ],
          "name": "stdout"
        },
        {
          "output_type": "stream",
          "text": [
            "0it [00:00, ?it/s]/usr/local/lib/python3.6/dist-packages/ipykernel_launcher.py:98: RuntimeWarning: invalid value encountered in double_scalars\n",
            "5000it [00:00, 7281.64it/s]\n",
            "5000it [00:00, 7374.63it/s]\n"
          ],
          "name": "stderr"
        },
        {
          "output_type": "stream",
          "text": [
            "chunk  152  execution_time  43.08136820793152\n"
          ],
          "name": "stdout"
        },
        {
          "output_type": "stream",
          "text": [
            "0it [00:00, ?it/s]/usr/local/lib/python3.6/dist-packages/ipykernel_launcher.py:98: RuntimeWarning: invalid value encountered in double_scalars\n",
            "5000it [00:00, 7040.70it/s]\n",
            "5000it [00:00, 7304.36it/s]\n"
          ],
          "name": "stderr"
        },
        {
          "output_type": "stream",
          "text": [
            "chunk  153  execution_time  42.68732166290283\n"
          ],
          "name": "stdout"
        },
        {
          "output_type": "stream",
          "text": [
            "0it [00:00, ?it/s]/usr/local/lib/python3.6/dist-packages/ipykernel_launcher.py:98: RuntimeWarning: invalid value encountered in double_scalars\n",
            "5000it [00:00, 7138.81it/s]\n",
            "5000it [00:00, 6933.33it/s]\n"
          ],
          "name": "stderr"
        },
        {
          "output_type": "stream",
          "text": [
            "chunk  154  execution_time  43.686999797821045\n"
          ],
          "name": "stdout"
        },
        {
          "output_type": "stream",
          "text": [
            "0it [00:00, ?it/s]/usr/local/lib/python3.6/dist-packages/ipykernel_launcher.py:98: RuntimeWarning: invalid value encountered in double_scalars\n",
            "5000it [00:00, 6247.68it/s]\n",
            "5000it [00:00, 6396.98it/s]\n"
          ],
          "name": "stderr"
        },
        {
          "output_type": "stream",
          "text": [
            "chunk  155  execution_time  49.31622672080994\n"
          ],
          "name": "stdout"
        },
        {
          "output_type": "stream",
          "text": [
            "0it [00:00, ?it/s]/usr/local/lib/python3.6/dist-packages/ipykernel_launcher.py:98: RuntimeWarning: invalid value encountered in double_scalars\n",
            "5000it [00:00, 7011.15it/s]\n",
            "5000it [00:00, 7029.13it/s]\n"
          ],
          "name": "stderr"
        },
        {
          "output_type": "stream",
          "text": [
            "chunk  156  execution_time  46.09584331512451\n"
          ],
          "name": "stdout"
        },
        {
          "output_type": "stream",
          "text": [
            "0it [00:00, ?it/s]/usr/local/lib/python3.6/dist-packages/ipykernel_launcher.py:98: RuntimeWarning: invalid value encountered in double_scalars\n",
            "5000it [00:00, 6946.26it/s]\n",
            "5000it [00:00, 7146.36it/s]\n"
          ],
          "name": "stderr"
        },
        {
          "output_type": "stream",
          "text": [
            "chunk  157  execution_time  43.316885232925415\n"
          ],
          "name": "stdout"
        },
        {
          "output_type": "stream",
          "text": [
            "0it [00:00, ?it/s]/usr/local/lib/python3.6/dist-packages/ipykernel_launcher.py:98: RuntimeWarning: invalid value encountered in double_scalars\n",
            "5000it [00:00, 7127.72it/s]\n",
            "5000it [00:00, 7031.77it/s]\n"
          ],
          "name": "stderr"
        },
        {
          "output_type": "stream",
          "text": [
            "chunk  158  execution_time  43.39002704620361\n"
          ],
          "name": "stdout"
        },
        {
          "output_type": "stream",
          "text": [
            "0it [00:00, ?it/s]/usr/local/lib/python3.6/dist-packages/ipykernel_launcher.py:98: RuntimeWarning: invalid value encountered in double_scalars\n",
            "5000it [00:00, 7344.74it/s]\n",
            "5000it [00:00, 7249.27it/s]\n"
          ],
          "name": "stderr"
        },
        {
          "output_type": "stream",
          "text": [
            "chunk  159  execution_time  43.37247562408447\n"
          ],
          "name": "stdout"
        },
        {
          "output_type": "stream",
          "text": [
            "0it [00:00, ?it/s]/usr/local/lib/python3.6/dist-packages/ipykernel_launcher.py:98: RuntimeWarning: invalid value encountered in double_scalars\n",
            "5000it [00:00, 7308.96it/s]\n",
            "5000it [00:00, 7283.98it/s]\n"
          ],
          "name": "stderr"
        },
        {
          "output_type": "stream",
          "text": [
            "chunk  160  execution_time  43.770156145095825\n"
          ],
          "name": "stdout"
        },
        {
          "output_type": "stream",
          "text": [
            "0it [00:00, ?it/s]/usr/local/lib/python3.6/dist-packages/ipykernel_launcher.py:98: RuntimeWarning: invalid value encountered in double_scalars\n",
            "5000it [00:00, 7090.53it/s]\n",
            "5000it [00:00, 7218.02it/s]\n"
          ],
          "name": "stderr"
        },
        {
          "output_type": "stream",
          "text": [
            "chunk  161  execution_time  44.44329762458801\n"
          ],
          "name": "stdout"
        },
        {
          "output_type": "stream",
          "text": [
            "0it [00:00, ?it/s]/usr/local/lib/python3.6/dist-packages/ipykernel_launcher.py:98: RuntimeWarning: invalid value encountered in double_scalars\n",
            "5000it [00:00, 6911.89it/s]\n",
            "5000it [00:00, 6886.14it/s]\n"
          ],
          "name": "stderr"
        },
        {
          "output_type": "stream",
          "text": [
            "chunk  162  execution_time  43.0925977230072\n"
          ],
          "name": "stdout"
        },
        {
          "output_type": "stream",
          "text": [
            "0it [00:00, ?it/s]/usr/local/lib/python3.6/dist-packages/ipykernel_launcher.py:98: RuntimeWarning: invalid value encountered in double_scalars\n",
            "5000it [00:00, 7203.00it/s]\n",
            "5000it [00:00, 7123.01it/s]\n"
          ],
          "name": "stderr"
        },
        {
          "output_type": "stream",
          "text": [
            "chunk  163  execution_time  43.57950043678284\n"
          ],
          "name": "stdout"
        },
        {
          "output_type": "stream",
          "text": [
            "0it [00:00, ?it/s]/usr/local/lib/python3.6/dist-packages/ipykernel_launcher.py:98: RuntimeWarning: invalid value encountered in double_scalars\n",
            "5000it [00:00, 6868.07it/s]\n",
            "5000it [00:00, 6780.13it/s]\n"
          ],
          "name": "stderr"
        },
        {
          "output_type": "stream",
          "text": [
            "chunk  164  execution_time  44.30470156669617\n"
          ],
          "name": "stdout"
        },
        {
          "output_type": "stream",
          "text": [
            "0it [00:00, ?it/s]/usr/local/lib/python3.6/dist-packages/ipykernel_launcher.py:98: RuntimeWarning: invalid value encountered in double_scalars\n",
            "5000it [00:00, 7145.26it/s]\n",
            "5000it [00:00, 6789.00it/s]\n"
          ],
          "name": "stderr"
        },
        {
          "output_type": "stream",
          "text": [
            "chunk  165  execution_time  43.066725969314575\n"
          ],
          "name": "stdout"
        },
        {
          "output_type": "stream",
          "text": [
            "0it [00:00, ?it/s]/usr/local/lib/python3.6/dist-packages/ipykernel_launcher.py:98: RuntimeWarning: invalid value encountered in double_scalars\n",
            "5000it [00:00, 7155.91it/s]\n",
            "5000it [00:00, 6938.49it/s]\n"
          ],
          "name": "stderr"
        },
        {
          "output_type": "stream",
          "text": [
            "chunk  166  execution_time  43.42812776565552\n"
          ],
          "name": "stdout"
        },
        {
          "output_type": "stream",
          "text": [
            "0it [00:00, ?it/s]/usr/local/lib/python3.6/dist-packages/ipykernel_launcher.py:98: RuntimeWarning: invalid value encountered in double_scalars\n",
            "5000it [00:00, 6801.36it/s]\n",
            "5000it [00:00, 6613.23it/s]\n"
          ],
          "name": "stderr"
        },
        {
          "output_type": "stream",
          "text": [
            "chunk  167  execution_time  45.498111963272095\n"
          ],
          "name": "stdout"
        },
        {
          "output_type": "stream",
          "text": [
            "0it [00:00, ?it/s]/usr/local/lib/python3.6/dist-packages/ipykernel_launcher.py:98: RuntimeWarning: invalid value encountered in double_scalars\n",
            "5000it [00:00, 6585.17it/s]\n",
            "5000it [00:00, 6664.68it/s]\n"
          ],
          "name": "stderr"
        },
        {
          "output_type": "stream",
          "text": [
            "chunk  168  execution_time  46.74876856803894\n"
          ],
          "name": "stdout"
        },
        {
          "output_type": "stream",
          "text": [
            "0it [00:00, ?it/s]/usr/local/lib/python3.6/dist-packages/ipykernel_launcher.py:98: RuntimeWarning: invalid value encountered in double_scalars\n",
            "5000it [00:00, 6750.96it/s]\n",
            "5000it [00:00, 6840.77it/s]\n"
          ],
          "name": "stderr"
        },
        {
          "output_type": "stream",
          "text": [
            "chunk  169  execution_time  45.690372705459595\n"
          ],
          "name": "stdout"
        },
        {
          "output_type": "stream",
          "text": [
            "0it [00:00, ?it/s]/usr/local/lib/python3.6/dist-packages/ipykernel_launcher.py:98: RuntimeWarning: invalid value encountered in double_scalars\n",
            "5000it [00:00, 6726.59it/s]\n",
            "5000it [00:00, 6768.61it/s]\n"
          ],
          "name": "stderr"
        },
        {
          "output_type": "stream",
          "text": [
            "chunk  170  execution_time  45.443310022354126\n"
          ],
          "name": "stdout"
        },
        {
          "output_type": "stream",
          "text": [
            "0it [00:00, ?it/s]/usr/local/lib/python3.6/dist-packages/ipykernel_launcher.py:98: RuntimeWarning: invalid value encountered in double_scalars\n",
            "5000it [00:00, 6800.13it/s]\n",
            "5000it [00:00, 6448.23it/s]\n"
          ],
          "name": "stderr"
        },
        {
          "output_type": "stream",
          "text": [
            "chunk  171  execution_time  46.1622314453125\n"
          ],
          "name": "stdout"
        },
        {
          "output_type": "stream",
          "text": [
            "0it [00:00, ?it/s]/usr/local/lib/python3.6/dist-packages/ipykernel_launcher.py:98: RuntimeWarning: invalid value encountered in double_scalars\n",
            "5000it [00:00, 6876.39it/s]\n",
            "5000it [00:00, 6926.81it/s]\n"
          ],
          "name": "stderr"
        },
        {
          "output_type": "stream",
          "text": [
            "chunk  172  execution_time  44.911296367645264\n"
          ],
          "name": "stdout"
        },
        {
          "output_type": "stream",
          "text": [
            "0it [00:00, ?it/s]/usr/local/lib/python3.6/dist-packages/ipykernel_launcher.py:98: RuntimeWarning: invalid value encountered in double_scalars\n",
            "5000it [00:00, 6918.50it/s]\n",
            "5000it [00:00, 6995.09it/s]\n"
          ],
          "name": "stderr"
        },
        {
          "output_type": "stream",
          "text": [
            "chunk  173  execution_time  43.82898163795471\n"
          ],
          "name": "stdout"
        },
        {
          "output_type": "stream",
          "text": [
            "0it [00:00, ?it/s]/usr/local/lib/python3.6/dist-packages/ipykernel_launcher.py:98: RuntimeWarning: invalid value encountered in double_scalars\n",
            "5000it [00:00, 6901.32it/s]\n",
            "5000it [00:00, 6685.62it/s]\n"
          ],
          "name": "stderr"
        },
        {
          "output_type": "stream",
          "text": [
            "chunk  174  execution_time  45.478439807891846\n"
          ],
          "name": "stdout"
        },
        {
          "output_type": "stream",
          "text": [
            "0it [00:00, ?it/s]/usr/local/lib/python3.6/dist-packages/ipykernel_launcher.py:98: RuntimeWarning: invalid value encountered in double_scalars\n",
            "5000it [00:00, 6800.42it/s]\n",
            "5000it [00:00, 6691.89it/s]\n"
          ],
          "name": "stderr"
        },
        {
          "output_type": "stream",
          "text": [
            "chunk  175  execution_time  44.460479974746704\n"
          ],
          "name": "stdout"
        },
        {
          "output_type": "stream",
          "text": [
            "0it [00:00, ?it/s]/usr/local/lib/python3.6/dist-packages/ipykernel_launcher.py:98: RuntimeWarning: invalid value encountered in double_scalars\n",
            "5000it [00:00, 6972.38it/s]\n",
            "5000it [00:00, 7154.51it/s]\n"
          ],
          "name": "stderr"
        },
        {
          "output_type": "stream",
          "text": [
            "chunk  176  execution_time  43.726036071777344\n"
          ],
          "name": "stdout"
        },
        {
          "output_type": "stream",
          "text": [
            "0it [00:00, ?it/s]/usr/local/lib/python3.6/dist-packages/ipykernel_launcher.py:98: RuntimeWarning: invalid value encountered in double_scalars\n",
            "5000it [00:00, 7107.85it/s]\n",
            "5000it [00:00, 6862.97it/s]\n"
          ],
          "name": "stderr"
        },
        {
          "output_type": "stream",
          "text": [
            "chunk  177  execution_time  44.618712425231934\n"
          ],
          "name": "stdout"
        },
        {
          "output_type": "stream",
          "text": [
            "0it [00:00, ?it/s]/usr/local/lib/python3.6/dist-packages/ipykernel_launcher.py:98: RuntimeWarning: invalid value encountered in double_scalars\n",
            "5000it [00:00, 6625.73it/s]\n",
            "5000it [00:00, 6814.64it/s]\n"
          ],
          "name": "stderr"
        },
        {
          "output_type": "stream",
          "text": [
            "chunk  178  execution_time  44.870810985565186\n"
          ],
          "name": "stdout"
        },
        {
          "output_type": "stream",
          "text": [
            "0it [00:00, ?it/s]/usr/local/lib/python3.6/dist-packages/ipykernel_launcher.py:98: RuntimeWarning: invalid value encountered in double_scalars\n",
            "5000it [00:00, 6833.61it/s]\n",
            "5000it [00:00, 6618.77it/s]\n"
          ],
          "name": "stderr"
        },
        {
          "output_type": "stream",
          "text": [
            "chunk  179  execution_time  45.25246977806091\n"
          ],
          "name": "stdout"
        },
        {
          "output_type": "stream",
          "text": [
            "0it [00:00, ?it/s]/usr/local/lib/python3.6/dist-packages/ipykernel_launcher.py:98: RuntimeWarning: invalid value encountered in double_scalars\n",
            "5000it [00:00, 6912.84it/s]\n",
            "5000it [00:00, 6630.19it/s]\n"
          ],
          "name": "stderr"
        },
        {
          "output_type": "stream",
          "text": [
            "chunk  180  execution_time  45.56693696975708\n"
          ],
          "name": "stdout"
        },
        {
          "output_type": "stream",
          "text": [
            "0it [00:00, ?it/s]/usr/local/lib/python3.6/dist-packages/ipykernel_launcher.py:98: RuntimeWarning: invalid value encountered in double_scalars\n",
            "5000it [00:00, 6815.56it/s]\n",
            "5000it [00:00, 6696.05it/s]\n"
          ],
          "name": "stderr"
        },
        {
          "output_type": "stream",
          "text": [
            "chunk  181  execution_time  45.20775866508484\n"
          ],
          "name": "stdout"
        },
        {
          "output_type": "stream",
          "text": [
            "0it [00:00, ?it/s]/usr/local/lib/python3.6/dist-packages/ipykernel_launcher.py:98: RuntimeWarning: invalid value encountered in double_scalars\n",
            "5000it [00:00, 6587.95it/s]\n",
            "5000it [00:00, 6628.23it/s]\n"
          ],
          "name": "stderr"
        },
        {
          "output_type": "stream",
          "text": [
            "chunk  182  execution_time  47.46359133720398\n"
          ],
          "name": "stdout"
        },
        {
          "output_type": "stream",
          "text": [
            "0it [00:00, ?it/s]/usr/local/lib/python3.6/dist-packages/ipykernel_launcher.py:98: RuntimeWarning: invalid value encountered in double_scalars\n",
            "5000it [00:00, 6649.38it/s]\n",
            "5000it [00:00, 6695.56it/s]\n"
          ],
          "name": "stderr"
        },
        {
          "output_type": "stream",
          "text": [
            "chunk  183  execution_time  45.82250499725342\n"
          ],
          "name": "stdout"
        },
        {
          "output_type": "stream",
          "text": [
            "0it [00:00, ?it/s]/usr/local/lib/python3.6/dist-packages/ipykernel_launcher.py:98: RuntimeWarning: invalid value encountered in double_scalars\n",
            "5000it [00:00, 6719.06it/s]\n",
            "5000it [00:00, 6863.04it/s]\n"
          ],
          "name": "stderr"
        },
        {
          "output_type": "stream",
          "text": [
            "chunk  184  execution_time  44.97786593437195\n"
          ],
          "name": "stdout"
        },
        {
          "output_type": "stream",
          "text": [
            "0it [00:00, ?it/s]/usr/local/lib/python3.6/dist-packages/ipykernel_launcher.py:98: RuntimeWarning: invalid value encountered in double_scalars\n",
            "5000it [00:00, 6539.71it/s]\n",
            "5000it [00:00, 6652.11it/s]\n"
          ],
          "name": "stderr"
        },
        {
          "output_type": "stream",
          "text": [
            "chunk  185  execution_time  46.04211378097534\n"
          ],
          "name": "stdout"
        },
        {
          "output_type": "stream",
          "text": [
            "0it [00:00, ?it/s]/usr/local/lib/python3.6/dist-packages/ipykernel_launcher.py:98: RuntimeWarning: invalid value encountered in double_scalars\n",
            "5000it [00:00, 6589.21it/s]\n",
            "5000it [00:00, 6663.79it/s]\n"
          ],
          "name": "stderr"
        },
        {
          "output_type": "stream",
          "text": [
            "chunk  186  execution_time  45.942978858947754\n"
          ],
          "name": "stdout"
        },
        {
          "output_type": "stream",
          "text": [
            "0it [00:00, ?it/s]/usr/local/lib/python3.6/dist-packages/ipykernel_launcher.py:98: RuntimeWarning: invalid value encountered in double_scalars\n",
            "5000it [00:00, 6668.95it/s]\n",
            "5000it [00:00, 6711.09it/s]\n"
          ],
          "name": "stderr"
        },
        {
          "output_type": "stream",
          "text": [
            "chunk  187  execution_time  46.01637315750122\n"
          ],
          "name": "stdout"
        },
        {
          "output_type": "stream",
          "text": [
            "0it [00:00, ?it/s]/usr/local/lib/python3.6/dist-packages/ipykernel_launcher.py:98: RuntimeWarning: invalid value encountered in double_scalars\n",
            "5000it [00:00, 6675.38it/s]\n",
            "5000it [00:00, 6755.91it/s]\n"
          ],
          "name": "stderr"
        },
        {
          "output_type": "stream",
          "text": [
            "chunk  188  execution_time  46.011719942092896\n"
          ],
          "name": "stdout"
        },
        {
          "output_type": "stream",
          "text": [
            "0it [00:00, ?it/s]/usr/local/lib/python3.6/dist-packages/ipykernel_launcher.py:98: RuntimeWarning: invalid value encountered in double_scalars\n",
            "5000it [00:00, 6779.10it/s]\n",
            "5000it [00:00, 6620.75it/s]\n"
          ],
          "name": "stderr"
        },
        {
          "output_type": "stream",
          "text": [
            "chunk  189  execution_time  45.38146471977234\n"
          ],
          "name": "stdout"
        },
        {
          "output_type": "stream",
          "text": [
            "0it [00:00, ?it/s]/usr/local/lib/python3.6/dist-packages/ipykernel_launcher.py:98: RuntimeWarning: invalid value encountered in double_scalars\n",
            "5000it [00:00, 6541.92it/s]\n",
            "5000it [00:00, 6501.62it/s]\n"
          ],
          "name": "stderr"
        },
        {
          "output_type": "stream",
          "text": [
            "chunk  190  execution_time  45.54944968223572\n"
          ],
          "name": "stdout"
        },
        {
          "output_type": "stream",
          "text": [
            "0it [00:00, ?it/s]/usr/local/lib/python3.6/dist-packages/ipykernel_launcher.py:98: RuntimeWarning: invalid value encountered in double_scalars\n",
            "5000it [00:00, 6727.72it/s]\n",
            "5000it [00:00, 6518.07it/s]\n"
          ],
          "name": "stderr"
        },
        {
          "output_type": "stream",
          "text": [
            "chunk  191  execution_time  44.9802668094635\n"
          ],
          "name": "stdout"
        },
        {
          "output_type": "stream",
          "text": [
            "0it [00:00, ?it/s]/usr/local/lib/python3.6/dist-packages/ipykernel_launcher.py:98: RuntimeWarning: invalid value encountered in double_scalars\n",
            "5000it [00:00, 6858.79it/s]\n",
            "5000it [00:00, 6667.12it/s]\n"
          ],
          "name": "stderr"
        },
        {
          "output_type": "stream",
          "text": [
            "chunk  192  execution_time  46.43095874786377\n"
          ],
          "name": "stdout"
        },
        {
          "output_type": "stream",
          "text": [
            "0it [00:00, ?it/s]/usr/local/lib/python3.6/dist-packages/ipykernel_launcher.py:98: RuntimeWarning: invalid value encountered in double_scalars\n",
            "5000it [00:00, 6525.53it/s]\n",
            "5000it [00:00, 6540.18it/s]\n"
          ],
          "name": "stderr"
        },
        {
          "output_type": "stream",
          "text": [
            "chunk  193  execution_time  46.09178400039673\n"
          ],
          "name": "stdout"
        },
        {
          "output_type": "stream",
          "text": [
            "0it [00:00, ?it/s]/usr/local/lib/python3.6/dist-packages/ipykernel_launcher.py:98: RuntimeWarning: invalid value encountered in double_scalars\n",
            "5000it [00:00, 6519.48it/s]\n",
            "5000it [00:00, 6597.55it/s]\n"
          ],
          "name": "stderr"
        },
        {
          "output_type": "stream",
          "text": [
            "chunk  194  execution_time  44.911041498184204\n"
          ],
          "name": "stdout"
        },
        {
          "output_type": "stream",
          "text": [
            "0it [00:00, ?it/s]/usr/local/lib/python3.6/dist-packages/ipykernel_launcher.py:98: RuntimeWarning: invalid value encountered in double_scalars\n",
            "5000it [00:00, 6745.93it/s]\n",
            "5000it [00:00, 6648.26it/s]\n"
          ],
          "name": "stderr"
        },
        {
          "output_type": "stream",
          "text": [
            "chunk  195  execution_time  45.253766775131226\n"
          ],
          "name": "stdout"
        },
        {
          "output_type": "stream",
          "text": [
            "0it [00:00, ?it/s]/usr/local/lib/python3.6/dist-packages/ipykernel_launcher.py:98: RuntimeWarning: invalid value encountered in double_scalars\n",
            "5000it [00:00, 6657.05it/s]\n",
            "5000it [00:00, 6723.07it/s]\n"
          ],
          "name": "stderr"
        },
        {
          "output_type": "stream",
          "text": [
            "chunk  196  execution_time  45.438390254974365\n"
          ],
          "name": "stdout"
        },
        {
          "output_type": "stream",
          "text": [
            "0it [00:00, ?it/s]/usr/local/lib/python3.6/dist-packages/ipykernel_launcher.py:98: RuntimeWarning: invalid value encountered in double_scalars\n",
            "5000it [00:00, 6773.58it/s]\n",
            "5000it [00:00, 6539.55it/s]\n"
          ],
          "name": "stderr"
        },
        {
          "output_type": "stream",
          "text": [
            "chunk  197  execution_time  45.87851572036743\n"
          ],
          "name": "stdout"
        },
        {
          "output_type": "stream",
          "text": [
            "0it [00:00, ?it/s]/usr/local/lib/python3.6/dist-packages/ipykernel_launcher.py:98: RuntimeWarning: invalid value encountered in double_scalars\n",
            "5000it [00:00, 6523.79it/s]\n",
            "5000it [00:00, 6633.48it/s]\n"
          ],
          "name": "stderr"
        },
        {
          "output_type": "stream",
          "text": [
            "chunk  198  execution_time  45.592987060546875\n"
          ],
          "name": "stdout"
        },
        {
          "output_type": "stream",
          "text": [
            "0it [00:00, ?it/s]/usr/local/lib/python3.6/dist-packages/ipykernel_launcher.py:98: RuntimeWarning: invalid value encountered in double_scalars\n",
            "5000it [00:00, 6705.33it/s]\n",
            "5000it [00:00, 6626.19it/s]\n"
          ],
          "name": "stderr"
        },
        {
          "output_type": "stream",
          "text": [
            "chunk  199  execution_time  46.715885639190674\n"
          ],
          "name": "stdout"
        },
        {
          "output_type": "stream",
          "text": [
            "0it [00:00, ?it/s]/usr/local/lib/python3.6/dist-packages/ipykernel_launcher.py:98: RuntimeWarning: invalid value encountered in double_scalars\n",
            "5000it [00:00, 6714.76it/s]\n",
            "5000it [00:00, 6655.93it/s]\n"
          ],
          "name": "stderr"
        },
        {
          "output_type": "stream",
          "text": [
            "chunk  200  execution_time  46.57743191719055\n"
          ],
          "name": "stdout"
        },
        {
          "output_type": "stream",
          "text": [
            "0it [00:00, ?it/s]/usr/local/lib/python3.6/dist-packages/ipykernel_launcher.py:98: RuntimeWarning: invalid value encountered in double_scalars\n",
            "5000it [00:00, 6604.92it/s]\n",
            "5000it [00:00, 6595.52it/s]\n"
          ],
          "name": "stderr"
        },
        {
          "output_type": "stream",
          "text": [
            "chunk  201  execution_time  46.28047060966492\n"
          ],
          "name": "stdout"
        },
        {
          "output_type": "stream",
          "text": [
            "0it [00:00, ?it/s]/usr/local/lib/python3.6/dist-packages/ipykernel_launcher.py:98: RuntimeWarning: invalid value encountered in double_scalars\n",
            "5000it [00:00, 6737.34it/s]\n",
            "5000it [00:00, 6667.78it/s]\n"
          ],
          "name": "stderr"
        },
        {
          "output_type": "stream",
          "text": [
            "chunk  202  execution_time  46.359920501708984\n"
          ],
          "name": "stdout"
        },
        {
          "output_type": "stream",
          "text": [
            "0it [00:00, ?it/s]/usr/local/lib/python3.6/dist-packages/ipykernel_launcher.py:98: RuntimeWarning: invalid value encountered in double_scalars\n",
            "5000it [00:00, 6617.28it/s]\n",
            "5000it [00:00, 6534.97it/s]\n"
          ],
          "name": "stderr"
        },
        {
          "output_type": "stream",
          "text": [
            "chunk  203  execution_time  47.06593632698059\n"
          ],
          "name": "stdout"
        },
        {
          "output_type": "stream",
          "text": [
            "0it [00:00, ?it/s]/usr/local/lib/python3.6/dist-packages/ipykernel_launcher.py:98: RuntimeWarning: invalid value encountered in double_scalars\n",
            "5000it [00:00, 6484.98it/s]\n",
            "5000it [00:00, 6584.79it/s]\n"
          ],
          "name": "stderr"
        },
        {
          "output_type": "stream",
          "text": [
            "chunk  204  execution_time  46.88247895240784\n"
          ],
          "name": "stdout"
        },
        {
          "output_type": "stream",
          "text": [
            "0it [00:00, ?it/s]/usr/local/lib/python3.6/dist-packages/ipykernel_launcher.py:98: RuntimeWarning: invalid value encountered in double_scalars\n",
            "5000it [00:00, 6569.29it/s]\n",
            "5000it [00:00, 6701.49it/s]\n"
          ],
          "name": "stderr"
        },
        {
          "output_type": "stream",
          "text": [
            "chunk  205  execution_time  46.62167143821716\n"
          ],
          "name": "stdout"
        },
        {
          "output_type": "stream",
          "text": [
            "0it [00:00, ?it/s]/usr/local/lib/python3.6/dist-packages/ipykernel_launcher.py:98: RuntimeWarning: invalid value encountered in double_scalars\n",
            "5000it [00:00, 6580.19it/s]\n",
            "5000it [00:00, 6833.92it/s]\n"
          ],
          "name": "stderr"
        },
        {
          "output_type": "stream",
          "text": [
            "chunk  206  execution_time  46.09941554069519\n"
          ],
          "name": "stdout"
        },
        {
          "output_type": "stream",
          "text": [
            "0it [00:00, ?it/s]/usr/local/lib/python3.6/dist-packages/ipykernel_launcher.py:98: RuntimeWarning: invalid value encountered in double_scalars\n",
            "5000it [00:00, 6608.81it/s]\n",
            "5000it [00:00, 6744.07it/s]\n"
          ],
          "name": "stderr"
        },
        {
          "output_type": "stream",
          "text": [
            "chunk  207  execution_time  46.94491124153137\n"
          ],
          "name": "stdout"
        },
        {
          "output_type": "stream",
          "text": [
            "0it [00:00, ?it/s]/usr/local/lib/python3.6/dist-packages/ipykernel_launcher.py:98: RuntimeWarning: invalid value encountered in double_scalars\n",
            "5000it [00:00, 6687.42it/s]\n",
            "5000it [00:00, 6756.86it/s]\n"
          ],
          "name": "stderr"
        },
        {
          "output_type": "stream",
          "text": [
            "chunk  208  execution_time  46.04050636291504\n"
          ],
          "name": "stdout"
        },
        {
          "output_type": "stream",
          "text": [
            "0it [00:00, ?it/s]/usr/local/lib/python3.6/dist-packages/ipykernel_launcher.py:98: RuntimeWarning: invalid value encountered in double_scalars\n",
            "5000it [00:00, 6537.12it/s]\n",
            "5000it [00:00, 6699.37it/s]\n"
          ],
          "name": "stderr"
        },
        {
          "output_type": "stream",
          "text": [
            "chunk  209  execution_time  46.268532514572144\n"
          ],
          "name": "stdout"
        },
        {
          "output_type": "stream",
          "text": [
            "0it [00:00, ?it/s]/usr/local/lib/python3.6/dist-packages/ipykernel_launcher.py:98: RuntimeWarning: invalid value encountered in double_scalars\n",
            "5000it [00:00, 6627.34it/s]\n",
            "5000it [00:00, 6623.57it/s]\n"
          ],
          "name": "stderr"
        },
        {
          "output_type": "stream",
          "text": [
            "chunk  210  execution_time  45.54916191101074\n"
          ],
          "name": "stdout"
        },
        {
          "output_type": "stream",
          "text": [
            "0it [00:00, ?it/s]/usr/local/lib/python3.6/dist-packages/ipykernel_launcher.py:98: RuntimeWarning: invalid value encountered in double_scalars\n",
            "5000it [00:00, 6627.31it/s]\n",
            "5000it [00:00, 6506.45it/s]\n"
          ],
          "name": "stderr"
        },
        {
          "output_type": "stream",
          "text": [
            "chunk  211  execution_time  47.02284502983093\n"
          ],
          "name": "stdout"
        },
        {
          "output_type": "stream",
          "text": [
            "0it [00:00, ?it/s]/usr/local/lib/python3.6/dist-packages/ipykernel_launcher.py:98: RuntimeWarning: invalid value encountered in double_scalars\n",
            "5000it [00:00, 6674.45it/s]\n",
            "5000it [00:00, 6650.50it/s]\n"
          ],
          "name": "stderr"
        },
        {
          "output_type": "stream",
          "text": [
            "chunk  212  execution_time  46.00463366508484\n"
          ],
          "name": "stdout"
        },
        {
          "output_type": "stream",
          "text": [
            "0it [00:00, ?it/s]/usr/local/lib/python3.6/dist-packages/ipykernel_launcher.py:98: RuntimeWarning: invalid value encountered in double_scalars\n",
            "5000it [00:00, 6521.24it/s]\n",
            "5000it [00:00, 6669.40it/s]\n"
          ],
          "name": "stderr"
        },
        {
          "output_type": "stream",
          "text": [
            "chunk  213  execution_time  46.49305558204651\n"
          ],
          "name": "stdout"
        },
        {
          "output_type": "stream",
          "text": [
            "0it [00:00, ?it/s]/usr/local/lib/python3.6/dist-packages/ipykernel_launcher.py:98: RuntimeWarning: invalid value encountered in double_scalars\n",
            "5000it [00:00, 6560.15it/s]\n",
            "5000it [00:00, 6599.84it/s]\n"
          ],
          "name": "stderr"
        },
        {
          "output_type": "stream",
          "text": [
            "chunk  214  execution_time  47.14114332199097\n"
          ],
          "name": "stdout"
        },
        {
          "output_type": "stream",
          "text": [
            "0it [00:00, ?it/s]/usr/local/lib/python3.6/dist-packages/ipykernel_launcher.py:98: RuntimeWarning: invalid value encountered in double_scalars\n",
            "5000it [00:00, 6564.92it/s]\n",
            "5000it [00:00, 6609.08it/s]\n"
          ],
          "name": "stderr"
        },
        {
          "output_type": "stream",
          "text": [
            "chunk  215  execution_time  46.14006066322327\n"
          ],
          "name": "stdout"
        },
        {
          "output_type": "stream",
          "text": [
            "0it [00:00, ?it/s]/usr/local/lib/python3.6/dist-packages/ipykernel_launcher.py:98: RuntimeWarning: invalid value encountered in double_scalars\n",
            "5000it [00:00, 6554.75it/s]\n",
            "5000it [00:00, 6566.18it/s]\n"
          ],
          "name": "stderr"
        },
        {
          "output_type": "stream",
          "text": [
            "chunk  216  execution_time  46.95669746398926\n"
          ],
          "name": "stdout"
        },
        {
          "output_type": "stream",
          "text": [
            "0it [00:00, ?it/s]/usr/local/lib/python3.6/dist-packages/ipykernel_launcher.py:98: RuntimeWarning: invalid value encountered in double_scalars\n",
            "5000it [00:00, 6573.55it/s]\n",
            "5000it [00:00, 6657.30it/s]\n"
          ],
          "name": "stderr"
        },
        {
          "output_type": "stream",
          "text": [
            "chunk  217  execution_time  47.07609987258911\n"
          ],
          "name": "stdout"
        },
        {
          "output_type": "stream",
          "text": [
            "0it [00:00, ?it/s]/usr/local/lib/python3.6/dist-packages/ipykernel_launcher.py:98: RuntimeWarning: invalid value encountered in double_scalars\n",
            "5000it [00:00, 6386.95it/s]\n",
            "5000it [00:00, 6581.96it/s]\n"
          ],
          "name": "stderr"
        },
        {
          "output_type": "stream",
          "text": [
            "chunk  218  execution_time  47.02250385284424\n"
          ],
          "name": "stdout"
        },
        {
          "output_type": "stream",
          "text": [
            "0it [00:00, ?it/s]/usr/local/lib/python3.6/dist-packages/ipykernel_launcher.py:98: RuntimeWarning: invalid value encountered in double_scalars\n",
            "5000it [00:00, 6482.73it/s]\n",
            "5000it [00:00, 6626.10it/s]\n"
          ],
          "name": "stderr"
        },
        {
          "output_type": "stream",
          "text": [
            "chunk  219  execution_time  46.23528003692627\n"
          ],
          "name": "stdout"
        },
        {
          "output_type": "stream",
          "text": [
            "0it [00:00, ?it/s]/usr/local/lib/python3.6/dist-packages/ipykernel_launcher.py:98: RuntimeWarning: invalid value encountered in double_scalars\n",
            "5000it [00:00, 6296.00it/s]\n",
            "5000it [00:00, 6501.29it/s]\n"
          ],
          "name": "stderr"
        },
        {
          "output_type": "stream",
          "text": [
            "chunk  220  execution_time  47.217326402664185\n"
          ],
          "name": "stdout"
        },
        {
          "output_type": "stream",
          "text": [
            "0it [00:00, ?it/s]/usr/local/lib/python3.6/dist-packages/ipykernel_launcher.py:98: RuntimeWarning: invalid value encountered in double_scalars\n",
            "5000it [00:00, 6564.14it/s]\n",
            "5000it [00:00, 6423.05it/s]\n"
          ],
          "name": "stderr"
        },
        {
          "output_type": "stream",
          "text": [
            "chunk  221  execution_time  45.750452756881714\n"
          ],
          "name": "stdout"
        },
        {
          "output_type": "stream",
          "text": [
            "0it [00:00, ?it/s]/usr/local/lib/python3.6/dist-packages/ipykernel_launcher.py:98: RuntimeWarning: invalid value encountered in double_scalars\n",
            "5000it [00:00, 6597.25it/s]\n",
            "5000it [00:00, 6541.96it/s]\n"
          ],
          "name": "stderr"
        },
        {
          "output_type": "stream",
          "text": [
            "chunk  222  execution_time  46.8254234790802\n"
          ],
          "name": "stdout"
        },
        {
          "output_type": "stream",
          "text": [
            "0it [00:00, ?it/s]/usr/local/lib/python3.6/dist-packages/ipykernel_launcher.py:98: RuntimeWarning: invalid value encountered in double_scalars\n",
            "5000it [00:00, 6445.46it/s]\n",
            "5000it [00:00, 6462.51it/s]\n"
          ],
          "name": "stderr"
        },
        {
          "output_type": "stream",
          "text": [
            "chunk  223  execution_time  47.17075324058533\n"
          ],
          "name": "stdout"
        },
        {
          "output_type": "stream",
          "text": [
            "0it [00:00, ?it/s]/usr/local/lib/python3.6/dist-packages/ipykernel_launcher.py:98: RuntimeWarning: invalid value encountered in double_scalars\n",
            "5000it [00:00, 6534.90it/s]\n",
            "5000it [00:00, 6648.15it/s]\n"
          ],
          "name": "stderr"
        },
        {
          "output_type": "stream",
          "text": [
            "chunk  224  execution_time  46.67810368537903\n"
          ],
          "name": "stdout"
        },
        {
          "output_type": "stream",
          "text": [
            "0it [00:00, ?it/s]/usr/local/lib/python3.6/dist-packages/ipykernel_launcher.py:98: RuntimeWarning: invalid value encountered in double_scalars\n",
            "5000it [00:00, 6519.79it/s]\n",
            "5000it [00:00, 6352.40it/s]\n"
          ],
          "name": "stderr"
        },
        {
          "output_type": "stream",
          "text": [
            "chunk  225  execution_time  45.90771007537842\n"
          ],
          "name": "stdout"
        },
        {
          "output_type": "stream",
          "text": [
            "0it [00:00, ?it/s]/usr/local/lib/python3.6/dist-packages/ipykernel_launcher.py:98: RuntimeWarning: invalid value encountered in double_scalars\n",
            "5000it [00:00, 6506.65it/s]\n",
            "5000it [00:00, 6398.11it/s]\n"
          ],
          "name": "stderr"
        },
        {
          "output_type": "stream",
          "text": [
            "chunk  226  execution_time  45.11536955833435\n"
          ],
          "name": "stdout"
        },
        {
          "output_type": "stream",
          "text": [
            "0it [00:00, ?it/s]/usr/local/lib/python3.6/dist-packages/ipykernel_launcher.py:98: RuntimeWarning: invalid value encountered in double_scalars\n",
            "5000it [00:00, 6530.60it/s]\n",
            "5000it [00:00, 6476.78it/s]\n"
          ],
          "name": "stderr"
        },
        {
          "output_type": "stream",
          "text": [
            "chunk  227  execution_time  47.57985210418701\n"
          ],
          "name": "stdout"
        },
        {
          "output_type": "stream",
          "text": [
            "0it [00:00, ?it/s]/usr/local/lib/python3.6/dist-packages/ipykernel_launcher.py:98: RuntimeWarning: invalid value encountered in double_scalars\n",
            "5000it [00:00, 6572.94it/s]\n",
            "5000it [00:00, 6512.97it/s]\n"
          ],
          "name": "stderr"
        },
        {
          "output_type": "stream",
          "text": [
            "chunk  228  execution_time  46.69112277030945\n"
          ],
          "name": "stdout"
        },
        {
          "output_type": "stream",
          "text": [
            "0it [00:00, ?it/s]/usr/local/lib/python3.6/dist-packages/ipykernel_launcher.py:98: RuntimeWarning: invalid value encountered in double_scalars\n",
            "5000it [00:00, 6532.32it/s]\n",
            "5000it [00:00, 6450.27it/s]\n"
          ],
          "name": "stderr"
        },
        {
          "output_type": "stream",
          "text": [
            "chunk  229  execution_time  46.13914895057678\n"
          ],
          "name": "stdout"
        },
        {
          "output_type": "stream",
          "text": [
            "0it [00:00, ?it/s]/usr/local/lib/python3.6/dist-packages/ipykernel_launcher.py:98: RuntimeWarning: invalid value encountered in double_scalars\n",
            "5000it [00:00, 6439.01it/s]\n",
            "5000it [00:00, 6505.81it/s]\n"
          ],
          "name": "stderr"
        },
        {
          "output_type": "stream",
          "text": [
            "chunk  230  execution_time  45.564547300338745\n"
          ],
          "name": "stdout"
        },
        {
          "output_type": "stream",
          "text": [
            "0it [00:00, ?it/s]/usr/local/lib/python3.6/dist-packages/ipykernel_launcher.py:98: RuntimeWarning: invalid value encountered in double_scalars\n",
            "5000it [00:00, 6644.15it/s]\n",
            "5000it [00:00, 6503.33it/s]\n"
          ],
          "name": "stderr"
        },
        {
          "output_type": "stream",
          "text": [
            "chunk  231  execution_time  47.705772399902344\n"
          ],
          "name": "stdout"
        },
        {
          "output_type": "stream",
          "text": [
            "0it [00:00, ?it/s]/usr/local/lib/python3.6/dist-packages/ipykernel_launcher.py:98: RuntimeWarning: invalid value encountered in double_scalars\n",
            "5000it [00:00, 6455.53it/s]\n",
            "5000it [00:00, 6334.95it/s]\n"
          ],
          "name": "stderr"
        },
        {
          "output_type": "stream",
          "text": [
            "chunk  232  execution_time  47.230247259140015\n"
          ],
          "name": "stdout"
        },
        {
          "output_type": "stream",
          "text": [
            "0it [00:00, ?it/s]/usr/local/lib/python3.6/dist-packages/ipykernel_launcher.py:98: RuntimeWarning: invalid value encountered in double_scalars\n",
            "5000it [00:00, 6614.88it/s]\n",
            "5000it [00:00, 6511.08it/s]\n"
          ],
          "name": "stderr"
        },
        {
          "output_type": "stream",
          "text": [
            "chunk  233  execution_time  46.27192425727844\n"
          ],
          "name": "stdout"
        },
        {
          "output_type": "stream",
          "text": [
            "0it [00:00, ?it/s]/usr/local/lib/python3.6/dist-packages/ipykernel_launcher.py:98: RuntimeWarning: invalid value encountered in double_scalars\n",
            "5000it [00:00, 6471.50it/s]\n",
            "5000it [00:00, 6633.78it/s]\n"
          ],
          "name": "stderr"
        },
        {
          "output_type": "stream",
          "text": [
            "chunk  234  execution_time  46.51542544364929\n"
          ],
          "name": "stdout"
        },
        {
          "output_type": "stream",
          "text": [
            "0it [00:00, ?it/s]/usr/local/lib/python3.6/dist-packages/ipykernel_launcher.py:98: RuntimeWarning: invalid value encountered in double_scalars\n",
            "5000it [00:00, 6612.03it/s]\n",
            "5000it [00:00, 6379.44it/s]\n"
          ],
          "name": "stderr"
        },
        {
          "output_type": "stream",
          "text": [
            "chunk  235  execution_time  46.36999320983887\n"
          ],
          "name": "stdout"
        },
        {
          "output_type": "stream",
          "text": [
            "0it [00:00, ?it/s]/usr/local/lib/python3.6/dist-packages/ipykernel_launcher.py:98: RuntimeWarning: invalid value encountered in double_scalars\n",
            "5000it [00:00, 6473.24it/s]\n",
            "5000it [00:00, 6519.60it/s]\n"
          ],
          "name": "stderr"
        },
        {
          "output_type": "stream",
          "text": [
            "chunk  236  execution_time  47.270934104919434\n"
          ],
          "name": "stdout"
        },
        {
          "output_type": "stream",
          "text": [
            "0it [00:00, ?it/s]/usr/local/lib/python3.6/dist-packages/ipykernel_launcher.py:98: RuntimeWarning: invalid value encountered in double_scalars\n",
            "5000it [00:00, 6524.24it/s]\n",
            "5000it [00:00, 6372.50it/s]\n"
          ],
          "name": "stderr"
        },
        {
          "output_type": "stream",
          "text": [
            "chunk  237  execution_time  46.92339468002319\n"
          ],
          "name": "stdout"
        },
        {
          "output_type": "stream",
          "text": [
            "0it [00:00, ?it/s]/usr/local/lib/python3.6/dist-packages/ipykernel_launcher.py:98: RuntimeWarning: invalid value encountered in double_scalars\n",
            "5000it [00:00, 6463.15it/s]\n",
            "5000it [00:00, 6425.66it/s]\n"
          ],
          "name": "stderr"
        },
        {
          "output_type": "stream",
          "text": [
            "chunk  238  execution_time  47.58857774734497\n"
          ],
          "name": "stdout"
        },
        {
          "output_type": "stream",
          "text": [
            "0it [00:00, ?it/s]/usr/local/lib/python3.6/dist-packages/ipykernel_launcher.py:98: RuntimeWarning: invalid value encountered in double_scalars\n",
            "5000it [00:00, 6586.32it/s]\n",
            "5000it [00:00, 6407.72it/s]\n"
          ],
          "name": "stderr"
        },
        {
          "output_type": "stream",
          "text": [
            "chunk  239  execution_time  45.99921751022339\n"
          ],
          "name": "stdout"
        },
        {
          "output_type": "stream",
          "text": [
            "0it [00:00, ?it/s]/usr/local/lib/python3.6/dist-packages/ipykernel_launcher.py:98: RuntimeWarning: invalid value encountered in double_scalars\n",
            "5000it [00:00, 6628.17it/s]\n",
            "5000it [00:00, 6673.00it/s]\n"
          ],
          "name": "stderr"
        },
        {
          "output_type": "stream",
          "text": [
            "chunk  240  execution_time  46.81368899345398\n"
          ],
          "name": "stdout"
        },
        {
          "output_type": "stream",
          "text": [
            "0it [00:00, ?it/s]/usr/local/lib/python3.6/dist-packages/ipykernel_launcher.py:98: RuntimeWarning: invalid value encountered in double_scalars\n",
            "5000it [00:00, 6547.10it/s]\n",
            "5000it [00:00, 6669.23it/s]\n"
          ],
          "name": "stderr"
        },
        {
          "output_type": "stream",
          "text": [
            "chunk  241  execution_time  47.75681924819946\n"
          ],
          "name": "stdout"
        },
        {
          "output_type": "stream",
          "text": [
            "0it [00:00, ?it/s]/usr/local/lib/python3.6/dist-packages/ipykernel_launcher.py:98: RuntimeWarning: invalid value encountered in double_scalars\n",
            "5000it [00:00, 6511.23it/s]\n",
            "5000it [00:00, 6567.10it/s]\n"
          ],
          "name": "stderr"
        },
        {
          "output_type": "stream",
          "text": [
            "chunk  242  execution_time  47.318583726882935\n"
          ],
          "name": "stdout"
        },
        {
          "output_type": "stream",
          "text": [
            "0it [00:00, ?it/s]/usr/local/lib/python3.6/dist-packages/ipykernel_launcher.py:98: RuntimeWarning: invalid value encountered in double_scalars\n",
            "5000it [00:00, 6598.49it/s]\n",
            "5000it [00:00, 6471.14it/s]\n"
          ],
          "name": "stderr"
        },
        {
          "output_type": "stream",
          "text": [
            "chunk  243  execution_time  47.416996717453\n"
          ],
          "name": "stdout"
        },
        {
          "output_type": "stream",
          "text": [
            "0it [00:00, ?it/s]/usr/local/lib/python3.6/dist-packages/ipykernel_launcher.py:98: RuntimeWarning: invalid value encountered in double_scalars\n",
            "5000it [00:00, 6565.11it/s]\n",
            "5000it [00:00, 6606.91it/s]\n"
          ],
          "name": "stderr"
        },
        {
          "output_type": "stream",
          "text": [
            "chunk  244  execution_time  46.730865478515625\n"
          ],
          "name": "stdout"
        },
        {
          "output_type": "stream",
          "text": [
            "0it [00:00, ?it/s]/usr/local/lib/python3.6/dist-packages/ipykernel_launcher.py:98: RuntimeWarning: invalid value encountered in double_scalars\n",
            "5000it [00:00, 6704.35it/s]\n",
            "5000it [00:00, 6597.70it/s]\n"
          ],
          "name": "stderr"
        },
        {
          "output_type": "stream",
          "text": [
            "chunk  245  execution_time  46.24372148513794\n"
          ],
          "name": "stdout"
        },
        {
          "output_type": "stream",
          "text": [
            "0it [00:00, ?it/s]/usr/local/lib/python3.6/dist-packages/ipykernel_launcher.py:98: RuntimeWarning: invalid value encountered in double_scalars\n",
            "5000it [00:00, 6609.35it/s]\n",
            "5000it [00:00, 6487.28it/s]\n"
          ],
          "name": "stderr"
        },
        {
          "output_type": "stream",
          "text": [
            "chunk  246  execution_time  46.67652177810669\n"
          ],
          "name": "stdout"
        },
        {
          "output_type": "stream",
          "text": [
            "0it [00:00, ?it/s]/usr/local/lib/python3.6/dist-packages/ipykernel_launcher.py:98: RuntimeWarning: invalid value encountered in double_scalars\n",
            "5000it [00:00, 6605.70it/s]\n",
            "5000it [00:00, 6707.04it/s]\n"
          ],
          "name": "stderr"
        },
        {
          "output_type": "stream",
          "text": [
            "chunk  247  execution_time  46.963671922683716\n"
          ],
          "name": "stdout"
        },
        {
          "output_type": "stream",
          "text": [
            "0it [00:00, ?it/s]/usr/local/lib/python3.6/dist-packages/ipykernel_launcher.py:98: RuntimeWarning: invalid value encountered in double_scalars\n",
            "5000it [00:00, 6650.31it/s]\n",
            "5000it [00:00, 6400.38it/s]\n"
          ],
          "name": "stderr"
        },
        {
          "output_type": "stream",
          "text": [
            "chunk  248  execution_time  46.00169539451599\n"
          ],
          "name": "stdout"
        },
        {
          "output_type": "stream",
          "text": [
            "0it [00:00, ?it/s]/usr/local/lib/python3.6/dist-packages/ipykernel_launcher.py:98: RuntimeWarning: invalid value encountered in double_scalars\n",
            "5000it [00:00, 6561.97it/s]\n",
            "5000it [00:00, 6569.13it/s]\n"
          ],
          "name": "stderr"
        },
        {
          "output_type": "stream",
          "text": [
            "chunk  249  execution_time  46.68013000488281\n"
          ],
          "name": "stdout"
        },
        {
          "output_type": "stream",
          "text": [
            "0it [00:00, ?it/s]/usr/local/lib/python3.6/dist-packages/ipykernel_launcher.py:98: RuntimeWarning: invalid value encountered in double_scalars\n",
            "5000it [00:00, 6895.28it/s]\n",
            "5000it [00:00, 6725.57it/s]\n"
          ],
          "name": "stderr"
        },
        {
          "output_type": "stream",
          "text": [
            "chunk  250  execution_time  45.938599586486816\n"
          ],
          "name": "stdout"
        },
        {
          "output_type": "stream",
          "text": [
            "0it [00:00, ?it/s]/usr/local/lib/python3.6/dist-packages/ipykernel_launcher.py:98: RuntimeWarning: invalid value encountered in double_scalars\n",
            "5000it [00:00, 6654.49it/s]\n",
            "5000it [00:00, 6474.66it/s]\n"
          ],
          "name": "stderr"
        },
        {
          "output_type": "stream",
          "text": [
            "chunk  251  execution_time  46.68554353713989\n"
          ],
          "name": "stdout"
        },
        {
          "output_type": "stream",
          "text": [
            "0it [00:00, ?it/s]/usr/local/lib/python3.6/dist-packages/ipykernel_launcher.py:98: RuntimeWarning: invalid value encountered in double_scalars\n",
            "5000it [00:00, 6555.65it/s]\n",
            "5000it [00:00, 6751.68it/s]\n"
          ],
          "name": "stderr"
        },
        {
          "output_type": "stream",
          "text": [
            "chunk  252  execution_time  44.96537685394287\n"
          ],
          "name": "stdout"
        },
        {
          "output_type": "stream",
          "text": [
            "0it [00:00, ?it/s]/usr/local/lib/python3.6/dist-packages/ipykernel_launcher.py:98: RuntimeWarning: invalid value encountered in double_scalars\n",
            "5000it [00:00, 6593.65it/s]\n",
            "5000it [00:00, 6539.94it/s]\n"
          ],
          "name": "stderr"
        },
        {
          "output_type": "stream",
          "text": [
            "chunk  253  execution_time  46.63537073135376\n"
          ],
          "name": "stdout"
        },
        {
          "output_type": "stream",
          "text": [
            "0it [00:00, ?it/s]/usr/local/lib/python3.6/dist-packages/ipykernel_launcher.py:98: RuntimeWarning: invalid value encountered in double_scalars\n",
            "5000it [00:00, 6533.44it/s]\n",
            "5000it [00:00, 6575.17it/s]\n"
          ],
          "name": "stderr"
        },
        {
          "output_type": "stream",
          "text": [
            "chunk  254  execution_time  46.150370359420776\n"
          ],
          "name": "stdout"
        },
        {
          "output_type": "stream",
          "text": [
            "0it [00:00, ?it/s]/usr/local/lib/python3.6/dist-packages/ipykernel_launcher.py:98: RuntimeWarning: invalid value encountered in double_scalars\n",
            "5000it [00:00, 6445.46it/s]\n",
            "5000it [00:00, 6624.67it/s]\n"
          ],
          "name": "stderr"
        },
        {
          "output_type": "stream",
          "text": [
            "chunk  255  execution_time  45.86714506149292\n"
          ],
          "name": "stdout"
        },
        {
          "output_type": "stream",
          "text": [
            "0it [00:00, ?it/s]/usr/local/lib/python3.6/dist-packages/ipykernel_launcher.py:98: RuntimeWarning: invalid value encountered in double_scalars\n",
            "5000it [00:00, 6736.44it/s]\n",
            "5000it [00:00, 6547.87it/s]\n"
          ],
          "name": "stderr"
        },
        {
          "output_type": "stream",
          "text": [
            "chunk  256  execution_time  45.90787196159363\n"
          ],
          "name": "stdout"
        },
        {
          "output_type": "stream",
          "text": [
            "0it [00:00, ?it/s]/usr/local/lib/python3.6/dist-packages/ipykernel_launcher.py:98: RuntimeWarning: invalid value encountered in double_scalars\n",
            "5000it [00:00, 6747.64it/s]\n",
            "5000it [00:00, 6758.56it/s]\n"
          ],
          "name": "stderr"
        },
        {
          "output_type": "stream",
          "text": [
            "chunk  257  execution_time  45.80601119995117\n"
          ],
          "name": "stdout"
        },
        {
          "output_type": "stream",
          "text": [
            "0it [00:00, ?it/s]/usr/local/lib/python3.6/dist-packages/ipykernel_launcher.py:98: RuntimeWarning: invalid value encountered in double_scalars\n",
            "5000it [00:00, 6780.00it/s]\n",
            "5000it [00:00, 6753.79it/s]\n"
          ],
          "name": "stderr"
        },
        {
          "output_type": "stream",
          "text": [
            "chunk  258  execution_time  46.02924609184265\n"
          ],
          "name": "stdout"
        },
        {
          "output_type": "stream",
          "text": [
            "0it [00:00, ?it/s]/usr/local/lib/python3.6/dist-packages/ipykernel_launcher.py:98: RuntimeWarning: invalid value encountered in double_scalars\n",
            "5000it [00:00, 6741.83it/s]\n",
            "5000it [00:00, 6719.24it/s]\n"
          ],
          "name": "stderr"
        },
        {
          "output_type": "stream",
          "text": [
            "chunk  259  execution_time  46.7122015953064\n"
          ],
          "name": "stdout"
        },
        {
          "output_type": "stream",
          "text": [
            "0it [00:00, ?it/s]/usr/local/lib/python3.6/dist-packages/ipykernel_launcher.py:98: RuntimeWarning: invalid value encountered in double_scalars\n",
            "5000it [00:00, 6594.68it/s]\n",
            "5000it [00:00, 6462.36it/s]\n"
          ],
          "name": "stderr"
        },
        {
          "output_type": "stream",
          "text": [
            "chunk  260  execution_time  45.77544450759888\n"
          ],
          "name": "stdout"
        },
        {
          "output_type": "stream",
          "text": [
            "0it [00:00, ?it/s]/usr/local/lib/python3.6/dist-packages/ipykernel_launcher.py:98: RuntimeWarning: invalid value encountered in double_scalars\n",
            "5000it [00:00, 6838.01it/s]\n",
            "5000it [00:00, 6767.22it/s]\n"
          ],
          "name": "stderr"
        },
        {
          "output_type": "stream",
          "text": [
            "chunk  261  execution_time  45.83017826080322\n"
          ],
          "name": "stdout"
        },
        {
          "output_type": "stream",
          "text": [
            "0it [00:00, ?it/s]/usr/local/lib/python3.6/dist-packages/ipykernel_launcher.py:98: RuntimeWarning: invalid value encountered in double_scalars\n",
            "5000it [00:00, 6708.47it/s]\n",
            "5000it [00:00, 6685.51it/s]\n"
          ],
          "name": "stderr"
        },
        {
          "output_type": "stream",
          "text": [
            "chunk  262  execution_time  46.20276999473572\n"
          ],
          "name": "stdout"
        },
        {
          "output_type": "stream",
          "text": [
            "0it [00:00, ?it/s]/usr/local/lib/python3.6/dist-packages/ipykernel_launcher.py:98: RuntimeWarning: invalid value encountered in double_scalars\n",
            "5000it [00:00, 6815.17it/s]\n",
            "5000it [00:00, 6758.43it/s]\n"
          ],
          "name": "stderr"
        },
        {
          "output_type": "stream",
          "text": [
            "chunk  263  execution_time  47.26516819000244\n"
          ],
          "name": "stdout"
        },
        {
          "output_type": "stream",
          "text": [
            "0it [00:00, ?it/s]/usr/local/lib/python3.6/dist-packages/ipykernel_launcher.py:98: RuntimeWarning: invalid value encountered in double_scalars\n",
            "5000it [00:00, 6546.21it/s]\n",
            "5000it [00:00, 6613.59it/s]\n"
          ],
          "name": "stderr"
        },
        {
          "output_type": "stream",
          "text": [
            "chunk  264  execution_time  45.236445903778076\n"
          ],
          "name": "stdout"
        },
        {
          "output_type": "stream",
          "text": [
            "0it [00:00, ?it/s]/usr/local/lib/python3.6/dist-packages/ipykernel_launcher.py:98: RuntimeWarning: invalid value encountered in double_scalars\n",
            "5000it [00:00, 6528.22it/s]\n",
            "5000it [00:00, 6567.58it/s]\n"
          ],
          "name": "stderr"
        },
        {
          "output_type": "stream",
          "text": [
            "chunk  265  execution_time  45.74683666229248\n"
          ],
          "name": "stdout"
        },
        {
          "output_type": "stream",
          "text": [
            "0it [00:00, ?it/s]/usr/local/lib/python3.6/dist-packages/ipykernel_launcher.py:98: RuntimeWarning: invalid value encountered in double_scalars\n",
            "5000it [00:00, 6652.76it/s]\n",
            "5000it [00:00, 6493.43it/s]\n"
          ],
          "name": "stderr"
        },
        {
          "output_type": "stream",
          "text": [
            "chunk  266  execution_time  46.38202714920044\n"
          ],
          "name": "stdout"
        },
        {
          "output_type": "stream",
          "text": [
            "0it [00:00, ?it/s]/usr/local/lib/python3.6/dist-packages/ipykernel_launcher.py:98: RuntimeWarning: invalid value encountered in double_scalars\n",
            "5000it [00:00, 6608.75it/s]\n",
            "5000it [00:00, 6809.41it/s]\n"
          ],
          "name": "stderr"
        },
        {
          "output_type": "stream",
          "text": [
            "chunk  267  execution_time  46.32818078994751\n"
          ],
          "name": "stdout"
        },
        {
          "output_type": "stream",
          "text": [
            "0it [00:00, ?it/s]/usr/local/lib/python3.6/dist-packages/ipykernel_launcher.py:98: RuntimeWarning: invalid value encountered in double_scalars\n",
            "5000it [00:00, 6729.58it/s]\n",
            "5000it [00:00, 6450.87it/s]\n"
          ],
          "name": "stderr"
        },
        {
          "output_type": "stream",
          "text": [
            "chunk  268  execution_time  46.46266961097717\n"
          ],
          "name": "stdout"
        },
        {
          "output_type": "stream",
          "text": [
            "0it [00:00, ?it/s]/usr/local/lib/python3.6/dist-packages/ipykernel_launcher.py:98: RuntimeWarning: invalid value encountered in double_scalars\n",
            "5000it [00:00, 6664.46it/s]\n",
            "5000it [00:00, 6747.96it/s]\n"
          ],
          "name": "stderr"
        },
        {
          "output_type": "stream",
          "text": [
            "chunk  269  execution_time  45.84533333778381\n"
          ],
          "name": "stdout"
        },
        {
          "output_type": "stream",
          "text": [
            "0it [00:00, ?it/s]/usr/local/lib/python3.6/dist-packages/ipykernel_launcher.py:98: RuntimeWarning: invalid value encountered in double_scalars\n",
            "5000it [00:00, 6722.09it/s]\n",
            "5000it [00:00, 6758.50it/s]\n"
          ],
          "name": "stderr"
        },
        {
          "output_type": "stream",
          "text": [
            "chunk  270  execution_time  46.15920948982239\n"
          ],
          "name": "stdout"
        },
        {
          "output_type": "stream",
          "text": [
            "0it [00:00, ?it/s]/usr/local/lib/python3.6/dist-packages/ipykernel_launcher.py:98: RuntimeWarning: invalid value encountered in double_scalars\n",
            "5000it [00:00, 6765.07it/s]\n",
            "5000it [00:00, 6655.92it/s]\n"
          ],
          "name": "stderr"
        },
        {
          "output_type": "stream",
          "text": [
            "chunk  271  execution_time  45.012067794799805\n"
          ],
          "name": "stdout"
        },
        {
          "output_type": "stream",
          "text": [
            "0it [00:00, ?it/s]/usr/local/lib/python3.6/dist-packages/ipykernel_launcher.py:98: RuntimeWarning: invalid value encountered in double_scalars\n",
            "5000it [00:00, 6593.77it/s]\n",
            "5000it [00:00, 6728.01it/s]\n"
          ],
          "name": "stderr"
        },
        {
          "output_type": "stream",
          "text": [
            "chunk  272  execution_time  45.66174578666687\n"
          ],
          "name": "stdout"
        },
        {
          "output_type": "stream",
          "text": [
            "0it [00:00, ?it/s]/usr/local/lib/python3.6/dist-packages/ipykernel_launcher.py:98: RuntimeWarning: invalid value encountered in double_scalars\n",
            "5000it [00:00, 6777.76it/s]\n",
            "5000it [00:00, 6840.54it/s]\n"
          ],
          "name": "stderr"
        },
        {
          "output_type": "stream",
          "text": [
            "chunk  273  execution_time  44.40208840370178\n"
          ],
          "name": "stdout"
        },
        {
          "output_type": "stream",
          "text": [
            "0it [00:00, ?it/s]/usr/local/lib/python3.6/dist-packages/ipykernel_launcher.py:98: RuntimeWarning: invalid value encountered in double_scalars\n",
            "5000it [00:00, 6544.67it/s]\n",
            "5000it [00:00, 6772.05it/s]\n"
          ],
          "name": "stderr"
        },
        {
          "output_type": "stream",
          "text": [
            "chunk  274  execution_time  45.233797550201416\n"
          ],
          "name": "stdout"
        },
        {
          "output_type": "stream",
          "text": [
            "0it [00:00, ?it/s]/usr/local/lib/python3.6/dist-packages/ipykernel_launcher.py:98: RuntimeWarning: invalid value encountered in double_scalars\n",
            "5000it [00:00, 6739.77it/s]\n",
            "5000it [00:00, 6581.82it/s]\n"
          ],
          "name": "stderr"
        },
        {
          "output_type": "stream",
          "text": [
            "chunk  275  execution_time  46.28023958206177\n"
          ],
          "name": "stdout"
        },
        {
          "output_type": "stream",
          "text": [
            "0it [00:00, ?it/s]/usr/local/lib/python3.6/dist-packages/ipykernel_launcher.py:98: RuntimeWarning: invalid value encountered in double_scalars\n",
            "5000it [00:00, 6632.83it/s]\n",
            "5000it [00:00, 6400.26it/s]\n"
          ],
          "name": "stderr"
        },
        {
          "output_type": "stream",
          "text": [
            "chunk  276  execution_time  47.069050788879395\n"
          ],
          "name": "stdout"
        },
        {
          "output_type": "stream",
          "text": [
            "0it [00:00, ?it/s]/usr/local/lib/python3.6/dist-packages/ipykernel_launcher.py:98: RuntimeWarning: invalid value encountered in double_scalars\n",
            "5000it [00:00, 6559.25it/s]\n",
            "5000it [00:00, 6615.13it/s]\n"
          ],
          "name": "stderr"
        },
        {
          "output_type": "stream",
          "text": [
            "chunk  277  execution_time  45.52832841873169\n"
          ],
          "name": "stdout"
        },
        {
          "output_type": "stream",
          "text": [
            "0it [00:00, ?it/s]/usr/local/lib/python3.6/dist-packages/ipykernel_launcher.py:98: RuntimeWarning: invalid value encountered in double_scalars\n",
            "5000it [00:00, 6797.67it/s]\n",
            "5000it [00:00, 6492.29it/s]\n"
          ],
          "name": "stderr"
        },
        {
          "output_type": "stream",
          "text": [
            "chunk  278  execution_time  46.717554807662964\n"
          ],
          "name": "stdout"
        },
        {
          "output_type": "stream",
          "text": [
            "0it [00:00, ?it/s]/usr/local/lib/python3.6/dist-packages/ipykernel_launcher.py:98: RuntimeWarning: invalid value encountered in double_scalars\n",
            "5000it [00:00, 6528.66it/s]\n",
            "5000it [00:00, 6531.69it/s]\n"
          ],
          "name": "stderr"
        },
        {
          "output_type": "stream",
          "text": [
            "chunk  279  execution_time  46.18904209136963\n"
          ],
          "name": "stdout"
        },
        {
          "output_type": "stream",
          "text": [
            "0it [00:00, ?it/s]/usr/local/lib/python3.6/dist-packages/ipykernel_launcher.py:98: RuntimeWarning: invalid value encountered in double_scalars\n",
            "5000it [00:00, 6730.17it/s]\n",
            "5000it [00:00, 6609.54it/s]\n"
          ],
          "name": "stderr"
        },
        {
          "output_type": "stream",
          "text": [
            "chunk  280  execution_time  47.07689356803894\n"
          ],
          "name": "stdout"
        },
        {
          "output_type": "stream",
          "text": [
            "0it [00:00, ?it/s]/usr/local/lib/python3.6/dist-packages/ipykernel_launcher.py:98: RuntimeWarning: invalid value encountered in double_scalars\n",
            "5000it [00:00, 6662.59it/s]\n",
            "5000it [00:00, 6628.75it/s]\n"
          ],
          "name": "stderr"
        },
        {
          "output_type": "stream",
          "text": [
            "chunk  281  execution_time  45.644078493118286\n"
          ],
          "name": "stdout"
        },
        {
          "output_type": "stream",
          "text": [
            "0it [00:00, ?it/s]/usr/local/lib/python3.6/dist-packages/ipykernel_launcher.py:98: RuntimeWarning: invalid value encountered in double_scalars\n",
            "5000it [00:00, 6657.65it/s]\n",
            "5000it [00:00, 6492.21it/s]\n"
          ],
          "name": "stderr"
        },
        {
          "output_type": "stream",
          "text": [
            "chunk  282  execution_time  46.57570266723633\n"
          ],
          "name": "stdout"
        },
        {
          "output_type": "stream",
          "text": [
            "0it [00:00, ?it/s]/usr/local/lib/python3.6/dist-packages/ipykernel_launcher.py:98: RuntimeWarning: invalid value encountered in double_scalars\n",
            "5000it [00:00, 6491.24it/s]\n",
            "5000it [00:00, 6517.87it/s]\n"
          ],
          "name": "stderr"
        },
        {
          "output_type": "stream",
          "text": [
            "chunk  283  execution_time  45.45257258415222\n"
          ],
          "name": "stdout"
        },
        {
          "output_type": "stream",
          "text": [
            "0it [00:00, ?it/s]/usr/local/lib/python3.6/dist-packages/ipykernel_launcher.py:98: RuntimeWarning: invalid value encountered in double_scalars\n",
            "5000it [00:00, 6629.37it/s]\n",
            "5000it [00:00, 6919.59it/s]\n"
          ],
          "name": "stderr"
        },
        {
          "output_type": "stream",
          "text": [
            "chunk  284  execution_time  44.15179491043091\n"
          ],
          "name": "stdout"
        },
        {
          "output_type": "stream",
          "text": [
            "0it [00:00, ?it/s]/usr/local/lib/python3.6/dist-packages/ipykernel_launcher.py:98: RuntimeWarning: invalid value encountered in double_scalars\n",
            "5000it [00:00, 6535.95it/s]\n",
            "5000it [00:00, 6441.59it/s]\n"
          ],
          "name": "stderr"
        },
        {
          "output_type": "stream",
          "text": [
            "chunk  285  execution_time  48.05375146865845\n"
          ],
          "name": "stdout"
        },
        {
          "output_type": "stream",
          "text": [
            "0it [00:00, ?it/s]/usr/local/lib/python3.6/dist-packages/ipykernel_launcher.py:98: RuntimeWarning: invalid value encountered in double_scalars\n",
            "5000it [00:00, 6664.38it/s]\n",
            "5000it [00:00, 6699.43it/s]\n"
          ],
          "name": "stderr"
        },
        {
          "output_type": "stream",
          "text": [
            "chunk  286  execution_time  46.63770127296448\n"
          ],
          "name": "stdout"
        },
        {
          "output_type": "stream",
          "text": [
            "0it [00:00, ?it/s]/usr/local/lib/python3.6/dist-packages/ipykernel_launcher.py:98: RuntimeWarning: invalid value encountered in double_scalars\n",
            "5000it [00:00, 6669.94it/s]\n",
            "5000it [00:00, 6492.50it/s]\n"
          ],
          "name": "stderr"
        },
        {
          "output_type": "stream",
          "text": [
            "chunk  287  execution_time  46.32472109794617\n"
          ],
          "name": "stdout"
        },
        {
          "output_type": "stream",
          "text": [
            "0it [00:00, ?it/s]/usr/local/lib/python3.6/dist-packages/ipykernel_launcher.py:98: RuntimeWarning: invalid value encountered in double_scalars\n",
            "5000it [00:00, 6373.62it/s]\n",
            "5000it [00:00, 6442.00it/s]\n"
          ],
          "name": "stderr"
        },
        {
          "output_type": "stream",
          "text": [
            "chunk  288  execution_time  47.974913597106934\n"
          ],
          "name": "stdout"
        },
        {
          "output_type": "stream",
          "text": [
            "0it [00:00, ?it/s]/usr/local/lib/python3.6/dist-packages/ipykernel_launcher.py:98: RuntimeWarning: invalid value encountered in double_scalars\n",
            "5000it [00:00, 6636.63it/s]\n",
            "5000it [00:00, 6631.13it/s]\n"
          ],
          "name": "stderr"
        },
        {
          "output_type": "stream",
          "text": [
            "chunk  289  execution_time  46.906919717788696\n"
          ],
          "name": "stdout"
        },
        {
          "output_type": "stream",
          "text": [
            "0it [00:00, ?it/s]/usr/local/lib/python3.6/dist-packages/ipykernel_launcher.py:98: RuntimeWarning: invalid value encountered in double_scalars\n",
            "5000it [00:00, 6666.93it/s]\n",
            "5000it [00:00, 6864.58it/s]\n"
          ],
          "name": "stderr"
        },
        {
          "output_type": "stream",
          "text": [
            "chunk  290  execution_time  46.898109436035156\n"
          ],
          "name": "stdout"
        },
        {
          "output_type": "stream",
          "text": [
            "0it [00:00, ?it/s]/usr/local/lib/python3.6/dist-packages/ipykernel_launcher.py:98: RuntimeWarning: invalid value encountered in double_scalars\n",
            "5000it [00:00, 6689.55it/s]\n",
            "5000it [00:00, 6645.30it/s]\n"
          ],
          "name": "stderr"
        },
        {
          "output_type": "stream",
          "text": [
            "chunk  291  execution_time  47.37727665901184\n"
          ],
          "name": "stdout"
        },
        {
          "output_type": "stream",
          "text": [
            "0it [00:00, ?it/s]/usr/local/lib/python3.6/dist-packages/ipykernel_launcher.py:98: RuntimeWarning: invalid value encountered in double_scalars\n",
            "5000it [00:00, 6507.42it/s]\n",
            "5000it [00:00, 6281.27it/s]\n"
          ],
          "name": "stderr"
        },
        {
          "output_type": "stream",
          "text": [
            "chunk  292  execution_time  46.99806475639343\n"
          ],
          "name": "stdout"
        },
        {
          "output_type": "stream",
          "text": [
            "0it [00:00, ?it/s]/usr/local/lib/python3.6/dist-packages/ipykernel_launcher.py:98: RuntimeWarning: invalid value encountered in double_scalars\n",
            "5000it [00:00, 6733.56it/s]\n",
            "5000it [00:00, 6569.65it/s]\n"
          ],
          "name": "stderr"
        },
        {
          "output_type": "stream",
          "text": [
            "chunk  293  execution_time  44.18885517120361\n"
          ],
          "name": "stdout"
        },
        {
          "output_type": "stream",
          "text": [
            "0it [00:00, ?it/s]/usr/local/lib/python3.6/dist-packages/ipykernel_launcher.py:98: RuntimeWarning: invalid value encountered in double_scalars\n",
            "5000it [00:00, 6640.02it/s]\n",
            "5000it [00:00, 6640.68it/s]\n"
          ],
          "name": "stderr"
        },
        {
          "output_type": "stream",
          "text": [
            "chunk  294  execution_time  46.6727511882782\n"
          ],
          "name": "stdout"
        },
        {
          "output_type": "stream",
          "text": [
            "0it [00:00, ?it/s]/usr/local/lib/python3.6/dist-packages/ipykernel_launcher.py:98: RuntimeWarning: invalid value encountered in double_scalars\n",
            "5000it [00:00, 6350.37it/s]\n",
            "5000it [00:00, 6541.40it/s]\n"
          ],
          "name": "stderr"
        },
        {
          "output_type": "stream",
          "text": [
            "chunk  295  execution_time  47.18763780593872\n"
          ],
          "name": "stdout"
        },
        {
          "output_type": "stream",
          "text": [
            "0it [00:00, ?it/s]/usr/local/lib/python3.6/dist-packages/ipykernel_launcher.py:98: RuntimeWarning: invalid value encountered in double_scalars\n",
            "5000it [00:00, 6657.65it/s]\n",
            "5000it [00:00, 6664.75it/s]\n"
          ],
          "name": "stderr"
        },
        {
          "output_type": "stream",
          "text": [
            "chunk  296  execution_time  46.976306438446045\n"
          ],
          "name": "stdout"
        },
        {
          "output_type": "stream",
          "text": [
            "0it [00:00, ?it/s]/usr/local/lib/python3.6/dist-packages/ipykernel_launcher.py:98: RuntimeWarning: invalid value encountered in double_scalars\n",
            "5000it [00:00, 6625.84it/s]\n",
            "5000it [00:00, 6747.24it/s]\n"
          ],
          "name": "stderr"
        },
        {
          "output_type": "stream",
          "text": [
            "chunk  297  execution_time  45.953428745269775\n"
          ],
          "name": "stdout"
        },
        {
          "output_type": "stream",
          "text": [
            "0it [00:00, ?it/s]/usr/local/lib/python3.6/dist-packages/ipykernel_launcher.py:98: RuntimeWarning: invalid value encountered in double_scalars\n",
            "5000it [00:00, 6506.81it/s]\n",
            "5000it [00:00, 6622.75it/s]\n"
          ],
          "name": "stderr"
        },
        {
          "output_type": "stream",
          "text": [
            "chunk  298  execution_time  46.96818399429321\n"
          ],
          "name": "stdout"
        },
        {
          "output_type": "stream",
          "text": [
            "0it [00:00, ?it/s]/usr/local/lib/python3.6/dist-packages/ipykernel_launcher.py:98: RuntimeWarning: invalid value encountered in double_scalars\n",
            "5000it [00:00, 6476.63it/s]\n",
            "5000it [00:00, 6459.98it/s]\n"
          ],
          "name": "stderr"
        },
        {
          "output_type": "stream",
          "text": [
            "chunk  299  execution_time  46.32880353927612\n"
          ],
          "name": "stdout"
        },
        {
          "output_type": "stream",
          "text": [
            "0it [00:00, ?it/s]/usr/local/lib/python3.6/dist-packages/ipykernel_launcher.py:98: RuntimeWarning: invalid value encountered in double_scalars\n",
            "5000it [00:00, 6650.32it/s]\n",
            "5000it [00:00, 6608.85it/s]\n"
          ],
          "name": "stderr"
        },
        {
          "output_type": "stream",
          "text": [
            "chunk  300  execution_time  45.447033405303955\n"
          ],
          "name": "stdout"
        },
        {
          "output_type": "stream",
          "text": [
            "0it [00:00, ?it/s]/usr/local/lib/python3.6/dist-packages/ipykernel_launcher.py:98: RuntimeWarning: invalid value encountered in double_scalars\n",
            "5000it [00:00, 6667.03it/s]\n",
            "5000it [00:00, 6519.22it/s]\n"
          ],
          "name": "stderr"
        },
        {
          "output_type": "stream",
          "text": [
            "chunk  301  execution_time  46.49133539199829\n"
          ],
          "name": "stdout"
        },
        {
          "output_type": "stream",
          "text": [
            "0it [00:00, ?it/s]/usr/local/lib/python3.6/dist-packages/ipykernel_launcher.py:98: RuntimeWarning: invalid value encountered in double_scalars\n",
            "5000it [00:00, 6404.29it/s]\n",
            "5000it [00:00, 6489.88it/s]\n"
          ],
          "name": "stderr"
        },
        {
          "output_type": "stream",
          "text": [
            "chunk  302  execution_time  46.43668460845947\n"
          ],
          "name": "stdout"
        },
        {
          "output_type": "stream",
          "text": [
            "0it [00:00, ?it/s]/usr/local/lib/python3.6/dist-packages/ipykernel_launcher.py:98: RuntimeWarning: invalid value encountered in double_scalars\n",
            "5000it [00:00, 6683.31it/s]\n",
            "5000it [00:00, 6565.20it/s]\n"
          ],
          "name": "stderr"
        },
        {
          "output_type": "stream",
          "text": [
            "chunk  303  execution_time  46.31880736351013\n"
          ],
          "name": "stdout"
        },
        {
          "output_type": "stream",
          "text": [
            "0it [00:00, ?it/s]/usr/local/lib/python3.6/dist-packages/ipykernel_launcher.py:98: RuntimeWarning: invalid value encountered in double_scalars\n",
            "5000it [00:00, 6569.88it/s]\n",
            "5000it [00:00, 6652.23it/s]\n"
          ],
          "name": "stderr"
        },
        {
          "output_type": "stream",
          "text": [
            "chunk  304  execution_time  46.570488929748535\n"
          ],
          "name": "stdout"
        },
        {
          "output_type": "stream",
          "text": [
            "0it [00:00, ?it/s]/usr/local/lib/python3.6/dist-packages/ipykernel_launcher.py:98: RuntimeWarning: invalid value encountered in double_scalars\n",
            "5000it [00:00, 6531.14it/s]\n",
            "5000it [00:00, 6572.77it/s]\n"
          ],
          "name": "stderr"
        },
        {
          "output_type": "stream",
          "text": [
            "chunk  305  execution_time  45.59679079055786\n"
          ],
          "name": "stdout"
        },
        {
          "output_type": "stream",
          "text": [
            "0it [00:00, ?it/s]/usr/local/lib/python3.6/dist-packages/ipykernel_launcher.py:98: RuntimeWarning: invalid value encountered in double_scalars\n",
            "5000it [00:00, 6519.31it/s]\n",
            "5000it [00:00, 6581.84it/s]\n"
          ],
          "name": "stderr"
        },
        {
          "output_type": "stream",
          "text": [
            "chunk  306  execution_time  47.54740333557129\n"
          ],
          "name": "stdout"
        },
        {
          "output_type": "stream",
          "text": [
            "0it [00:00, ?it/s]/usr/local/lib/python3.6/dist-packages/ipykernel_launcher.py:98: RuntimeWarning: invalid value encountered in double_scalars\n",
            "5000it [00:00, 6639.06it/s]\n",
            "5000it [00:00, 6315.10it/s]\n"
          ],
          "name": "stderr"
        },
        {
          "output_type": "stream",
          "text": [
            "chunk  307  execution_time  47.988783836364746\n"
          ],
          "name": "stdout"
        },
        {
          "output_type": "stream",
          "text": [
            "0it [00:00, ?it/s]/usr/local/lib/python3.6/dist-packages/ipykernel_launcher.py:98: RuntimeWarning: invalid value encountered in double_scalars\n",
            "5000it [00:00, 6612.19it/s]\n",
            "5000it [00:00, 6731.78it/s]\n"
          ],
          "name": "stderr"
        },
        {
          "output_type": "stream",
          "text": [
            "chunk  308  execution_time  45.25621438026428\n"
          ],
          "name": "stdout"
        },
        {
          "output_type": "stream",
          "text": [
            "0it [00:00, ?it/s]/usr/local/lib/python3.6/dist-packages/ipykernel_launcher.py:98: RuntimeWarning: invalid value encountered in double_scalars\n",
            "5000it [00:00, 6549.82it/s]\n",
            "5000it [00:00, 6497.39it/s]\n"
          ],
          "name": "stderr"
        },
        {
          "output_type": "stream",
          "text": [
            "chunk  309  execution_time  46.05666923522949\n"
          ],
          "name": "stdout"
        },
        {
          "output_type": "stream",
          "text": [
            "0it [00:00, ?it/s]/usr/local/lib/python3.6/dist-packages/ipykernel_launcher.py:98: RuntimeWarning: invalid value encountered in double_scalars\n",
            "5000it [00:00, 6713.39it/s]\n",
            "5000it [00:00, 6569.46it/s]\n"
          ],
          "name": "stderr"
        },
        {
          "output_type": "stream",
          "text": [
            "chunk  310  execution_time  45.82200479507446\n"
          ],
          "name": "stdout"
        },
        {
          "output_type": "stream",
          "text": [
            "0it [00:00, ?it/s]/usr/local/lib/python3.6/dist-packages/ipykernel_launcher.py:98: RuntimeWarning: invalid value encountered in double_scalars\n",
            "5000it [00:00, 6565.83it/s]\n",
            "5000it [00:00, 6611.05it/s]\n"
          ],
          "name": "stderr"
        },
        {
          "output_type": "stream",
          "text": [
            "chunk  311  execution_time  46.86097836494446\n"
          ],
          "name": "stdout"
        },
        {
          "output_type": "stream",
          "text": [
            "0it [00:00, ?it/s]/usr/local/lib/python3.6/dist-packages/ipykernel_launcher.py:98: RuntimeWarning: invalid value encountered in double_scalars\n",
            "5000it [00:00, 6597.48it/s]\n",
            "5000it [00:00, 6483.43it/s]\n"
          ],
          "name": "stderr"
        },
        {
          "output_type": "stream",
          "text": [
            "chunk  312  execution_time  47.124749422073364\n"
          ],
          "name": "stdout"
        },
        {
          "output_type": "stream",
          "text": [
            "0it [00:00, ?it/s]/usr/local/lib/python3.6/dist-packages/ipykernel_launcher.py:98: RuntimeWarning: invalid value encountered in double_scalars\n",
            "5000it [00:00, 6704.09it/s]\n",
            "5000it [00:00, 6854.62it/s]\n"
          ],
          "name": "stderr"
        },
        {
          "output_type": "stream",
          "text": [
            "chunk  313  execution_time  45.26704692840576\n"
          ],
          "name": "stdout"
        },
        {
          "output_type": "stream",
          "text": [
            "0it [00:00, ?it/s]/usr/local/lib/python3.6/dist-packages/ipykernel_launcher.py:98: RuntimeWarning: invalid value encountered in double_scalars\n",
            "5000it [00:00, 6492.20it/s]\n",
            "5000it [00:00, 6500.47it/s]\n"
          ],
          "name": "stderr"
        },
        {
          "output_type": "stream",
          "text": [
            "chunk  314  execution_time  47.68358254432678\n"
          ],
          "name": "stdout"
        },
        {
          "output_type": "stream",
          "text": [
            "0it [00:00, ?it/s]/usr/local/lib/python3.6/dist-packages/ipykernel_launcher.py:98: RuntimeWarning: invalid value encountered in double_scalars\n",
            "5000it [00:00, 6650.28it/s]\n",
            "5000it [00:00, 6661.37it/s]\n"
          ],
          "name": "stderr"
        },
        {
          "output_type": "stream",
          "text": [
            "chunk  315  execution_time  47.07015109062195\n"
          ],
          "name": "stdout"
        },
        {
          "output_type": "stream",
          "text": [
            "0it [00:00, ?it/s]/usr/local/lib/python3.6/dist-packages/ipykernel_launcher.py:98: RuntimeWarning: invalid value encountered in double_scalars\n",
            "5000it [00:00, 6608.97it/s]\n",
            "5000it [00:00, 6675.73it/s]\n"
          ],
          "name": "stderr"
        },
        {
          "output_type": "stream",
          "text": [
            "chunk  316  execution_time  47.76308751106262\n"
          ],
          "name": "stdout"
        },
        {
          "output_type": "stream",
          "text": [
            "0it [00:00, ?it/s]/usr/local/lib/python3.6/dist-packages/ipykernel_launcher.py:98: RuntimeWarning: invalid value encountered in double_scalars\n",
            "5000it [00:00, 6567.14it/s]\n",
            "5000it [00:00, 6509.33it/s]\n"
          ],
          "name": "stderr"
        },
        {
          "output_type": "stream",
          "text": [
            "chunk  317  execution_time  46.59888243675232\n"
          ],
          "name": "stdout"
        },
        {
          "output_type": "stream",
          "text": [
            "0it [00:00, ?it/s]/usr/local/lib/python3.6/dist-packages/ipykernel_launcher.py:98: RuntimeWarning: invalid value encountered in double_scalars\n",
            "5000it [00:00, 6725.21it/s]\n",
            "5000it [00:00, 6602.00it/s]\n"
          ],
          "name": "stderr"
        },
        {
          "output_type": "stream",
          "text": [
            "chunk  318  execution_time  45.956578969955444\n"
          ],
          "name": "stdout"
        },
        {
          "output_type": "stream",
          "text": [
            "0it [00:00, ?it/s]/usr/local/lib/python3.6/dist-packages/ipykernel_launcher.py:98: RuntimeWarning: invalid value encountered in double_scalars\n",
            "5000it [00:00, 6590.36it/s]\n",
            "5000it [00:00, 6512.65it/s]\n"
          ],
          "name": "stderr"
        },
        {
          "output_type": "stream",
          "text": [
            "chunk  319  execution_time  46.39346694946289\n"
          ],
          "name": "stdout"
        },
        {
          "output_type": "stream",
          "text": [
            "0it [00:00, ?it/s]/usr/local/lib/python3.6/dist-packages/ipykernel_launcher.py:98: RuntimeWarning: invalid value encountered in double_scalars\n",
            "5000it [00:00, 6609.60it/s]\n",
            "5000it [00:00, 6596.94it/s]\n"
          ],
          "name": "stderr"
        },
        {
          "output_type": "stream",
          "text": [
            "chunk  320  execution_time  46.224092960357666\n"
          ],
          "name": "stdout"
        },
        {
          "output_type": "stream",
          "text": [
            "0it [00:00, ?it/s]/usr/local/lib/python3.6/dist-packages/ipykernel_launcher.py:98: RuntimeWarning: invalid value encountered in double_scalars\n",
            "5000it [00:00, 6510.48it/s]\n",
            "5000it [00:00, 6425.26it/s]\n"
          ],
          "name": "stderr"
        },
        {
          "output_type": "stream",
          "text": [
            "chunk  321  execution_time  45.61576843261719\n"
          ],
          "name": "stdout"
        },
        {
          "output_type": "stream",
          "text": [
            "0it [00:00, ?it/s]/usr/local/lib/python3.6/dist-packages/ipykernel_launcher.py:98: RuntimeWarning: invalid value encountered in double_scalars\n",
            "5000it [00:00, 6575.84it/s]\n",
            "5000it [00:00, 6787.41it/s]\n"
          ],
          "name": "stderr"
        },
        {
          "output_type": "stream",
          "text": [
            "chunk  322  execution_time  46.8635196685791\n"
          ],
          "name": "stdout"
        },
        {
          "output_type": "stream",
          "text": [
            "0it [00:00, ?it/s]/usr/local/lib/python3.6/dist-packages/ipykernel_launcher.py:98: RuntimeWarning: invalid value encountered in double_scalars\n",
            "5000it [00:00, 6704.33it/s]\n",
            "5000it [00:00, 6658.76it/s]\n"
          ],
          "name": "stderr"
        },
        {
          "output_type": "stream",
          "text": [
            "chunk  323  execution_time  45.90542125701904\n"
          ],
          "name": "stdout"
        },
        {
          "output_type": "stream",
          "text": [
            "0it [00:00, ?it/s]/usr/local/lib/python3.6/dist-packages/ipykernel_launcher.py:98: RuntimeWarning: invalid value encountered in double_scalars\n",
            "5000it [00:00, 6734.69it/s]\n",
            "5000it [00:00, 6604.37it/s]\n"
          ],
          "name": "stderr"
        },
        {
          "output_type": "stream",
          "text": [
            "chunk  324  execution_time  46.04644584655762\n"
          ],
          "name": "stdout"
        },
        {
          "output_type": "stream",
          "text": [
            "0it [00:00, ?it/s]/usr/local/lib/python3.6/dist-packages/ipykernel_launcher.py:98: RuntimeWarning: invalid value encountered in double_scalars\n",
            "5000it [00:00, 6620.38it/s]\n",
            "5000it [00:00, 6539.32it/s]\n"
          ],
          "name": "stderr"
        },
        {
          "output_type": "stream",
          "text": [
            "chunk  325  execution_time  45.10317277908325\n"
          ],
          "name": "stdout"
        },
        {
          "output_type": "stream",
          "text": [
            "0it [00:00, ?it/s]/usr/local/lib/python3.6/dist-packages/ipykernel_launcher.py:98: RuntimeWarning: invalid value encountered in double_scalars\n",
            "5000it [00:00, 6621.18it/s]\n",
            "5000it [00:00, 6643.85it/s]\n"
          ],
          "name": "stderr"
        },
        {
          "output_type": "stream",
          "text": [
            "chunk  326  execution_time  47.07575511932373\n"
          ],
          "name": "stdout"
        },
        {
          "output_type": "stream",
          "text": [
            "0it [00:00, ?it/s]/usr/local/lib/python3.6/dist-packages/ipykernel_launcher.py:98: RuntimeWarning: invalid value encountered in double_scalars\n",
            "5000it [00:00, 6907.42it/s]\n",
            "5000it [00:00, 6493.49it/s]\n"
          ],
          "name": "stderr"
        },
        {
          "output_type": "stream",
          "text": [
            "chunk  327  execution_time  46.366029024124146\n"
          ],
          "name": "stdout"
        },
        {
          "output_type": "stream",
          "text": [
            "0it [00:00, ?it/s]/usr/local/lib/python3.6/dist-packages/ipykernel_launcher.py:98: RuntimeWarning: invalid value encountered in double_scalars\n",
            "5000it [00:00, 6584.61it/s]\n",
            "5000it [00:00, 6741.96it/s]\n"
          ],
          "name": "stderr"
        },
        {
          "output_type": "stream",
          "text": [
            "chunk  328  execution_time  46.65463447570801\n"
          ],
          "name": "stdout"
        },
        {
          "output_type": "stream",
          "text": [
            "0it [00:00, ?it/s]/usr/local/lib/python3.6/dist-packages/ipykernel_launcher.py:98: RuntimeWarning: invalid value encountered in double_scalars\n",
            "5000it [00:00, 6711.22it/s]\n",
            "5000it [00:00, 6734.97it/s]\n"
          ],
          "name": "stderr"
        },
        {
          "output_type": "stream",
          "text": [
            "chunk  329  execution_time  46.48560404777527\n"
          ],
          "name": "stdout"
        },
        {
          "output_type": "stream",
          "text": [
            "0it [00:00, ?it/s]/usr/local/lib/python3.6/dist-packages/ipykernel_launcher.py:98: RuntimeWarning: invalid value encountered in double_scalars\n",
            "5000it [00:00, 6849.31it/s]\n",
            "5000it [00:00, 6582.77it/s]\n"
          ],
          "name": "stderr"
        },
        {
          "output_type": "stream",
          "text": [
            "chunk  330  execution_time  45.65060901641846\n"
          ],
          "name": "stdout"
        },
        {
          "output_type": "stream",
          "text": [
            "0it [00:00, ?it/s]/usr/local/lib/python3.6/dist-packages/ipykernel_launcher.py:98: RuntimeWarning: invalid value encountered in double_scalars\n",
            "5000it [00:00, 6700.62it/s]\n",
            "5000it [00:00, 6537.72it/s]\n"
          ],
          "name": "stderr"
        },
        {
          "output_type": "stream",
          "text": [
            "chunk  331  execution_time  45.716824769973755\n"
          ],
          "name": "stdout"
        },
        {
          "output_type": "stream",
          "text": [
            "0it [00:00, ?it/s]/usr/local/lib/python3.6/dist-packages/ipykernel_launcher.py:98: RuntimeWarning: invalid value encountered in double_scalars\n",
            "5000it [00:00, 6616.35it/s]\n",
            "5000it [00:00, 6557.78it/s]\n"
          ],
          "name": "stderr"
        },
        {
          "output_type": "stream",
          "text": [
            "chunk  332  execution_time  46.74205684661865\n"
          ],
          "name": "stdout"
        },
        {
          "output_type": "stream",
          "text": [
            "0it [00:00, ?it/s]/usr/local/lib/python3.6/dist-packages/ipykernel_launcher.py:98: RuntimeWarning: invalid value encountered in double_scalars\n",
            "5000it [00:00, 6846.25it/s]\n",
            "5000it [00:00, 6716.50it/s]\n"
          ],
          "name": "stderr"
        },
        {
          "output_type": "stream",
          "text": [
            "chunk  333  execution_time  46.201733350753784\n"
          ],
          "name": "stdout"
        },
        {
          "output_type": "stream",
          "text": [
            "0it [00:00, ?it/s]/usr/local/lib/python3.6/dist-packages/ipykernel_launcher.py:98: RuntimeWarning: invalid value encountered in double_scalars\n",
            "5000it [00:00, 6918.57it/s]\n",
            "5000it [00:00, 6664.17it/s]\n"
          ],
          "name": "stderr"
        },
        {
          "output_type": "stream",
          "text": [
            "chunk  334  execution_time  45.88521766662598\n"
          ],
          "name": "stdout"
        },
        {
          "output_type": "stream",
          "text": [
            "0it [00:00, ?it/s]/usr/local/lib/python3.6/dist-packages/ipykernel_launcher.py:98: RuntimeWarning: invalid value encountered in double_scalars\n",
            "5000it [00:00, 6511.50it/s]\n",
            "5000it [00:00, 6747.37it/s]\n"
          ],
          "name": "stderr"
        },
        {
          "output_type": "stream",
          "text": [
            "chunk  335  execution_time  46.820464849472046\n"
          ],
          "name": "stdout"
        },
        {
          "output_type": "stream",
          "text": [
            "0it [00:00, ?it/s]/usr/local/lib/python3.6/dist-packages/ipykernel_launcher.py:98: RuntimeWarning: invalid value encountered in double_scalars\n",
            "5000it [00:00, 6599.08it/s]\n",
            "5000it [00:00, 6471.99it/s]\n"
          ],
          "name": "stderr"
        },
        {
          "output_type": "stream",
          "text": [
            "chunk  336  execution_time  46.62972903251648\n"
          ],
          "name": "stdout"
        },
        {
          "output_type": "stream",
          "text": [
            "0it [00:00, ?it/s]/usr/local/lib/python3.6/dist-packages/ipykernel_launcher.py:98: RuntimeWarning: invalid value encountered in double_scalars\n",
            "5000it [00:00, 6754.94it/s]\n",
            "5000it [00:00, 6541.16it/s]\n"
          ],
          "name": "stderr"
        },
        {
          "output_type": "stream",
          "text": [
            "chunk  337  execution_time  45.45601940155029\n"
          ],
          "name": "stdout"
        },
        {
          "output_type": "stream",
          "text": [
            "0it [00:00, ?it/s]/usr/local/lib/python3.6/dist-packages/ipykernel_launcher.py:98: RuntimeWarning: invalid value encountered in double_scalars\n",
            "5000it [00:00, 6512.21it/s]\n",
            "5000it [00:00, 6635.29it/s]\n"
          ],
          "name": "stderr"
        },
        {
          "output_type": "stream",
          "text": [
            "chunk  338  execution_time  45.561306953430176\n"
          ],
          "name": "stdout"
        },
        {
          "output_type": "stream",
          "text": [
            "0it [00:00, ?it/s]/usr/local/lib/python3.6/dist-packages/ipykernel_launcher.py:98: RuntimeWarning: invalid value encountered in double_scalars\n",
            "5000it [00:00, 6729.62it/s]\n",
            "5000it [00:00, 6595.09it/s]\n"
          ],
          "name": "stderr"
        },
        {
          "output_type": "stream",
          "text": [
            "chunk  339  execution_time  46.35682034492493\n"
          ],
          "name": "stdout"
        },
        {
          "output_type": "stream",
          "text": [
            "0it [00:00, ?it/s]/usr/local/lib/python3.6/dist-packages/ipykernel_launcher.py:98: RuntimeWarning: invalid value encountered in double_scalars\n",
            "5000it [00:00, 6412.77it/s]\n",
            "5000it [00:00, 6790.64it/s]\n"
          ],
          "name": "stderr"
        },
        {
          "output_type": "stream",
          "text": [
            "chunk  340  execution_time  46.14103841781616\n"
          ],
          "name": "stdout"
        },
        {
          "output_type": "stream",
          "text": [
            "0it [00:00, ?it/s]/usr/local/lib/python3.6/dist-packages/ipykernel_launcher.py:98: RuntimeWarning: invalid value encountered in double_scalars\n",
            "5000it [00:00, 6666.79it/s]\n",
            "5000it [00:00, 6743.59it/s]\n"
          ],
          "name": "stderr"
        },
        {
          "output_type": "stream",
          "text": [
            "chunk  341  execution_time  44.168996810913086\n"
          ],
          "name": "stdout"
        },
        {
          "output_type": "stream",
          "text": [
            "0it [00:00, ?it/s]/usr/local/lib/python3.6/dist-packages/ipykernel_launcher.py:98: RuntimeWarning: invalid value encountered in double_scalars\n",
            "5000it [00:00, 6734.38it/s]\n",
            "5000it [00:00, 6632.49it/s]\n"
          ],
          "name": "stderr"
        },
        {
          "output_type": "stream",
          "text": [
            "chunk  342  execution_time  46.517600536346436\n"
          ],
          "name": "stdout"
        },
        {
          "output_type": "stream",
          "text": [
            "0it [00:00, ?it/s]/usr/local/lib/python3.6/dist-packages/ipykernel_launcher.py:98: RuntimeWarning: invalid value encountered in double_scalars\n",
            "5000it [00:00, 6886.90it/s]\n",
            "5000it [00:00, 6789.02it/s]\n"
          ],
          "name": "stderr"
        },
        {
          "output_type": "stream",
          "text": [
            "chunk  343  execution_time  46.94930362701416\n"
          ],
          "name": "stdout"
        },
        {
          "output_type": "stream",
          "text": [
            "0it [00:00, ?it/s]/usr/local/lib/python3.6/dist-packages/ipykernel_launcher.py:98: RuntimeWarning: invalid value encountered in double_scalars\n",
            "5000it [00:00, 6859.10it/s]\n",
            "5000it [00:00, 6651.07it/s]\n"
          ],
          "name": "stderr"
        },
        {
          "output_type": "stream",
          "text": [
            "chunk  344  execution_time  45.601181983947754\n"
          ],
          "name": "stdout"
        },
        {
          "output_type": "stream",
          "text": [
            "0it [00:00, ?it/s]/usr/local/lib/python3.6/dist-packages/ipykernel_launcher.py:98: RuntimeWarning: invalid value encountered in double_scalars\n",
            "5000it [00:00, 6754.50it/s]\n",
            "5000it [00:00, 6776.39it/s]\n"
          ],
          "name": "stderr"
        },
        {
          "output_type": "stream",
          "text": [
            "chunk  345  execution_time  44.825021505355835\n"
          ],
          "name": "stdout"
        },
        {
          "output_type": "stream",
          "text": [
            "0it [00:00, ?it/s]/usr/local/lib/python3.6/dist-packages/ipykernel_launcher.py:98: RuntimeWarning: invalid value encountered in double_scalars\n",
            "5000it [00:00, 6820.60it/s]\n",
            "5000it [00:00, 6643.28it/s]\n"
          ],
          "name": "stderr"
        },
        {
          "output_type": "stream",
          "text": [
            "chunk  346  execution_time  46.12563443183899\n"
          ],
          "name": "stdout"
        },
        {
          "output_type": "stream",
          "text": [
            "0it [00:00, ?it/s]/usr/local/lib/python3.6/dist-packages/ipykernel_launcher.py:98: RuntimeWarning: invalid value encountered in double_scalars\n",
            "5000it [00:00, 6714.92it/s]\n",
            "5000it [00:00, 6684.42it/s]\n"
          ],
          "name": "stderr"
        },
        {
          "output_type": "stream",
          "text": [
            "chunk  347  execution_time  45.400020599365234\n"
          ],
          "name": "stdout"
        },
        {
          "output_type": "stream",
          "text": [
            "0it [00:00, ?it/s]/usr/local/lib/python3.6/dist-packages/ipykernel_launcher.py:98: RuntimeWarning: invalid value encountered in double_scalars\n",
            "5000it [00:00, 6694.54it/s]\n",
            "5000it [00:00, 6496.78it/s]\n"
          ],
          "name": "stderr"
        },
        {
          "output_type": "stream",
          "text": [
            "chunk  348  execution_time  47.40416741371155\n"
          ],
          "name": "stdout"
        },
        {
          "output_type": "stream",
          "text": [
            "0it [00:00, ?it/s]/usr/local/lib/python3.6/dist-packages/ipykernel_launcher.py:98: RuntimeWarning: invalid value encountered in double_scalars\n",
            "5000it [00:00, 6549.28it/s]\n",
            "5000it [00:00, 6499.26it/s]\n"
          ],
          "name": "stderr"
        },
        {
          "output_type": "stream",
          "text": [
            "chunk  349  execution_time  45.95025682449341\n"
          ],
          "name": "stdout"
        },
        {
          "output_type": "stream",
          "text": [
            "0it [00:00, ?it/s]/usr/local/lib/python3.6/dist-packages/ipykernel_launcher.py:98: RuntimeWarning: invalid value encountered in double_scalars\n",
            "5000it [00:00, 6761.07it/s]\n",
            "5000it [00:00, 6714.21it/s]\n"
          ],
          "name": "stderr"
        },
        {
          "output_type": "stream",
          "text": [
            "chunk  350  execution_time  45.32338047027588\n"
          ],
          "name": "stdout"
        },
        {
          "output_type": "stream",
          "text": [
            "0it [00:00, ?it/s]/usr/local/lib/python3.6/dist-packages/ipykernel_launcher.py:98: RuntimeWarning: invalid value encountered in double_scalars\n",
            "5000it [00:00, 6665.96it/s]\n",
            "5000it [00:00, 6602.82it/s]\n"
          ],
          "name": "stderr"
        },
        {
          "output_type": "stream",
          "text": [
            "chunk  351  execution_time  46.175774574279785\n"
          ],
          "name": "stdout"
        },
        {
          "output_type": "stream",
          "text": [
            "0it [00:00, ?it/s]/usr/local/lib/python3.6/dist-packages/ipykernel_launcher.py:98: RuntimeWarning: invalid value encountered in double_scalars\n",
            "5000it [00:00, 6712.07it/s]\n",
            "5000it [00:00, 6737.10it/s]\n"
          ],
          "name": "stderr"
        },
        {
          "output_type": "stream",
          "text": [
            "chunk  352  execution_time  46.034215688705444\n"
          ],
          "name": "stdout"
        },
        {
          "output_type": "stream",
          "text": [
            "0it [00:00, ?it/s]/usr/local/lib/python3.6/dist-packages/ipykernel_launcher.py:98: RuntimeWarning: invalid value encountered in double_scalars\n",
            "5000it [00:00, 6889.85it/s]\n",
            "5000it [00:00, 6764.75it/s]\n"
          ],
          "name": "stderr"
        },
        {
          "output_type": "stream",
          "text": [
            "chunk  353  execution_time  44.798102140426636\n"
          ],
          "name": "stdout"
        },
        {
          "output_type": "stream",
          "text": [
            "0it [00:00, ?it/s]/usr/local/lib/python3.6/dist-packages/ipykernel_launcher.py:98: RuntimeWarning: invalid value encountered in double_scalars\n",
            "5000it [00:00, 6849.58it/s]\n",
            "5000it [00:00, 6769.86it/s]\n"
          ],
          "name": "stderr"
        },
        {
          "output_type": "stream",
          "text": [
            "chunk  354  execution_time  45.352262020111084\n"
          ],
          "name": "stdout"
        },
        {
          "output_type": "stream",
          "text": [
            "0it [00:00, ?it/s]/usr/local/lib/python3.6/dist-packages/ipykernel_launcher.py:98: RuntimeWarning: invalid value encountered in double_scalars\n",
            "5000it [00:00, 6742.79it/s]\n",
            "5000it [00:00, 6779.85it/s]\n"
          ],
          "name": "stderr"
        },
        {
          "output_type": "stream",
          "text": [
            "chunk  355  execution_time  45.69838237762451\n"
          ],
          "name": "stdout"
        },
        {
          "output_type": "stream",
          "text": [
            "0it [00:00, ?it/s]/usr/local/lib/python3.6/dist-packages/ipykernel_launcher.py:98: RuntimeWarning: invalid value encountered in double_scalars\n",
            "5000it [00:00, 6676.89it/s]\n",
            "5000it [00:00, 6579.47it/s]\n"
          ],
          "name": "stderr"
        },
        {
          "output_type": "stream",
          "text": [
            "chunk  356  execution_time  46.08815860748291\n"
          ],
          "name": "stdout"
        },
        {
          "output_type": "stream",
          "text": [
            "0it [00:00, ?it/s]/usr/local/lib/python3.6/dist-packages/ipykernel_launcher.py:98: RuntimeWarning: invalid value encountered in double_scalars\n",
            "5000it [00:00, 6783.86it/s]\n",
            "5000it [00:00, 6712.19it/s]\n"
          ],
          "name": "stderr"
        },
        {
          "output_type": "stream",
          "text": [
            "chunk  357  execution_time  44.304978132247925\n"
          ],
          "name": "stdout"
        },
        {
          "output_type": "stream",
          "text": [
            "0it [00:00, ?it/s]/usr/local/lib/python3.6/dist-packages/ipykernel_launcher.py:98: RuntimeWarning: invalid value encountered in double_scalars\n",
            "5000it [00:00, 6888.99it/s]\n",
            "5000it [00:00, 6773.53it/s]\n"
          ],
          "name": "stderr"
        },
        {
          "output_type": "stream",
          "text": [
            "chunk  358  execution_time  46.08244514465332\n"
          ],
          "name": "stdout"
        },
        {
          "output_type": "stream",
          "text": [
            "0it [00:00, ?it/s]/usr/local/lib/python3.6/dist-packages/ipykernel_launcher.py:98: RuntimeWarning: invalid value encountered in double_scalars\n",
            "5000it [00:00, 6557.44it/s]\n",
            "5000it [00:00, 6864.92it/s]\n"
          ],
          "name": "stderr"
        },
        {
          "output_type": "stream",
          "text": [
            "chunk  359  execution_time  44.98149061203003\n"
          ],
          "name": "stdout"
        },
        {
          "output_type": "stream",
          "text": [
            "0it [00:00, ?it/s]/usr/local/lib/python3.6/dist-packages/ipykernel_launcher.py:98: RuntimeWarning: invalid value encountered in double_scalars\n",
            "5000it [00:00, 6871.34it/s]\n",
            "5000it [00:00, 6732.38it/s]\n"
          ],
          "name": "stderr"
        },
        {
          "output_type": "stream",
          "text": [
            "chunk  360  execution_time  45.952080488204956\n"
          ],
          "name": "stdout"
        },
        {
          "output_type": "stream",
          "text": [
            "0it [00:00, ?it/s]/usr/local/lib/python3.6/dist-packages/ipykernel_launcher.py:98: RuntimeWarning: invalid value encountered in double_scalars\n",
            "5000it [00:00, 6689.54it/s]\n",
            "5000it [00:00, 6737.69it/s]\n"
          ],
          "name": "stderr"
        },
        {
          "output_type": "stream",
          "text": [
            "chunk  361  execution_time  45.718350648880005\n"
          ],
          "name": "stdout"
        },
        {
          "output_type": "stream",
          "text": [
            "0it [00:00, ?it/s]/usr/local/lib/python3.6/dist-packages/ipykernel_launcher.py:98: RuntimeWarning: invalid value encountered in double_scalars\n",
            "5000it [00:00, 6764.81it/s]\n",
            "5000it [00:00, 6650.04it/s]\n"
          ],
          "name": "stderr"
        },
        {
          "output_type": "stream",
          "text": [
            "chunk  362  execution_time  44.635175943374634\n"
          ],
          "name": "stdout"
        },
        {
          "output_type": "stream",
          "text": [
            "0it [00:00, ?it/s]/usr/local/lib/python3.6/dist-packages/ipykernel_launcher.py:98: RuntimeWarning: invalid value encountered in double_scalars\n",
            "5000it [00:00, 6843.57it/s]\n",
            "5000it [00:00, 6765.31it/s]\n"
          ],
          "name": "stderr"
        },
        {
          "output_type": "stream",
          "text": [
            "chunk  363  execution_time  45.335790157318115\n"
          ],
          "name": "stdout"
        },
        {
          "output_type": "stream",
          "text": [
            "0it [00:00, ?it/s]/usr/local/lib/python3.6/dist-packages/ipykernel_launcher.py:98: RuntimeWarning: invalid value encountered in double_scalars\n",
            "5000it [00:00, 6801.52it/s]\n",
            "5000it [00:00, 6685.70it/s]\n"
          ],
          "name": "stderr"
        },
        {
          "output_type": "stream",
          "text": [
            "chunk  364  execution_time  46.517918825149536\n"
          ],
          "name": "stdout"
        },
        {
          "output_type": "stream",
          "text": [
            "0it [00:00, ?it/s]/usr/local/lib/python3.6/dist-packages/ipykernel_launcher.py:98: RuntimeWarning: invalid value encountered in double_scalars\n",
            "5000it [00:00, 6930.12it/s]\n",
            "5000it [00:00, 6775.70it/s]\n"
          ],
          "name": "stderr"
        },
        {
          "output_type": "stream",
          "text": [
            "chunk  365  execution_time  46.400726079940796\n"
          ],
          "name": "stdout"
        },
        {
          "output_type": "stream",
          "text": [
            "0it [00:00, ?it/s]/usr/local/lib/python3.6/dist-packages/ipykernel_launcher.py:98: RuntimeWarning: invalid value encountered in double_scalars\n",
            "5000it [00:00, 6717.22it/s]\n",
            "5000it [00:00, 6604.74it/s]\n"
          ],
          "name": "stderr"
        },
        {
          "output_type": "stream",
          "text": [
            "chunk  366  execution_time  44.559414863586426\n"
          ],
          "name": "stdout"
        },
        {
          "output_type": "stream",
          "text": [
            "0it [00:00, ?it/s]/usr/local/lib/python3.6/dist-packages/ipykernel_launcher.py:98: RuntimeWarning: invalid value encountered in double_scalars\n",
            "5000it [00:00, 6851.72it/s]\n",
            "5000it [00:00, 6836.04it/s]\n"
          ],
          "name": "stderr"
        },
        {
          "output_type": "stream",
          "text": [
            "chunk  367  execution_time  45.82343935966492\n"
          ],
          "name": "stdout"
        },
        {
          "output_type": "stream",
          "text": [
            "0it [00:00, ?it/s]/usr/local/lib/python3.6/dist-packages/ipykernel_launcher.py:98: RuntimeWarning: invalid value encountered in double_scalars\n",
            "5000it [00:00, 6833.64it/s]\n",
            "5000it [00:00, 6913.55it/s]\n"
          ],
          "name": "stderr"
        },
        {
          "output_type": "stream",
          "text": [
            "chunk  368  execution_time  44.529494285583496\n"
          ],
          "name": "stdout"
        },
        {
          "output_type": "stream",
          "text": [
            "0it [00:00, ?it/s]/usr/local/lib/python3.6/dist-packages/ipykernel_launcher.py:98: RuntimeWarning: invalid value encountered in double_scalars\n",
            "5000it [00:00, 6698.77it/s]\n",
            "5000it [00:00, 6679.03it/s]\n"
          ],
          "name": "stderr"
        },
        {
          "output_type": "stream",
          "text": [
            "chunk  369  execution_time  46.752320289611816\n"
          ],
          "name": "stdout"
        },
        {
          "output_type": "stream",
          "text": [
            "0it [00:00, ?it/s]/usr/local/lib/python3.6/dist-packages/ipykernel_launcher.py:98: RuntimeWarning: invalid value encountered in double_scalars\n",
            "5000it [00:00, 6824.77it/s]\n",
            "5000it [00:00, 6854.89it/s]\n"
          ],
          "name": "stderr"
        },
        {
          "output_type": "stream",
          "text": [
            "chunk  370  execution_time  45.5982871055603\n"
          ],
          "name": "stdout"
        },
        {
          "output_type": "stream",
          "text": [
            "0it [00:00, ?it/s]/usr/local/lib/python3.6/dist-packages/ipykernel_launcher.py:98: RuntimeWarning: invalid value encountered in double_scalars\n",
            "5000it [00:00, 6779.94it/s]\n",
            "5000it [00:00, 6830.14it/s]\n"
          ],
          "name": "stderr"
        },
        {
          "output_type": "stream",
          "text": [
            "chunk  371  execution_time  44.91311526298523\n"
          ],
          "name": "stdout"
        },
        {
          "output_type": "stream",
          "text": [
            "0it [00:00, ?it/s]/usr/local/lib/python3.6/dist-packages/ipykernel_launcher.py:98: RuntimeWarning: invalid value encountered in double_scalars\n",
            "5000it [00:00, 6731.82it/s]\n",
            "5000it [00:00, 6686.87it/s]\n"
          ],
          "name": "stderr"
        },
        {
          "output_type": "stream",
          "text": [
            "chunk  372  execution_time  45.73017454147339\n"
          ],
          "name": "stdout"
        },
        {
          "output_type": "stream",
          "text": [
            "0it [00:00, ?it/s]/usr/local/lib/python3.6/dist-packages/ipykernel_launcher.py:98: RuntimeWarning: invalid value encountered in double_scalars\n",
            "5000it [00:00, 7140.51it/s]\n",
            "5000it [00:00, 6925.98it/s]\n"
          ],
          "name": "stderr"
        },
        {
          "output_type": "stream",
          "text": [
            "chunk  373  execution_time  45.64004302024841\n"
          ],
          "name": "stdout"
        },
        {
          "output_type": "stream",
          "text": [
            "0it [00:00, ?it/s]/usr/local/lib/python3.6/dist-packages/ipykernel_launcher.py:98: RuntimeWarning: invalid value encountered in double_scalars\n",
            "5000it [00:00, 7066.03it/s]\n",
            "5000it [00:00, 6997.35it/s]\n"
          ],
          "name": "stderr"
        },
        {
          "output_type": "stream",
          "text": [
            "chunk  374  execution_time  45.22262382507324\n"
          ],
          "name": "stdout"
        },
        {
          "output_type": "stream",
          "text": [
            "0it [00:00, ?it/s]/usr/local/lib/python3.6/dist-packages/ipykernel_launcher.py:98: RuntimeWarning: invalid value encountered in double_scalars\n",
            "5000it [00:00, 6937.58it/s]\n",
            "5000it [00:00, 6767.00it/s]\n"
          ],
          "name": "stderr"
        },
        {
          "output_type": "stream",
          "text": [
            "chunk  375  execution_time  45.4117157459259\n"
          ],
          "name": "stdout"
        },
        {
          "output_type": "stream",
          "text": [
            "0it [00:00, ?it/s]/usr/local/lib/python3.6/dist-packages/ipykernel_launcher.py:98: RuntimeWarning: invalid value encountered in double_scalars\n",
            "5000it [00:00, 6873.09it/s]\n",
            "5000it [00:00, 6980.91it/s]\n"
          ],
          "name": "stderr"
        },
        {
          "output_type": "stream",
          "text": [
            "chunk  376  execution_time  43.65114903450012\n"
          ],
          "name": "stdout"
        },
        {
          "output_type": "stream",
          "text": [
            "0it [00:00, ?it/s]/usr/local/lib/python3.6/dist-packages/ipykernel_launcher.py:98: RuntimeWarning: invalid value encountered in double_scalars\n",
            "5000it [00:00, 6825.41it/s]\n",
            "5000it [00:00, 6945.97it/s]\n"
          ],
          "name": "stderr"
        },
        {
          "output_type": "stream",
          "text": [
            "chunk  377  execution_time  44.18873381614685\n"
          ],
          "name": "stdout"
        },
        {
          "output_type": "stream",
          "text": [
            "0it [00:00, ?it/s]/usr/local/lib/python3.6/dist-packages/ipykernel_launcher.py:98: RuntimeWarning: invalid value encountered in double_scalars\n",
            "5000it [00:00, 6823.18it/s]\n",
            "5000it [00:00, 6853.22it/s]\n"
          ],
          "name": "stderr"
        },
        {
          "output_type": "stream",
          "text": [
            "chunk  378  execution_time  45.2288236618042\n"
          ],
          "name": "stdout"
        },
        {
          "output_type": "stream",
          "text": [
            "0it [00:00, ?it/s]/usr/local/lib/python3.6/dist-packages/ipykernel_launcher.py:98: RuntimeWarning: invalid value encountered in double_scalars\n",
            "5000it [00:00, 6776.30it/s]\n",
            "5000it [00:00, 6690.77it/s]\n"
          ],
          "name": "stderr"
        },
        {
          "output_type": "stream",
          "text": [
            "chunk  379  execution_time  45.287424087524414\n"
          ],
          "name": "stdout"
        },
        {
          "output_type": "stream",
          "text": [
            "0it [00:00, ?it/s]/usr/local/lib/python3.6/dist-packages/ipykernel_launcher.py:98: RuntimeWarning: invalid value encountered in double_scalars\n",
            "5000it [00:00, 7011.51it/s]\n",
            "5000it [00:00, 7000.37it/s]\n"
          ],
          "name": "stderr"
        },
        {
          "output_type": "stream",
          "text": [
            "chunk  380  execution_time  44.69996404647827\n"
          ],
          "name": "stdout"
        },
        {
          "output_type": "stream",
          "text": [
            "0it [00:00, ?it/s]/usr/local/lib/python3.6/dist-packages/ipykernel_launcher.py:98: RuntimeWarning: invalid value encountered in double_scalars\n",
            "5000it [00:00, 6839.26it/s]\n",
            "5000it [00:00, 6930.43it/s]\n"
          ],
          "name": "stderr"
        },
        {
          "output_type": "stream",
          "text": [
            "chunk  381  execution_time  45.5720477104187\n"
          ],
          "name": "stdout"
        },
        {
          "output_type": "stream",
          "text": [
            "0it [00:00, ?it/s]/usr/local/lib/python3.6/dist-packages/ipykernel_launcher.py:98: RuntimeWarning: invalid value encountered in double_scalars\n",
            "5000it [00:00, 6873.94it/s]\n",
            "5000it [00:00, 7105.65it/s]\n"
          ],
          "name": "stderr"
        },
        {
          "output_type": "stream",
          "text": [
            "chunk  382  execution_time  44.3537974357605\n"
          ],
          "name": "stdout"
        },
        {
          "output_type": "stream",
          "text": [
            "0it [00:00, ?it/s]/usr/local/lib/python3.6/dist-packages/ipykernel_launcher.py:98: RuntimeWarning: invalid value encountered in double_scalars\n",
            "5000it [00:00, 7052.48it/s]\n",
            "5000it [00:00, 6908.13it/s]\n"
          ],
          "name": "stderr"
        },
        {
          "output_type": "stream",
          "text": [
            "chunk  383  execution_time  45.63139009475708\n"
          ],
          "name": "stdout"
        },
        {
          "output_type": "stream",
          "text": [
            "0it [00:00, ?it/s]/usr/local/lib/python3.6/dist-packages/ipykernel_launcher.py:98: RuntimeWarning: invalid value encountered in double_scalars\n",
            "5000it [00:00, 6963.83it/s]\n",
            "5000it [00:00, 7056.66it/s]\n"
          ],
          "name": "stderr"
        },
        {
          "output_type": "stream",
          "text": [
            "chunk  384  execution_time  45.11621975898743\n"
          ],
          "name": "stdout"
        },
        {
          "output_type": "stream",
          "text": [
            "0it [00:00, ?it/s]/usr/local/lib/python3.6/dist-packages/ipykernel_launcher.py:98: RuntimeWarning: invalid value encountered in double_scalars\n",
            "5000it [00:00, 7067.41it/s]\n",
            "5000it [00:00, 7013.10it/s]\n"
          ],
          "name": "stderr"
        },
        {
          "output_type": "stream",
          "text": [
            "chunk  385  execution_time  43.99457287788391\n"
          ],
          "name": "stdout"
        },
        {
          "output_type": "stream",
          "text": [
            "0it [00:00, ?it/s]/usr/local/lib/python3.6/dist-packages/ipykernel_launcher.py:98: RuntimeWarning: invalid value encountered in double_scalars\n",
            "5000it [00:00, 6980.77it/s]\n",
            "5000it [00:00, 7000.70it/s]\n"
          ],
          "name": "stderr"
        },
        {
          "output_type": "stream",
          "text": [
            "chunk  386  execution_time  44.84599304199219\n"
          ],
          "name": "stdout"
        },
        {
          "output_type": "stream",
          "text": [
            "0it [00:00, ?it/s]/usr/local/lib/python3.6/dist-packages/ipykernel_launcher.py:98: RuntimeWarning: invalid value encountered in double_scalars\n",
            "5000it [00:00, 6870.54it/s]\n",
            "5000it [00:00, 6746.53it/s]\n"
          ],
          "name": "stderr"
        },
        {
          "output_type": "stream",
          "text": [
            "chunk  387  execution_time  46.181931257247925\n"
          ],
          "name": "stdout"
        },
        {
          "output_type": "stream",
          "text": [
            "0it [00:00, ?it/s]/usr/local/lib/python3.6/dist-packages/ipykernel_launcher.py:98: RuntimeWarning: invalid value encountered in double_scalars\n",
            "5000it [00:00, 6818.76it/s]\n",
            "5000it [00:00, 6706.76it/s]\n"
          ],
          "name": "stderr"
        },
        {
          "output_type": "stream",
          "text": [
            "chunk  388  execution_time  44.90734076499939\n"
          ],
          "name": "stdout"
        },
        {
          "output_type": "stream",
          "text": [
            "0it [00:00, ?it/s]/usr/local/lib/python3.6/dist-packages/ipykernel_launcher.py:98: RuntimeWarning: invalid value encountered in double_scalars\n",
            "5000it [00:00, 6675.55it/s]\n",
            "5000it [00:00, 6802.36it/s]\n"
          ],
          "name": "stderr"
        },
        {
          "output_type": "stream",
          "text": [
            "chunk  389  execution_time  45.10147762298584\n"
          ],
          "name": "stdout"
        },
        {
          "output_type": "stream",
          "text": [
            "0it [00:00, ?it/s]/usr/local/lib/python3.6/dist-packages/ipykernel_launcher.py:98: RuntimeWarning: invalid value encountered in double_scalars\n",
            "5000it [00:00, 6799.57it/s]\n",
            "5000it [00:00, 6722.92it/s]\n"
          ],
          "name": "stderr"
        },
        {
          "output_type": "stream",
          "text": [
            "chunk  390  execution_time  45.72187519073486\n"
          ],
          "name": "stdout"
        },
        {
          "output_type": "stream",
          "text": [
            "0it [00:00, ?it/s]/usr/local/lib/python3.6/dist-packages/ipykernel_launcher.py:98: RuntimeWarning: invalid value encountered in double_scalars\n",
            "5000it [00:00, 6618.55it/s]\n",
            "5000it [00:00, 6420.25it/s]\n"
          ],
          "name": "stderr"
        },
        {
          "output_type": "stream",
          "text": [
            "chunk  391  execution_time  45.45730495452881\n"
          ],
          "name": "stdout"
        },
        {
          "output_type": "stream",
          "text": [
            "0it [00:00, ?it/s]/usr/local/lib/python3.6/dist-packages/ipykernel_launcher.py:98: RuntimeWarning: invalid value encountered in double_scalars\n",
            "5000it [00:00, 6655.47it/s]\n",
            "5000it [00:00, 6999.05it/s]\n"
          ],
          "name": "stderr"
        },
        {
          "output_type": "stream",
          "text": [
            "chunk  392  execution_time  45.46995520591736\n"
          ],
          "name": "stdout"
        },
        {
          "output_type": "stream",
          "text": [
            "0it [00:00, ?it/s]/usr/local/lib/python3.6/dist-packages/ipykernel_launcher.py:98: RuntimeWarning: invalid value encountered in double_scalars\n",
            "5000it [00:00, 6837.81it/s]\n",
            "5000it [00:00, 7053.72it/s]\n"
          ],
          "name": "stderr"
        },
        {
          "output_type": "stream",
          "text": [
            "chunk  393  execution_time  44.35560321807861\n"
          ],
          "name": "stdout"
        },
        {
          "output_type": "stream",
          "text": [
            "0it [00:00, ?it/s]/usr/local/lib/python3.6/dist-packages/ipykernel_launcher.py:98: RuntimeWarning: invalid value encountered in double_scalars\n",
            "5000it [00:00, 6786.49it/s]\n",
            "5000it [00:00, 6789.93it/s]\n"
          ],
          "name": "stderr"
        },
        {
          "output_type": "stream",
          "text": [
            "chunk  394  execution_time  44.99745202064514\n"
          ],
          "name": "stdout"
        },
        {
          "output_type": "stream",
          "text": [
            "0it [00:00, ?it/s]/usr/local/lib/python3.6/dist-packages/ipykernel_launcher.py:98: RuntimeWarning: invalid value encountered in double_scalars\n",
            "5000it [00:00, 6762.68it/s]\n",
            "5000it [00:00, 6792.71it/s]\n"
          ],
          "name": "stderr"
        },
        {
          "output_type": "stream",
          "text": [
            "chunk  395  execution_time  43.9736053943634\n"
          ],
          "name": "stdout"
        },
        {
          "output_type": "stream",
          "text": [
            "0it [00:00, ?it/s]/usr/local/lib/python3.6/dist-packages/ipykernel_launcher.py:98: RuntimeWarning: invalid value encountered in double_scalars\n",
            "5000it [00:00, 6826.65it/s]\n",
            "5000it [00:00, 6799.31it/s]\n"
          ],
          "name": "stderr"
        },
        {
          "output_type": "stream",
          "text": [
            "chunk  396  execution_time  45.93422865867615\n"
          ],
          "name": "stdout"
        },
        {
          "output_type": "stream",
          "text": [
            "0it [00:00, ?it/s]/usr/local/lib/python3.6/dist-packages/ipykernel_launcher.py:98: RuntimeWarning: invalid value encountered in double_scalars\n",
            "5000it [00:00, 6780.02it/s]\n",
            "5000it [00:00, 6845.59it/s]\n"
          ],
          "name": "stderr"
        },
        {
          "output_type": "stream",
          "text": [
            "chunk  397  execution_time  44.23834800720215\n"
          ],
          "name": "stdout"
        },
        {
          "output_type": "stream",
          "text": [
            "0it [00:00, ?it/s]/usr/local/lib/python3.6/dist-packages/ipykernel_launcher.py:98: RuntimeWarning: invalid value encountered in double_scalars\n",
            "5000it [00:00, 6835.03it/s]\n",
            "5000it [00:00, 6993.55it/s]\n"
          ],
          "name": "stderr"
        },
        {
          "output_type": "stream",
          "text": [
            "chunk  398  execution_time  44.111202239990234\n"
          ],
          "name": "stdout"
        },
        {
          "output_type": "stream",
          "text": [
            "0it [00:00, ?it/s]/usr/local/lib/python3.6/dist-packages/ipykernel_launcher.py:98: RuntimeWarning: invalid value encountered in double_scalars\n",
            "5000it [00:00, 6831.12it/s]\n",
            "5000it [00:00, 6823.52it/s]\n"
          ],
          "name": "stderr"
        },
        {
          "output_type": "stream",
          "text": [
            "chunk  399  execution_time  44.40405201911926\n"
          ],
          "name": "stdout"
        },
        {
          "output_type": "stream",
          "text": [
            "0it [00:00, ?it/s]/usr/local/lib/python3.6/dist-packages/ipykernel_launcher.py:98: RuntimeWarning: invalid value encountered in double_scalars\n",
            "5000it [00:00, 6899.62it/s]\n",
            "5000it [00:00, 6739.50it/s]\n"
          ],
          "name": "stderr"
        },
        {
          "output_type": "stream",
          "text": [
            "chunk  400  execution_time  45.066731214523315\n"
          ],
          "name": "stdout"
        },
        {
          "output_type": "stream",
          "text": [
            "0it [00:00, ?it/s]/usr/local/lib/python3.6/dist-packages/ipykernel_launcher.py:98: RuntimeWarning: invalid value encountered in double_scalars\n",
            "5000it [00:00, 6878.21it/s]\n",
            "5000it [00:00, 6970.33it/s]\n"
          ],
          "name": "stderr"
        },
        {
          "output_type": "stream",
          "text": [
            "chunk  401  execution_time  44.089362144470215\n"
          ],
          "name": "stdout"
        },
        {
          "output_type": "stream",
          "text": [
            "0it [00:00, ?it/s]/usr/local/lib/python3.6/dist-packages/ipykernel_launcher.py:98: RuntimeWarning: invalid value encountered in double_scalars\n",
            "5000it [00:00, 6548.14it/s]\n",
            "5000it [00:00, 6845.95it/s]\n"
          ],
          "name": "stderr"
        },
        {
          "output_type": "stream",
          "text": [
            "chunk  402  execution_time  45.85538411140442\n"
          ],
          "name": "stdout"
        },
        {
          "output_type": "stream",
          "text": [
            "0it [00:00, ?it/s]/usr/local/lib/python3.6/dist-packages/ipykernel_launcher.py:98: RuntimeWarning: invalid value encountered in double_scalars\n",
            "5000it [00:00, 6685.94it/s]\n",
            "5000it [00:00, 6814.66it/s]\n"
          ],
          "name": "stderr"
        },
        {
          "output_type": "stream",
          "text": [
            "chunk  403  execution_time  46.31862664222717\n"
          ],
          "name": "stdout"
        },
        {
          "output_type": "stream",
          "text": [
            "0it [00:00, ?it/s]/usr/local/lib/python3.6/dist-packages/ipykernel_launcher.py:98: RuntimeWarning: invalid value encountered in double_scalars\n",
            "5000it [00:00, 6854.38it/s]\n",
            "5000it [00:00, 6645.00it/s]\n"
          ],
          "name": "stderr"
        },
        {
          "output_type": "stream",
          "text": [
            "chunk  404  execution_time  44.649619340896606\n"
          ],
          "name": "stdout"
        },
        {
          "output_type": "stream",
          "text": [
            "0it [00:00, ?it/s]/usr/local/lib/python3.6/dist-packages/ipykernel_launcher.py:98: RuntimeWarning: invalid value encountered in double_scalars\n",
            "5000it [00:00, 7006.49it/s]\n",
            "5000it [00:00, 7059.00it/s]\n"
          ],
          "name": "stderr"
        },
        {
          "output_type": "stream",
          "text": [
            "chunk  405  execution_time  45.74787974357605\n"
          ],
          "name": "stdout"
        },
        {
          "output_type": "stream",
          "text": [
            "0it [00:00, ?it/s]/usr/local/lib/python3.6/dist-packages/ipykernel_launcher.py:98: RuntimeWarning: invalid value encountered in double_scalars\n",
            "5000it [00:00, 6677.51it/s]\n",
            "5000it [00:00, 6933.97it/s]\n"
          ],
          "name": "stderr"
        },
        {
          "output_type": "stream",
          "text": [
            "chunk  406  execution_time  44.552356004714966\n"
          ],
          "name": "stdout"
        },
        {
          "output_type": "stream",
          "text": [
            "0it [00:00, ?it/s]/usr/local/lib/python3.6/dist-packages/ipykernel_launcher.py:98: RuntimeWarning: invalid value encountered in double_scalars\n",
            "5000it [00:00, 7039.83it/s]\n",
            "5000it [00:00, 6874.63it/s]\n"
          ],
          "name": "stderr"
        },
        {
          "output_type": "stream",
          "text": [
            "chunk  407  execution_time  44.3152973651886\n"
          ],
          "name": "stdout"
        },
        {
          "output_type": "stream",
          "text": [
            "0it [00:00, ?it/s]/usr/local/lib/python3.6/dist-packages/ipykernel_launcher.py:98: RuntimeWarning: invalid value encountered in double_scalars\n",
            "5000it [00:00, 6935.94it/s]\n",
            "5000it [00:00, 6827.60it/s]\n"
          ],
          "name": "stderr"
        },
        {
          "output_type": "stream",
          "text": [
            "chunk  408  execution_time  44.77641320228577\n"
          ],
          "name": "stdout"
        },
        {
          "output_type": "stream",
          "text": [
            "0it [00:00, ?it/s]/usr/local/lib/python3.6/dist-packages/ipykernel_launcher.py:98: RuntimeWarning: invalid value encountered in double_scalars\n",
            "5000it [00:00, 6987.53it/s]\n",
            "5000it [00:00, 6627.62it/s]\n"
          ],
          "name": "stderr"
        },
        {
          "output_type": "stream",
          "text": [
            "chunk  409  execution_time  44.69561147689819\n"
          ],
          "name": "stdout"
        },
        {
          "output_type": "stream",
          "text": [
            "0it [00:00, ?it/s]/usr/local/lib/python3.6/dist-packages/ipykernel_launcher.py:98: RuntimeWarning: invalid value encountered in double_scalars\n",
            "5000it [00:00, 6553.36it/s]\n",
            "5000it [00:00, 6869.98it/s]\n"
          ],
          "name": "stderr"
        },
        {
          "output_type": "stream",
          "text": [
            "chunk  410  execution_time  45.78764724731445\n"
          ],
          "name": "stdout"
        },
        {
          "output_type": "stream",
          "text": [
            "0it [00:00, ?it/s]/usr/local/lib/python3.6/dist-packages/ipykernel_launcher.py:98: RuntimeWarning: invalid value encountered in double_scalars\n",
            "5000it [00:00, 6699.69it/s]\n",
            "5000it [00:00, 6690.14it/s]\n"
          ],
          "name": "stderr"
        },
        {
          "output_type": "stream",
          "text": [
            "chunk  411  execution_time  44.22908353805542\n"
          ],
          "name": "stdout"
        },
        {
          "output_type": "stream",
          "text": [
            "0it [00:00, ?it/s]/usr/local/lib/python3.6/dist-packages/ipykernel_launcher.py:98: RuntimeWarning: invalid value encountered in double_scalars\n",
            "5000it [00:00, 7008.34it/s]\n",
            "5000it [00:00, 7055.91it/s]\n"
          ],
          "name": "stderr"
        },
        {
          "output_type": "stream",
          "text": [
            "chunk  412  execution_time  44.537949323654175\n"
          ],
          "name": "stdout"
        },
        {
          "output_type": "stream",
          "text": [
            "0it [00:00, ?it/s]/usr/local/lib/python3.6/dist-packages/ipykernel_launcher.py:98: RuntimeWarning: invalid value encountered in double_scalars\n",
            "5000it [00:00, 6700.93it/s]\n",
            "5000it [00:00, 6778.46it/s]\n"
          ],
          "name": "stderr"
        },
        {
          "output_type": "stream",
          "text": [
            "chunk  413  execution_time  44.507678508758545\n"
          ],
          "name": "stdout"
        },
        {
          "output_type": "stream",
          "text": [
            "0it [00:00, ?it/s]/usr/local/lib/python3.6/dist-packages/ipykernel_launcher.py:98: RuntimeWarning: invalid value encountered in double_scalars\n",
            "5000it [00:00, 6677.62it/s]\n",
            "5000it [00:00, 6766.96it/s]\n"
          ],
          "name": "stderr"
        },
        {
          "output_type": "stream",
          "text": [
            "chunk  414  execution_time  44.252493381500244\n"
          ],
          "name": "stdout"
        },
        {
          "output_type": "stream",
          "text": [
            "0it [00:00, ?it/s]/usr/local/lib/python3.6/dist-packages/ipykernel_launcher.py:98: RuntimeWarning: invalid value encountered in double_scalars\n",
            "5000it [00:00, 7001.52it/s]\n",
            "5000it [00:00, 6884.83it/s]\n"
          ],
          "name": "stderr"
        },
        {
          "output_type": "stream",
          "text": [
            "chunk  415  execution_time  45.143343687057495\n"
          ],
          "name": "stdout"
        },
        {
          "output_type": "stream",
          "text": [
            "0it [00:00, ?it/s]/usr/local/lib/python3.6/dist-packages/ipykernel_launcher.py:98: RuntimeWarning: invalid value encountered in double_scalars\n",
            "5000it [00:00, 6951.58it/s]\n",
            "5000it [00:00, 6925.27it/s]\n"
          ],
          "name": "stderr"
        },
        {
          "output_type": "stream",
          "text": [
            "chunk  416  execution_time  44.350192070007324\n"
          ],
          "name": "stdout"
        },
        {
          "output_type": "stream",
          "text": [
            "0it [00:00, ?it/s]/usr/local/lib/python3.6/dist-packages/ipykernel_launcher.py:98: RuntimeWarning: invalid value encountered in double_scalars\n",
            "5000it [00:00, 7078.10it/s]\n",
            "5000it [00:00, 6844.26it/s]\n"
          ],
          "name": "stderr"
        },
        {
          "output_type": "stream",
          "text": [
            "chunk  417  execution_time  45.05069422721863\n"
          ],
          "name": "stdout"
        },
        {
          "output_type": "stream",
          "text": [
            "0it [00:00, ?it/s]/usr/local/lib/python3.6/dist-packages/ipykernel_launcher.py:98: RuntimeWarning: invalid value encountered in double_scalars\n",
            "5000it [00:00, 6661.49it/s]\n",
            "5000it [00:00, 6720.20it/s]\n"
          ],
          "name": "stderr"
        },
        {
          "output_type": "stream",
          "text": [
            "chunk  418  execution_time  44.64668130874634\n"
          ],
          "name": "stdout"
        },
        {
          "output_type": "stream",
          "text": [
            "0it [00:00, ?it/s]/usr/local/lib/python3.6/dist-packages/ipykernel_launcher.py:98: RuntimeWarning: invalid value encountered in double_scalars\n",
            "5000it [00:00, 6929.87it/s]\n",
            "5000it [00:00, 6900.49it/s]\n"
          ],
          "name": "stderr"
        },
        {
          "output_type": "stream",
          "text": [
            "chunk  419  execution_time  45.39606237411499\n"
          ],
          "name": "stdout"
        },
        {
          "output_type": "stream",
          "text": [
            "0it [00:00, ?it/s]/usr/local/lib/python3.6/dist-packages/ipykernel_launcher.py:98: RuntimeWarning: invalid value encountered in double_scalars\n",
            "5000it [00:00, 6904.60it/s]\n",
            "5000it [00:00, 6929.11it/s]\n"
          ],
          "name": "stderr"
        },
        {
          "output_type": "stream",
          "text": [
            "chunk  420  execution_time  45.94052243232727\n"
          ],
          "name": "stdout"
        },
        {
          "output_type": "stream",
          "text": [
            "0it [00:00, ?it/s]/usr/local/lib/python3.6/dist-packages/ipykernel_launcher.py:98: RuntimeWarning: invalid value encountered in double_scalars\n",
            "5000it [00:00, 6794.76it/s]\n",
            "5000it [00:00, 6808.95it/s]\n"
          ],
          "name": "stderr"
        },
        {
          "output_type": "stream",
          "text": [
            "chunk  421  execution_time  44.69701790809631\n"
          ],
          "name": "stdout"
        },
        {
          "output_type": "stream",
          "text": [
            "0it [00:00, ?it/s]/usr/local/lib/python3.6/dist-packages/ipykernel_launcher.py:98: RuntimeWarning: invalid value encountered in double_scalars\n",
            "5000it [00:00, 6850.74it/s]\n",
            "5000it [00:00, 6758.96it/s]\n"
          ],
          "name": "stderr"
        },
        {
          "output_type": "stream",
          "text": [
            "chunk  422  execution_time  44.80805540084839\n"
          ],
          "name": "stdout"
        },
        {
          "output_type": "stream",
          "text": [
            "0it [00:00, ?it/s]/usr/local/lib/python3.6/dist-packages/ipykernel_launcher.py:98: RuntimeWarning: invalid value encountered in double_scalars\n",
            "5000it [00:00, 6897.72it/s]\n",
            "5000it [00:00, 7006.80it/s]\n"
          ],
          "name": "stderr"
        },
        {
          "output_type": "stream",
          "text": [
            "chunk  423  execution_time  44.15762639045715\n"
          ],
          "name": "stdout"
        },
        {
          "output_type": "stream",
          "text": [
            "0it [00:00, ?it/s]/usr/local/lib/python3.6/dist-packages/ipykernel_launcher.py:98: RuntimeWarning: invalid value encountered in double_scalars\n",
            "5000it [00:00, 7053.65it/s]\n",
            "5000it [00:00, 7099.39it/s]\n"
          ],
          "name": "stderr"
        },
        {
          "output_type": "stream",
          "text": [
            "chunk  424  execution_time  45.596224308013916\n"
          ],
          "name": "stdout"
        },
        {
          "output_type": "stream",
          "text": [
            "0it [00:00, ?it/s]/usr/local/lib/python3.6/dist-packages/ipykernel_launcher.py:98: RuntimeWarning: invalid value encountered in double_scalars\n",
            "5000it [00:00, 6895.17it/s]\n",
            "5000it [00:00, 6964.99it/s]\n"
          ],
          "name": "stderr"
        },
        {
          "output_type": "stream",
          "text": [
            "chunk  425  execution_time  45.17414903640747\n"
          ],
          "name": "stdout"
        },
        {
          "output_type": "stream",
          "text": [
            "0it [00:00, ?it/s]/usr/local/lib/python3.6/dist-packages/ipykernel_launcher.py:98: RuntimeWarning: invalid value encountered in double_scalars\n",
            "5000it [00:00, 7147.32it/s]\n",
            "5000it [00:00, 6773.08it/s]\n"
          ],
          "name": "stderr"
        },
        {
          "output_type": "stream",
          "text": [
            "chunk  426  execution_time  44.72550177574158\n"
          ],
          "name": "stdout"
        },
        {
          "output_type": "stream",
          "text": [
            "0it [00:00, ?it/s]/usr/local/lib/python3.6/dist-packages/ipykernel_launcher.py:98: RuntimeWarning: invalid value encountered in double_scalars\n",
            "5000it [00:00, 7097.26it/s]\n",
            "5000it [00:00, 6946.63it/s]\n"
          ],
          "name": "stderr"
        },
        {
          "output_type": "stream",
          "text": [
            "chunk  427  execution_time  43.696831941604614\n"
          ],
          "name": "stdout"
        },
        {
          "output_type": "stream",
          "text": [
            "0it [00:00, ?it/s]/usr/local/lib/python3.6/dist-packages/ipykernel_launcher.py:98: RuntimeWarning: invalid value encountered in double_scalars\n",
            "5000it [00:00, 6777.46it/s]\n",
            "5000it [00:00, 6801.00it/s]\n"
          ],
          "name": "stderr"
        },
        {
          "output_type": "stream",
          "text": [
            "chunk  428  execution_time  45.34863233566284\n"
          ],
          "name": "stdout"
        },
        {
          "output_type": "stream",
          "text": [
            "0it [00:00, ?it/s]/usr/local/lib/python3.6/dist-packages/ipykernel_launcher.py:98: RuntimeWarning: invalid value encountered in double_scalars\n",
            "5000it [00:00, 6916.17it/s]\n",
            "5000it [00:00, 6848.85it/s]\n"
          ],
          "name": "stderr"
        },
        {
          "output_type": "stream",
          "text": [
            "chunk  429  execution_time  45.50288438796997\n"
          ],
          "name": "stdout"
        },
        {
          "output_type": "stream",
          "text": [
            "0it [00:00, ?it/s]/usr/local/lib/python3.6/dist-packages/ipykernel_launcher.py:98: RuntimeWarning: invalid value encountered in double_scalars\n",
            "5000it [00:00, 7027.06it/s]\n",
            "5000it [00:00, 6872.09it/s]\n"
          ],
          "name": "stderr"
        },
        {
          "output_type": "stream",
          "text": [
            "chunk  430  execution_time  43.983821868896484\n"
          ],
          "name": "stdout"
        },
        {
          "output_type": "stream",
          "text": [
            "0it [00:00, ?it/s]/usr/local/lib/python3.6/dist-packages/ipykernel_launcher.py:98: RuntimeWarning: invalid value encountered in double_scalars\n",
            "5000it [00:00, 6887.93it/s]\n",
            "5000it [00:00, 6961.36it/s]\n"
          ],
          "name": "stderr"
        },
        {
          "output_type": "stream",
          "text": [
            "chunk  431  execution_time  44.719980001449585\n"
          ],
          "name": "stdout"
        },
        {
          "output_type": "stream",
          "text": [
            "0it [00:00, ?it/s]/usr/local/lib/python3.6/dist-packages/ipykernel_launcher.py:98: RuntimeWarning: invalid value encountered in double_scalars\n",
            "5000it [00:00, 6869.49it/s]\n",
            "5000it [00:00, 7014.23it/s]\n"
          ],
          "name": "stderr"
        },
        {
          "output_type": "stream",
          "text": [
            "chunk  432  execution_time  45.36539554595947\n"
          ],
          "name": "stdout"
        },
        {
          "output_type": "stream",
          "text": [
            "0it [00:00, ?it/s]/usr/local/lib/python3.6/dist-packages/ipykernel_launcher.py:98: RuntimeWarning: invalid value encountered in double_scalars\n",
            "5000it [00:00, 6972.20it/s]\n",
            "5000it [00:00, 6675.57it/s]\n"
          ],
          "name": "stderr"
        },
        {
          "output_type": "stream",
          "text": [
            "chunk  433  execution_time  45.74347376823425\n"
          ],
          "name": "stdout"
        },
        {
          "output_type": "stream",
          "text": [
            "0it [00:00, ?it/s]/usr/local/lib/python3.6/dist-packages/ipykernel_launcher.py:98: RuntimeWarning: invalid value encountered in double_scalars\n",
            "5000it [00:00, 6825.65it/s]\n",
            "5000it [00:00, 6926.84it/s]\n"
          ],
          "name": "stderr"
        },
        {
          "output_type": "stream",
          "text": [
            "chunk  434  execution_time  45.03937292098999\n"
          ],
          "name": "stdout"
        },
        {
          "output_type": "stream",
          "text": [
            "0it [00:00, ?it/s]/usr/local/lib/python3.6/dist-packages/ipykernel_launcher.py:98: RuntimeWarning: invalid value encountered in double_scalars\n",
            "5000it [00:00, 6887.37it/s]\n",
            "5000it [00:00, 6758.55it/s]\n"
          ],
          "name": "stderr"
        },
        {
          "output_type": "stream",
          "text": [
            "chunk  435  execution_time  44.180909872055054\n"
          ],
          "name": "stdout"
        },
        {
          "output_type": "stream",
          "text": [
            "0it [00:00, ?it/s]/usr/local/lib/python3.6/dist-packages/ipykernel_launcher.py:98: RuntimeWarning: invalid value encountered in double_scalars\n",
            "5000it [00:00, 6964.14it/s]\n",
            "5000it [00:00, 6892.48it/s]\n"
          ],
          "name": "stderr"
        },
        {
          "output_type": "stream",
          "text": [
            "chunk  436  execution_time  44.71601057052612\n"
          ],
          "name": "stdout"
        },
        {
          "output_type": "stream",
          "text": [
            "0it [00:00, ?it/s]/usr/local/lib/python3.6/dist-packages/ipykernel_launcher.py:98: RuntimeWarning: invalid value encountered in double_scalars\n",
            "5000it [00:00, 6747.58it/s]\n",
            "5000it [00:00, 6796.64it/s]\n"
          ],
          "name": "stderr"
        },
        {
          "output_type": "stream",
          "text": [
            "chunk  437  execution_time  45.38820672035217\n"
          ],
          "name": "stdout"
        },
        {
          "output_type": "stream",
          "text": [
            "0it [00:00, ?it/s]/usr/local/lib/python3.6/dist-packages/ipykernel_launcher.py:98: RuntimeWarning: invalid value encountered in double_scalars\n",
            "5000it [00:00, 6913.36it/s]\n",
            "5000it [00:00, 6756.73it/s]\n"
          ],
          "name": "stderr"
        },
        {
          "output_type": "stream",
          "text": [
            "chunk  438  execution_time  45.34086775779724\n"
          ],
          "name": "stdout"
        },
        {
          "output_type": "stream",
          "text": [
            "0it [00:00, ?it/s]/usr/local/lib/python3.6/dist-packages/ipykernel_launcher.py:98: RuntimeWarning: invalid value encountered in double_scalars\n",
            "5000it [00:00, 7045.10it/s]\n",
            "5000it [00:00, 7122.66it/s]\n"
          ],
          "name": "stderr"
        },
        {
          "output_type": "stream",
          "text": [
            "chunk  439  execution_time  44.400099754333496\n"
          ],
          "name": "stdout"
        },
        {
          "output_type": "stream",
          "text": [
            "0it [00:00, ?it/s]/usr/local/lib/python3.6/dist-packages/ipykernel_launcher.py:98: RuntimeWarning: invalid value encountered in double_scalars\n",
            "5000it [00:00, 6883.90it/s]\n",
            "5000it [00:00, 6947.43it/s]\n"
          ],
          "name": "stderr"
        },
        {
          "output_type": "stream",
          "text": [
            "chunk  440  execution_time  44.450833797454834\n"
          ],
          "name": "stdout"
        },
        {
          "output_type": "stream",
          "text": [
            "0it [00:00, ?it/s]/usr/local/lib/python3.6/dist-packages/ipykernel_launcher.py:98: RuntimeWarning: invalid value encountered in double_scalars\n",
            "5000it [00:00, 7088.17it/s]\n",
            "5000it [00:00, 6979.79it/s]\n"
          ],
          "name": "stderr"
        },
        {
          "output_type": "stream",
          "text": [
            "chunk  441  execution_time  44.2457332611084\n"
          ],
          "name": "stdout"
        },
        {
          "output_type": "stream",
          "text": [
            "0it [00:00, ?it/s]/usr/local/lib/python3.6/dist-packages/ipykernel_launcher.py:98: RuntimeWarning: invalid value encountered in double_scalars\n",
            "5000it [00:00, 6716.22it/s]\n",
            "5000it [00:00, 6976.71it/s]\n"
          ],
          "name": "stderr"
        },
        {
          "output_type": "stream",
          "text": [
            "chunk  442  execution_time  46.041303873062134\n"
          ],
          "name": "stdout"
        },
        {
          "output_type": "stream",
          "text": [
            "0it [00:00, ?it/s]/usr/local/lib/python3.6/dist-packages/ipykernel_launcher.py:98: RuntimeWarning: invalid value encountered in double_scalars\n",
            "5000it [00:00, 6998.99it/s]\n",
            "5000it [00:00, 7039.02it/s]\n"
          ],
          "name": "stderr"
        },
        {
          "output_type": "stream",
          "text": [
            "chunk  443  execution_time  44.05005192756653\n"
          ],
          "name": "stdout"
        },
        {
          "output_type": "stream",
          "text": [
            "0it [00:00, ?it/s]/usr/local/lib/python3.6/dist-packages/ipykernel_launcher.py:98: RuntimeWarning: invalid value encountered in double_scalars\n",
            "5000it [00:00, 6987.15it/s]\n",
            "5000it [00:00, 6892.52it/s]\n"
          ],
          "name": "stderr"
        },
        {
          "output_type": "stream",
          "text": [
            "chunk  444  execution_time  43.424373388290405\n"
          ],
          "name": "stdout"
        },
        {
          "output_type": "stream",
          "text": [
            "0it [00:00, ?it/s]/usr/local/lib/python3.6/dist-packages/ipykernel_launcher.py:98: RuntimeWarning: invalid value encountered in double_scalars\n",
            "5000it [00:00, 7056.52it/s]\n",
            "5000it [00:00, 6949.76it/s]\n"
          ],
          "name": "stderr"
        },
        {
          "output_type": "stream",
          "text": [
            "chunk  445  execution_time  43.39649248123169\n"
          ],
          "name": "stdout"
        },
        {
          "output_type": "stream",
          "text": [
            "0it [00:00, ?it/s]/usr/local/lib/python3.6/dist-packages/ipykernel_launcher.py:98: RuntimeWarning: invalid value encountered in double_scalars\n",
            "5000it [00:00, 7112.85it/s]\n",
            "5000it [00:00, 6962.95it/s]\n"
          ],
          "name": "stderr"
        },
        {
          "output_type": "stream",
          "text": [
            "chunk  446  execution_time  44.96091365814209\n"
          ],
          "name": "stdout"
        },
        {
          "output_type": "stream",
          "text": [
            "0it [00:00, ?it/s]/usr/local/lib/python3.6/dist-packages/ipykernel_launcher.py:98: RuntimeWarning: invalid value encountered in double_scalars\n",
            "5000it [00:00, 7068.47it/s]\n",
            "5000it [00:00, 6701.11it/s]\n"
          ],
          "name": "stderr"
        },
        {
          "output_type": "stream",
          "text": [
            "chunk  447  execution_time  45.04584360122681\n"
          ],
          "name": "stdout"
        },
        {
          "output_type": "stream",
          "text": [
            "0it [00:00, ?it/s]/usr/local/lib/python3.6/dist-packages/ipykernel_launcher.py:98: RuntimeWarning: invalid value encountered in double_scalars\n",
            "5000it [00:00, 6907.83it/s]\n",
            "5000it [00:00, 6794.35it/s]\n"
          ],
          "name": "stderr"
        },
        {
          "output_type": "stream",
          "text": [
            "chunk  448  execution_time  44.03639626502991\n"
          ],
          "name": "stdout"
        },
        {
          "output_type": "stream",
          "text": [
            "0it [00:00, ?it/s]/usr/local/lib/python3.6/dist-packages/ipykernel_launcher.py:98: RuntimeWarning: invalid value encountered in double_scalars\n",
            "5000it [00:00, 6507.50it/s]\n",
            "5000it [00:00, 6841.43it/s]\n"
          ],
          "name": "stderr"
        },
        {
          "output_type": "stream",
          "text": [
            "chunk  449  execution_time  44.59163451194763\n"
          ],
          "name": "stdout"
        },
        {
          "output_type": "stream",
          "text": [
            "0it [00:00, ?it/s]/usr/local/lib/python3.6/dist-packages/ipykernel_launcher.py:98: RuntimeWarning: invalid value encountered in double_scalars\n",
            "5000it [00:00, 7043.61it/s]\n",
            "5000it [00:00, 6837.77it/s]\n"
          ],
          "name": "stderr"
        },
        {
          "output_type": "stream",
          "text": [
            "chunk  450  execution_time  44.644938707351685\n"
          ],
          "name": "stdout"
        },
        {
          "output_type": "stream",
          "text": [
            "0it [00:00, ?it/s]/usr/local/lib/python3.6/dist-packages/ipykernel_launcher.py:98: RuntimeWarning: invalid value encountered in double_scalars\n",
            "5000it [00:00, 6940.30it/s]\n",
            "5000it [00:00, 6779.73it/s]\n"
          ],
          "name": "stderr"
        },
        {
          "output_type": "stream",
          "text": [
            "chunk  451  execution_time  44.8257315158844\n"
          ],
          "name": "stdout"
        },
        {
          "output_type": "stream",
          "text": [
            "0it [00:00, ?it/s]/usr/local/lib/python3.6/dist-packages/ipykernel_launcher.py:98: RuntimeWarning: invalid value encountered in double_scalars\n",
            "5000it [00:00, 6909.73it/s]\n",
            "5000it [00:00, 6948.75it/s]\n"
          ],
          "name": "stderr"
        },
        {
          "output_type": "stream",
          "text": [
            "chunk  452  execution_time  45.07751512527466\n"
          ],
          "name": "stdout"
        },
        {
          "output_type": "stream",
          "text": [
            "0it [00:00, ?it/s]/usr/local/lib/python3.6/dist-packages/ipykernel_launcher.py:98: RuntimeWarning: invalid value encountered in double_scalars\n",
            "5000it [00:00, 7052.25it/s]\n",
            "5000it [00:00, 6736.69it/s]\n"
          ],
          "name": "stderr"
        },
        {
          "output_type": "stream",
          "text": [
            "chunk  453  execution_time  45.438193798065186\n"
          ],
          "name": "stdout"
        },
        {
          "output_type": "stream",
          "text": [
            "0it [00:00, ?it/s]/usr/local/lib/python3.6/dist-packages/ipykernel_launcher.py:98: RuntimeWarning: invalid value encountered in double_scalars\n",
            "5000it [00:00, 6980.11it/s]\n",
            "5000it [00:00, 6934.02it/s]\n"
          ],
          "name": "stderr"
        },
        {
          "output_type": "stream",
          "text": [
            "chunk  454  execution_time  45.17116332054138\n"
          ],
          "name": "stdout"
        },
        {
          "output_type": "stream",
          "text": [
            "0it [00:00, ?it/s]/usr/local/lib/python3.6/dist-packages/ipykernel_launcher.py:98: RuntimeWarning: invalid value encountered in double_scalars\n",
            "5000it [00:00, 7106.14it/s]\n",
            "5000it [00:00, 6966.54it/s]\n"
          ],
          "name": "stderr"
        },
        {
          "output_type": "stream",
          "text": [
            "chunk  455  execution_time  45.01546239852905\n"
          ],
          "name": "stdout"
        },
        {
          "output_type": "stream",
          "text": [
            "0it [00:00, ?it/s]/usr/local/lib/python3.6/dist-packages/ipykernel_launcher.py:98: RuntimeWarning: invalid value encountered in double_scalars\n",
            "5000it [00:00, 6919.65it/s]\n",
            "5000it [00:00, 6675.53it/s]\n"
          ],
          "name": "stderr"
        },
        {
          "output_type": "stream",
          "text": [
            "chunk  456  execution_time  44.48586392402649\n"
          ],
          "name": "stdout"
        },
        {
          "output_type": "stream",
          "text": [
            "0it [00:00, ?it/s]/usr/local/lib/python3.6/dist-packages/ipykernel_launcher.py:98: RuntimeWarning: invalid value encountered in double_scalars\n",
            "5000it [00:00, 6986.65it/s]\n",
            "5000it [00:00, 6956.99it/s]\n"
          ],
          "name": "stderr"
        },
        {
          "output_type": "stream",
          "text": [
            "chunk  457  execution_time  44.31400513648987\n"
          ],
          "name": "stdout"
        },
        {
          "output_type": "stream",
          "text": [
            "0it [00:00, ?it/s]/usr/local/lib/python3.6/dist-packages/ipykernel_launcher.py:98: RuntimeWarning: invalid value encountered in double_scalars\n",
            "5000it [00:00, 6739.65it/s]\n",
            "5000it [00:00, 6929.43it/s]\n"
          ],
          "name": "stderr"
        },
        {
          "output_type": "stream",
          "text": [
            "chunk  458  execution_time  43.9597909450531\n"
          ],
          "name": "stdout"
        },
        {
          "output_type": "stream",
          "text": [
            "0it [00:00, ?it/s]/usr/local/lib/python3.6/dist-packages/ipykernel_launcher.py:98: RuntimeWarning: invalid value encountered in double_scalars\n",
            "5000it [00:00, 6986.46it/s]\n",
            "5000it [00:00, 6991.78it/s]\n"
          ],
          "name": "stderr"
        },
        {
          "output_type": "stream",
          "text": [
            "chunk  459  execution_time  44.63974213600159\n"
          ],
          "name": "stdout"
        },
        {
          "output_type": "stream",
          "text": [
            "0it [00:00, ?it/s]/usr/local/lib/python3.6/dist-packages/ipykernel_launcher.py:98: RuntimeWarning: invalid value encountered in double_scalars\n",
            "5000it [00:00, 6823.20it/s]\n",
            "5000it [00:00, 6983.67it/s]\n"
          ],
          "name": "stderr"
        },
        {
          "output_type": "stream",
          "text": [
            "chunk  460  execution_time  43.98180031776428\n"
          ],
          "name": "stdout"
        },
        {
          "output_type": "stream",
          "text": [
            "0it [00:00, ?it/s]/usr/local/lib/python3.6/dist-packages/ipykernel_launcher.py:98: RuntimeWarning: invalid value encountered in double_scalars\n",
            "5000it [00:00, 6681.65it/s]\n",
            "5000it [00:00, 6956.18it/s]\n"
          ],
          "name": "stderr"
        },
        {
          "output_type": "stream",
          "text": [
            "chunk  461  execution_time  44.68083047866821\n"
          ],
          "name": "stdout"
        },
        {
          "output_type": "stream",
          "text": [
            "0it [00:00, ?it/s]/usr/local/lib/python3.6/dist-packages/ipykernel_launcher.py:98: RuntimeWarning: invalid value encountered in double_scalars\n",
            "5000it [00:00, 6527.22it/s]\n",
            "5000it [00:00, 6968.75it/s]\n"
          ],
          "name": "stderr"
        },
        {
          "output_type": "stream",
          "text": [
            "chunk  462  execution_time  45.923059940338135\n"
          ],
          "name": "stdout"
        },
        {
          "output_type": "stream",
          "text": [
            "0it [00:00, ?it/s]/usr/local/lib/python3.6/dist-packages/ipykernel_launcher.py:98: RuntimeWarning: invalid value encountered in double_scalars\n",
            "5000it [00:00, 6996.10it/s]\n",
            "5000it [00:00, 6957.96it/s]\n"
          ],
          "name": "stderr"
        },
        {
          "output_type": "stream",
          "text": [
            "chunk  463  execution_time  44.88282346725464\n"
          ],
          "name": "stdout"
        },
        {
          "output_type": "stream",
          "text": [
            "0it [00:00, ?it/s]/usr/local/lib/python3.6/dist-packages/ipykernel_launcher.py:98: RuntimeWarning: invalid value encountered in double_scalars\n",
            "5000it [00:00, 6801.93it/s]\n",
            "5000it [00:00, 6957.94it/s]\n"
          ],
          "name": "stderr"
        },
        {
          "output_type": "stream",
          "text": [
            "chunk  464  execution_time  44.29849123954773\n"
          ],
          "name": "stdout"
        },
        {
          "output_type": "stream",
          "text": [
            "0it [00:00, ?it/s]/usr/local/lib/python3.6/dist-packages/ipykernel_launcher.py:98: RuntimeWarning: invalid value encountered in double_scalars\n",
            "5000it [00:00, 6950.05it/s]\n",
            "5000it [00:00, 6848.06it/s]\n"
          ],
          "name": "stderr"
        },
        {
          "output_type": "stream",
          "text": [
            "chunk  465  execution_time  44.470035552978516\n"
          ],
          "name": "stdout"
        },
        {
          "output_type": "stream",
          "text": [
            "0it [00:00, ?it/s]/usr/local/lib/python3.6/dist-packages/ipykernel_launcher.py:98: RuntimeWarning: invalid value encountered in double_scalars\n",
            "5000it [00:00, 6966.65it/s]\n",
            "5000it [00:00, 6839.98it/s]\n"
          ],
          "name": "stderr"
        },
        {
          "output_type": "stream",
          "text": [
            "chunk  466  execution_time  43.71629047393799\n"
          ],
          "name": "stdout"
        },
        {
          "output_type": "stream",
          "text": [
            "0it [00:00, ?it/s]/usr/local/lib/python3.6/dist-packages/ipykernel_launcher.py:98: RuntimeWarning: invalid value encountered in double_scalars\n",
            "5000it [00:00, 6923.09it/s]\n",
            "5000it [00:00, 6927.40it/s]\n"
          ],
          "name": "stderr"
        },
        {
          "output_type": "stream",
          "text": [
            "chunk  467  execution_time  44.290688037872314\n"
          ],
          "name": "stdout"
        },
        {
          "output_type": "stream",
          "text": [
            "0it [00:00, ?it/s]/usr/local/lib/python3.6/dist-packages/ipykernel_launcher.py:98: RuntimeWarning: invalid value encountered in double_scalars\n",
            "5000it [00:00, 6976.38it/s]\n",
            "5000it [00:00, 7017.61it/s]\n"
          ],
          "name": "stderr"
        },
        {
          "output_type": "stream",
          "text": [
            "chunk  468  execution_time  43.83649778366089\n"
          ],
          "name": "stdout"
        },
        {
          "output_type": "stream",
          "text": [
            "0it [00:00, ?it/s]/usr/local/lib/python3.6/dist-packages/ipykernel_launcher.py:98: RuntimeWarning: invalid value encountered in double_scalars\n",
            "5000it [00:00, 7012.66it/s]\n",
            "5000it [00:00, 6961.05it/s]\n"
          ],
          "name": "stderr"
        },
        {
          "output_type": "stream",
          "text": [
            "chunk  469  execution_time  44.08630180358887\n"
          ],
          "name": "stdout"
        },
        {
          "output_type": "stream",
          "text": [
            "0it [00:00, ?it/s]/usr/local/lib/python3.6/dist-packages/ipykernel_launcher.py:98: RuntimeWarning: invalid value encountered in double_scalars\n",
            "796it [00:00, 6151.15it/s]\n",
            "796it [00:00, 6662.32it/s]\n"
          ],
          "name": "stderr"
        },
        {
          "output_type": "stream",
          "text": [
            "chunk  470  execution_time  7.111129522323608\n",
            "total train time  21473.103194236755\n"
          ],
          "name": "stdout"
        }
      ]
    },
    {
      "cell_type": "markdown",
      "metadata": {
        "id": "i80gPoWtFFnL"
      },
      "source": [
        "Text Preprocessing, Tokenization, embedding\n",
        "==="
      ]
    },
    {
      "cell_type": "code",
      "metadata": {
        "id": "iW9Gkvu6FNTB"
      },
      "source": [
        "#--------------------------------------------------------------------\n",
        "# Spelling correction and stopword removal\n",
        "# Not done due to increased complexity in computation for the testing file\n",
        "# also worse performance in training and validation due to loss of informations\n",
        "#---------------------------------------------------------------------\n",
        "\n",
        "\n",
        "\n",
        "# import gensim\n",
        "# from gensim.parsing.preprocessing import remove_stopwords, preprocess_string\n",
        "# from gensim.parsing.preprocessing import preprocess_documents, strip_tags, strip_punctuation\n",
        "# # CUSTOM_FILTERS = [lambda x: x.lower(), strip_tags, strip_punctuation]\n",
        "## NO STOPWORD REMOVAL OR OTHER PREPROCESSING, AS IT LEADS TO A LOSS IN INFORMATION\n",
        "# data['question1'] = [remove_stopwords(\" \".join(preprocess_string(x, CUSTOM_FILTERS))) for x in data['question1'].fillna('').astype(str)]\n",
        "# data['question2'] = [remove_stopwords(\" \".join(preprocess_string(x, CUSTOM_FILTERS))) for x in data['question2'].fillna('').astype(str)]\n",
        "# # ../data/GoogleNews-vectors-negative300.bin.gz\n",
        "# qlist = pd.concat([data['question1'], data['question2']],keys = 'question')\n",
        "# # print(type(qlist))\n",
        "# print(type(qlist.values))\n",
        "# qlist = pd.Series(qlist.unique())\n",
        "# print(type(qlist[0]))\n",
        "# def build_vocab(texts):\n",
        "#     sentences = [x.split() for x in texts.values.astype(str)]#texts.apply(lambda x: x.split()).values\n",
        "#     vocab = {}\n",
        "#     for sentence in sentences:\n",
        "#         for word in sentence:\n",
        "#             try:\n",
        "#                 vocab[word] += 1\n",
        "#             except KeyError:\n",
        "#                 vocab[word] = 1\n",
        "#     return vocab\n",
        "\n",
        "# vocab = build_vocab(qlist)\n",
        "\n",
        "# import re\n",
        "# from collections import Counter\n",
        "\n",
        "# def words(text): return re.findall(r'\\w+', text.lower())\n",
        "\n",
        "# def P(word): \n",
        "#     \"Probability of `word`.\"\n",
        "#     # use inverse of rank as proxy\n",
        "#     # returns 0 if the word isn't in the dictionary\n",
        "#     return - WORDS.get(word, 0)\n",
        "\n",
        "# def correction(word): \n",
        "#     \"Most probable spelling correction for word.\"\n",
        "#     return max(candidates(word), key=P)\n",
        "\n",
        "# def candidates(word): \n",
        "#     \"Generate possible spelling corrections for word.\"\n",
        "#     return (known([word]) or known(edits1(word)) or known(edits2(word)) or [word])\n",
        "\n",
        "# def known(words): \n",
        "#     \"The subset of `words` that appear in the dictionary of WORDS.\"\n",
        "#     return set(w for w in words if w in WORDS)\n",
        "\n",
        "# def edits1(word):\n",
        "#     \"All edits that are one edit away from `word`.\"\n",
        "#     letters    = 'abcdefghijklmnopqrstuvwxyz'\n",
        "#     splits     = [(word[:i], word[i:])    for i in range(len(word) + 1)]\n",
        "#     deletes    = [L + R[1:]               for L, R in splits if R]\n",
        "#     transposes = [L + R[1] + R[0] + R[2:] for L, R in splits if len(R)>1]\n",
        "#     replaces   = [L + c + R[1:]           for L, R in splits if R for c in letters]\n",
        "#     inserts    = [L + c + R               for L, R in splits for c in letters]\n",
        "#     return set(deletes + transposes + replaces + inserts)\n",
        "\n",
        "# def edits2(word): \n",
        "#     \"All edits that are two edits away from `word`.\"\n",
        "#     return (e2 for e1 in edits1(word) for e2 in edits1(e1))\n",
        "# model = gensim.models.KeyedVectors.load_word2vec_format(googleNewsVectorsHostedPath, binary=True)\n",
        "# words = model.index2word\n",
        "\n",
        "# w_rank = {}\n",
        "# for i,word in enumerate(words):\n",
        "#     w_rank[word] = i\n",
        "\n",
        "# WORDS = w_rank\n",
        "# import heapq\n",
        "# from operator import itemgetter\n",
        "\n",
        "# top_90k_words = dict(heapq.nlargest(90000, vocab.items(), key=itemgetter(1)))\n",
        "# def spell_check(sentence):\n",
        "#   alt = []\n",
        "#   sentence = sentence.split()\n",
        "#   for word in sentence:\n",
        "#     correct_word = correction(word)\n",
        "#     alt.append(correct_word)\n",
        "#   alt = \" \".join(alt)\n",
        "#   # print(sentence, alt)\n",
        "#   return alt\n",
        "\n",
        "# # ALREADY DONE THE DATA IS CHECKED FOR SPELLING ERRORS AND BEEN PREPROCESSED\n",
        "# # data['question1'] = [spell_check(x) for x in data['question1']]\n",
        "# # data['question2'] = [spell_check(x) for x in data['question2']]\n",
        "# data.to_csv(trainDatasetPath)"
      ],
      "execution_count": null,
      "outputs": []
    },
    {
      "cell_type": "code",
      "metadata": {
        "id": "6E5miyrlLqeo",
        "colab": {
          "base_uri": "https://localhost:8080/"
        },
        "outputId": "b679b6dd-4e8c-46fd-cb7f-2ae1a5d76367"
      },
      "source": [
        "tk = text.Tokenizer(nb_words=200000)\n",
        "\n",
        "max_len = 40\n",
        "tk.fit_on_texts(list(data.question1.values.astype(str)) + list(data.question2.values.astype(str)))\n",
        "x1 = tk.texts_to_sequences(data.question1.values.astype(str))\n",
        "x1 = sequence.pad_sequences(x1, maxlen=max_len)\n",
        "\n",
        "x2 = tk.texts_to_sequences(data.question2.values.astype(str))\n",
        "x2 = sequence.pad_sequences(x2, maxlen=max_len) \n",
        "dist = data[distance_columns].to_numpy()\n",
        "word_index = tk.word_index\n",
        "\n",
        "_pickle.dump(x1, open('/content/drive/My Drive/MLPW/x1.pkl', 'wb'))\n",
        "_pickle.dump(x2, open('/content/drive/My Drive/MLPW/x2.pkl', 'wb'))"
      ],
      "execution_count": null,
      "outputs": [
        {
          "output_type": "stream",
          "text": [
            "/usr/local/lib/python3.6/dist-packages/keras_preprocessing/text.py:180: UserWarning: The `nb_words` argument in `Tokenizer` has been renamed `num_words`.\n",
            "  warnings.warn('The `nb_words` argument in `Tokenizer` '\n"
          ],
          "name": "stderr"
        }
      ]
    },
    {
      "cell_type": "markdown",
      "metadata": {
        "id": "rhlYKiiJ6XGk"
      },
      "source": [
        "Layer Wrapping (Wrapper funtions with arguments defaulted)\n",
        "==="
      ]
    },
    {
      "cell_type": "code",
      "metadata": {
        "id": "d5b7Uqi-6hsL"
      },
      "source": [
        "max_len = 40\n",
        "max_features = 200000\n",
        "filter_length = 5\n",
        "nb_filter = 64\n",
        "pool_length = 4\n",
        "def embedding_layer():\n",
        "  return Embedding(len(word_index) + 1, 300, input_length=40,)\n",
        "\n",
        "def LSTM_layer():\n",
        "  return LSTM(300, dropout=0.2, recurrent_dropout=0.2)\n",
        "\n",
        "def input_layer():\n",
        "  return Input(shape = (max_len,), dtype='int32')\n",
        "\n",
        "def embedded_lstm(ipl):\n",
        "  x = ipl\n",
        "  x = embedding_layer()(x)\n",
        "  x = LSTM_layer()(x)\n",
        "  return x\n",
        "\n",
        "def embedding_glove_layer():\n",
        "  # return Embedding(len(word_index) + 1, 300, weights=[embedding_matrix],\n",
        "  #                    input_length=40, trainable=False)\n",
        "  return Embedding(\n",
        "        input_dim=embedding_matrix.shape[0],\n",
        "        output_dim=embedding_matrix.shape[1],\n",
        "        weights=[embedding_matrix],\n",
        "        input_length=40,\n",
        "        trainable=False\n",
        "    )\n",
        "\n",
        "def convolution_layer():\n",
        "  return Convolution1D(filters=nb_filter,\n",
        "                         kernel_size=filter_length,\n",
        "                         padding='valid',\n",
        "                         activation='relu')\n",
        "\n",
        "def dropout_layer():\n",
        "  return Dropout(0.2)\n",
        "\n",
        "def pooling_layer():\n",
        "  return GlobalMaxPooling1D()\n",
        "\n",
        "def embedded_convolution(ipl):\n",
        "  x = ipl\n",
        "  x = embedding_glove_layer()(x)\n",
        "  x = convolution_layer()(x)\n",
        "  x = dropout_layer()(x)\n",
        "  x = convolution_layer()(x)\n",
        "  x = pooling_layer()(x)\n",
        "  x = dropout_layer()(x)\n",
        "  return x\n",
        "\n",
        "def distance_dense(distance_input):\n",
        "  distance_dense = BatchNormalization()(distance_input)\n",
        "  distance_dense = Dense(128, activation='relu')(distance_dense)\n",
        "  return distance_dense\n",
        "\n",
        "def batch_normalization_layer():\n",
        "  return BatchNormalization()\n",
        "\n",
        "def dense_layer():\n",
        "  return Dense(300)\n",
        "\n",
        "def prelu_layer():\n",
        "  return PReLU()\n",
        "\n",
        "def regularize(x):\n",
        "  x = dense_layer()(x)\n",
        "  x = prelu_layer()(x)\n",
        "  x = dropout_layer()(x)\n",
        "  x = batch_normalization_layer()(x)\n",
        "  return x"
      ],
      "execution_count": null,
      "outputs": []
    },
    {
      "cell_type": "markdown",
      "metadata": {
        "id": "1LNfEpELESaD"
      },
      "source": [
        "# CNN LSTM DIST MODEL"
      ]
    },
    {
      "cell_type": "code",
      "metadata": {
        "id": "nwS2RewzEV4g"
      },
      "source": [
        "q1_input = input_layer()\n",
        "q2_input = input_layer()\n",
        "distance_input = Input(shape=(20,))\n",
        "\n",
        "def main_model_dist():\n",
        "  x = concatenate([embedded_lstm(q1_input),embedded_convolution(q1_input),embedded_convolution(q2_input),embedded_lstm(q2_input), distance_dense(distance_input)])\n",
        "  x = batch_normalization_layer()(x)\n",
        "  x = regularize(x)\n",
        "  x = regularize(x)\n",
        "  y = Dense(1, activation='sigmoid')(x)\n",
        "  model = Model(inputs = [q1_input, q2_input, distance_input], outputs = y, name = \"semqmconvlstmdist\")\n",
        "  model.compile(loss='binary_crossentropy', optimizer='adam', metrics=['accuracy'])\n",
        "  return model\n",
        "\n"
      ],
      "execution_count": null,
      "outputs": []
    },
    {
      "cell_type": "markdown",
      "metadata": {
        "id": "drTtWazpne87"
      },
      "source": [
        "Plot Model History\n",
        "==="
      ]
    },
    {
      "cell_type": "code",
      "metadata": {
        "id": "WLfbmh5HiAsN",
        "colab": {
          "base_uri": "https://localhost:8080/"
        },
        "outputId": "c373e7fe-c64f-489b-e0d1-2508911a7527"
      },
      "source": [
        "import matplotlib.pyplot as plt\n",
        "plt.plot(modelhist.history['acc'])\n",
        "plt.plot(modelhist.history['val_acc'])\n",
        "plt.title('model loss')\n",
        "plt.ylabel('loss')\n",
        "plt.xlabel('epoch')\n",
        "plt.legend(['train', 'test'], loc='upper left')\n",
        "plt.show()"
      ],
      "execution_count": null,
      "outputs": [
        {
          "output_type": "display_data",
          "data": {
            "image/png": "[encoded data removed]",
            "text/plain": [
              "<Figure size 432x288 with 1 Axes>"
            ]
          },
          "metadata": {
            "tags": [],
            "needs_background": "light"
          }
        }
      ]
    },
    {
      "cell_type": "code",
      "metadata": {
        "id": "yOtPpnEsygKy",
        "colab": {
          "base_uri": "https://localhost:8080/"
        },
        "outputId": "301447c3-d1c1-42bf-96e7-dada6e55bffd"
      },
      "source": [
        "print(type(x1))"
      ],
      "execution_count": null,
      "outputs": [
        {
          "output_type": "stream",
          "text": [
            "<class 'numpy.ndarray'>\n"
          ],
          "name": "stdout"
        }
      ]
    },
    {
      "cell_type": "code",
      "metadata": {
        "id": "3vEZvZmDzRQ8",
        "colab": {
          "base_uri": "https://localhost:8080/",
          "height": 348
        },
        "outputId": "3ee38e21-1eef-4dc6-bc68-bacc73f6d14b"
      },
      "source": [
        "plot_model(MODEL, \"CONV1DMODEL.png\", show_shapes=True)"
      ],
      "execution_count": null,
      "outputs": [
        {
          "output_type": "execute_result",
          "data": {
            "image/png": "[encoded data removed]",
            "text/plain": [
              "<IPython.core.display.Image object>"
            ]
          },
          "metadata": {
            "tags": []
          },
          "execution_count": 82
        }
      ]
    },
    {
      "cell_type": "markdown",
      "metadata": {
        "id": "f699Cy4gnqFz"
      },
      "source": [
        "Test Preprocessing\n",
        "==="
      ]
    },
    {
      "cell_type": "code",
      "metadata": {
        "id": "0e9QCHvqzdwW",
        "colab": {
          "base_uri": "https://localhost:8080/"
        },
        "outputId": "3e94a303-c268-4f8e-d0e9-72000eb92996"
      },
      "source": [
        "\n",
        "import numpy as np # linear algebra\n",
        "import pandas as pd # data processing, CSV file I/O (e.g. pd.read_csv)\n",
        "from fuzzywuzzy import fuzz\n",
        "from nltk.corpus import stopwords\n",
        "from tqdm import tqdm\n",
        "from scipy.stats import skew, kurtosis\n",
        "from scipy.spatial.distance import cosine, cityblock, jaccard, canberra, euclidean, minkowski, braycurtis\n",
        "from nltk import word_tokenize\n",
        "import gensim\n",
        "from gensim.parsing.preprocessing import remove_stopwords, preprocess_string\n",
        "from gensim.parsing.preprocessing import preprocess_documents, strip_tags, strip_punctuation\n",
        "stop_words = stopwords.words('english')\n",
        "\n",
        "model = gensim.models.KeyedVectors.load_word2vec_format(googleNewsVectorsHostedPath, binary=True)\n",
        "norm_model = gensim.models.KeyedVectors.load_word2vec_format(googleNewsVectorsHostedPath, binary=True)\n",
        "norm_model.init_sims(replace=True)\n",
        "def wmd(s1, s2):\n",
        "    s1 = str(s1).lower().split()\n",
        "    s2 = str(s2).lower().split()\n",
        "    stop_words = stopwords.words('english')\n",
        "    s1 = [w for w in s1 if w not in stop_words]\n",
        "    s2 = [w for w in s2 if w not in stop_words]\n",
        "    return model.wmdistance(s1, s2)\n",
        "\n",
        "\n",
        "def norm_wmd(s1, s2):\n",
        "    s1 = str(s1).lower().split()\n",
        "    s2 = str(s2).lower().split()\n",
        "    stop_words = stopwords.words('english')\n",
        "    s1 = [w for w in s1 if w not in stop_words]\n",
        "    s2 = [w for w in s2 if w not in stop_words]\n",
        "    return norm_model.wmdistance(s1, s2)\n",
        "\n",
        "\n",
        "def sent2vec(s):\n",
        "    words = str(s).lower()\n",
        "    words = word_tokenize(words)\n",
        "    words = [w for w in words if not w in stop_words]\n",
        "    words = [w for w in words if w.isalpha()]\n",
        "    M = []\n",
        "    for w in words:\n",
        "        try:\n",
        "            M.append(model[w])\n",
        "        except:\n",
        "            continue\n",
        "    M = np.array(M)\n",
        "    v = M.sum(axis=0)\n",
        "    return v / np.sqrt((v ** 2).sum())\n",
        "\n",
        "def preprocess(data):\n",
        "    data['fuzz_qratio'] = data.apply(lambda x: fuzz.QRatio(str(x['question1']), str(x['question2'])), axis=1)\n",
        "    data['fuzz_WRatio'] = data.apply(lambda x: fuzz.WRatio(str(x['question1']), str(x['question2'])), axis=1)\n",
        "    data['fuzz_partial_ratio'] = data.apply(lambda x: fuzz.partial_ratio(str(x['question1']), str(x['question2'])), axis=1)\n",
        "    data['fuzz_partial_token_set_ratio'] = data.apply(lambda x: fuzz.partial_token_set_ratio(str(x['question1']), str(x['question2'])), axis=1)\n",
        "    data['fuzz_partial_token_sort_ratio'] = data.apply(lambda x: fuzz.partial_token_sort_ratio(str(x['question1']), str(x['question2'])), axis=1)\n",
        "    data['fuzz_token_set_ratio'] = data.apply(lambda x: fuzz.token_set_ratio(str(x['question1']), str(x['question2'])), axis=1)\n",
        "    data['fuzz_token_sort_ratio'] = data.apply(lambda x: fuzz.token_sort_ratio(str(x['question1']), str(x['question2'])), axis=1)\n",
        "    data['wmd'] = data.apply(lambda x: wmd(x['question1'], x['question2']), axis=1)\n",
        "    data['norm_wmd'] = data.apply(lambda x: norm_wmd(x['question1'], x['question2']), axis=1)\n",
        "    question1_vectors = np.zeros((data.shape[0], 300))\n",
        "    error_count = 0\n",
        "    for i, q in tqdm(enumerate(data.question1.values)):\n",
        "        question1_vectors[i, :] = sent2vec(q)\n",
        "    question2_vectors  = np.zeros((data.shape[0], 300))\n",
        "    for i, q in tqdm(enumerate(data.question2.values)):\n",
        "        question2_vectors[i, :] = sent2vec(q)\n",
        "    data['cosine_distance'] = [cosine(x, y) for (x, y) in zip(np.nan_to_num(question1_vectors),\n",
        "                                                              np.nan_to_num(question2_vectors))]\n",
        "\n",
        "    data['cityblock_distance'] = [cityblock(x, y) for (x, y) in zip(np.nan_to_num(question1_vectors),\n",
        "                                                              np.nan_to_num(question2_vectors))]\n",
        "\n",
        "    data['jaccard_distance'] = [jaccard(x, y) for (x, y) in zip(np.nan_to_num(question1_vectors),\n",
        "                                                              np.nan_to_num(question2_vectors))]\n",
        "\n",
        "    data['canberra_distance'] = [canberra(x, y) for (x, y) in zip(np.nan_to_num(question1_vectors),\n",
        "                                                              np.nan_to_num(question2_vectors))]\n",
        "    data['euclidean_distance'] = [euclidean(x, y) for (x, y) in zip(np.nan_to_num(question1_vectors),\n",
        "                                                              np.nan_to_num(question2_vectors))]\n",
        "    data['minkowski_distance'] = [minkowski(x, y, 3) for (x, y) in zip(np.nan_to_num(question1_vectors),\n",
        "                                                              np.nan_to_num(question2_vectors))]\n",
        "    data['braycurtis_distance'] = [braycurtis(x, y) for (x, y) in zip(np.nan_to_num(question1_vectors),\n",
        "                                                              np.nan_to_num(question2_vectors))]\n",
        "    data['skew_q1vec'] = [skew(x) for x in np.nan_to_num(question1_vectors)]\n",
        "    data['skew_q2vec'] = [skew(x) for x in np.nan_to_num(question2_vectors)]\n",
        "    data['kur_q1vec'] = [kurtosis(x) for x in np.nan_to_num(question1_vectors)]\n",
        "    data['kur_q2vec'] = [kurtosis(x) for x in np.nan_to_num(question2_vectors)]\n",
        "\n",
        "\n",
        "    CUSTOM_FILTERS = [lambda x: x.lower(), strip_tags, strip_punctuation]\n",
        "    data['question1'] = [(remove_stopwords(\" \".join(preprocess_string(x, CUSTOM_FILTERS)))) for x in data['question1'].fillna('').astype(str)]\n",
        "    data['question2'] = [(remove_stopwords(\" \".join(preprocess_string(x, CUSTOM_FILTERS)))) for x in data['question2'].fillna('').astype(str)]\n",
        "    return data"
      ],
      "execution_count": null,
      "outputs": [
        {
          "output_type": "stream",
          "text": [
            "/usr/local/lib/python3.6/dist-packages/fuzzywuzzy/fuzz.py:11: UserWarning: Using slow pure-python SequenceMatcher. Install python-Levenshtein to remove this warning\n",
            "  warnings.warn('Using slow pure-python SequenceMatcher. Install python-Levenshtein to remove this warning')\n"
          ],
          "name": "stderr"
        }
      ]
    },
    {
      "cell_type": "code",
      "metadata": {
        "id": "4-vtnvCcJC2W",
        "colab": {
          "base_uri": "https://localhost:8080/",
          "height": 1000
        },
        "outputId": "140cf0ad-151e-463b-cb80-9a7fbd17993a"
      },
      "source": [
        "chunk_size = 50000\n",
        "i = 1\n",
        "import time\n",
        "preprocess_start_time = time.time()\n",
        "df = pd.DataFrame()\n",
        "for chunk in pd.read_csv(testDatasetPath, chunksize = chunk_size, index_col = 0):\n",
        "  local_start_time = time.time()\n",
        "  print(i)\n",
        "  i+=1\n",
        "  df = df.append(preprocess(chunk), ignore_index=True)\n",
        "  local_end_time = time.time()\n",
        "  print(local_end_time-local_start_time)\n",
        "preprocess_end_time = time.time()\n",
        "print(\"Complete time\", preprocess_end_time - preprocess_start_time)\n",
        "df.to_csv(testProcessedPath)"
      ],
      "execution_count": null,
      "outputs": [
        {
          "output_type": "stream",
          "text": [
            "1\n"
          ],
          "name": "stdout"
        },
        {
          "output_type": "stream",
          "text": [
            "0it [00:00, ?it/s]/usr/local/lib/python3.6/dist-packages/ipykernel_launcher.py:49: RuntimeWarning: invalid value encountered in double_scalars\n",
            "50000it [00:10, 4760.57it/s]\n",
            "50000it [00:10, 4890.68it/s]\n",
            "/usr/local/lib/python3.6/dist-packages/scipy/spatial/distance.py:720: RuntimeWarning: invalid value encountered in double_scalars\n",
            "  dist = 1.0 - uv / np.sqrt(uu * vv)\n",
            "/usr/local/lib/python3.6/dist-packages/scipy/spatial/distance.py:1178: RuntimeWarning: invalid value encountered in double_scalars\n",
            "  return l1_diff.sum() / l1_sum.sum()\n"
          ],
          "name": "stderr"
        },
        {
          "output_type": "stream",
          "text": [
            "607.101723909378\n",
            "2\n"
          ],
          "name": "stdout"
        },
        {
          "output_type": "stream",
          "text": [
            "50000it [00:09, 5112.58it/s]\n",
            "50000it [00:10, 4905.80it/s]\n"
          ],
          "name": "stderr"
        },
        {
          "output_type": "stream",
          "text": [
            "607.7678916454315\n",
            "3\n"
          ],
          "name": "stdout"
        },
        {
          "output_type": "stream",
          "text": [
            "50000it [00:09, 5122.37it/s]\n",
            "50000it [00:10, 4849.14it/s]\n"
          ],
          "name": "stderr"
        },
        {
          "output_type": "stream",
          "text": [
            "610.5921833515167\n",
            "4\n"
          ],
          "name": "stdout"
        },
        {
          "output_type": "stream",
          "text": [
            "50000it [00:09, 5068.64it/s]\n",
            "50000it [00:10, 4748.69it/s]\n"
          ],
          "name": "stderr"
        },
        {
          "output_type": "stream",
          "text": [
            "616.0888981819153\n",
            "5\n"
          ],
          "name": "stdout"
        },
        {
          "output_type": "stream",
          "text": [
            "50000it [00:09, 5165.63it/s]\n",
            "50000it [00:09, 5104.87it/s]\n"
          ],
          "name": "stderr"
        },
        {
          "output_type": "stream",
          "text": [
            "605.4859943389893\n",
            "6\n"
          ],
          "name": "stdout"
        },
        {
          "output_type": "stream",
          "text": [
            "50000it [00:09, 5155.25it/s]\n",
            "50000it [00:09, 5131.22it/s]\n"
          ],
          "name": "stderr"
        },
        {
          "output_type": "stream",
          "text": [
            "608.7178170681\n",
            "7\n"
          ],
          "name": "stdout"
        },
        {
          "output_type": "stream",
          "text": [
            "50000it [00:09, 5053.02it/s]\n",
            "50000it [00:09, 5004.02it/s]\n"
          ],
          "name": "stderr"
        },
        {
          "output_type": "stream",
          "text": [
            "610.6370892524719\n",
            "8\n"
          ],
          "name": "stdout"
        },
        {
          "output_type": "stream",
          "text": [
            "50000it [00:09, 5190.57it/s]\n",
            "50000it [00:09, 5249.15it/s]\n"
          ],
          "name": "stderr"
        },
        {
          "output_type": "stream",
          "text": [
            "609.7799694538116\n",
            "9\n"
          ],
          "name": "stdout"
        },
        {
          "output_type": "stream",
          "text": [
            "50000it [00:10, 4784.18it/s]\n",
            "50000it [00:09, 5024.69it/s]\n"
          ],
          "name": "stderr"
        },
        {
          "output_type": "stream",
          "text": [
            "607.8200309276581\n",
            "10\n"
          ],
          "name": "stdout"
        },
        {
          "output_type": "stream",
          "text": [
            "50000it [00:09, 5154.75it/s]\n",
            "50000it [00:09, 5048.76it/s]\n"
          ],
          "name": "stderr"
        },
        {
          "output_type": "stream",
          "text": [
            "615.939202785492\n",
            "11\n"
          ],
          "name": "stdout"
        },
        {
          "output_type": "stream",
          "text": [
            "50000it [00:09, 5109.74it/s]\n",
            "50000it [00:09, 5095.79it/s]\n"
          ],
          "name": "stderr"
        },
        {
          "output_type": "stream",
          "text": [
            "608.572078704834\n",
            "12\n"
          ],
          "name": "stdout"
        },
        {
          "output_type": "stream",
          "text": [
            "50000it [00:09, 5086.48it/s]\n",
            "50000it [00:09, 5081.26it/s]\n"
          ],
          "name": "stderr"
        },
        {
          "output_type": "stream",
          "text": [
            "605.7901246547699\n",
            "13\n"
          ],
          "name": "stdout"
        },
        {
          "output_type": "stream",
          "text": [
            "50000it [00:09, 5125.44it/s]\n",
            "50000it [00:09, 5084.18it/s]\n"
          ],
          "name": "stderr"
        },
        {
          "output_type": "stream",
          "text": [
            "609.0690355300903\n",
            "14\n"
          ],
          "name": "stdout"
        },
        {
          "output_type": "stream",
          "text": [
            "50000it [00:09, 5136.81it/s]\n",
            "50000it [00:09, 5074.14it/s]\n"
          ],
          "name": "stderr"
        },
        {
          "output_type": "stream",
          "text": [
            "608.5483605861664\n",
            "15\n"
          ],
          "name": "stdout"
        },
        {
          "output_type": "stream",
          "text": [
            "50000it [00:09, 5132.08it/s]\n",
            "50000it [00:09, 5081.16it/s]\n"
          ],
          "name": "stderr"
        },
        {
          "output_type": "stream",
          "text": [
            "609.4470677375793\n",
            "16\n"
          ],
          "name": "stdout"
        },
        {
          "output_type": "stream",
          "text": [
            "50000it [00:09, 5186.88it/s]\n",
            "50000it [00:09, 5133.00it/s]\n"
          ],
          "name": "stderr"
        },
        {
          "output_type": "stream",
          "text": [
            "606.0082974433899\n",
            "17\n"
          ],
          "name": "stdout"
        },
        {
          "output_type": "stream",
          "text": [
            "50000it [00:09, 5142.99it/s]\n",
            "50000it [00:09, 5137.19it/s]\n"
          ],
          "name": "stderr"
        },
        {
          "output_type": "stream",
          "text": [
            "608.0922999382019\n",
            "18\n"
          ],
          "name": "stdout"
        },
        {
          "output_type": "stream",
          "text": [
            "50000it [00:09, 5124.99it/s]\n",
            "50000it [00:09, 5134.86it/s]\n"
          ],
          "name": "stderr"
        },
        {
          "output_type": "stream",
          "text": [
            "604.2003874778748\n",
            "19\n"
          ],
          "name": "stdout"
        },
        {
          "output_type": "stream",
          "text": [
            "50000it [00:09, 5076.82it/s]\n",
            "50000it [00:09, 5094.85it/s]\n"
          ],
          "name": "stderr"
        },
        {
          "output_type": "stream",
          "text": [
            "616.8668892383575\n",
            "20\n"
          ],
          "name": "stdout"
        },
        {
          "output_type": "stream",
          "text": [
            "50000it [00:09, 5120.59it/s]\n",
            "50000it [00:09, 5164.96it/s]\n"
          ],
          "name": "stderr"
        },
        {
          "output_type": "stream",
          "text": [
            "604.0966629981995\n",
            "21\n"
          ],
          "name": "stdout"
        },
        {
          "output_type": "stream",
          "text": [
            "50000it [00:09, 5122.83it/s]\n",
            "50000it [00:09, 5162.68it/s]\n"
          ],
          "name": "stderr"
        },
        {
          "output_type": "stream",
          "text": [
            "610.7477314472198\n",
            "22\n"
          ],
          "name": "stdout"
        },
        {
          "output_type": "stream",
          "text": [
            "50000it [00:09, 5119.12it/s]\n",
            "50000it [00:09, 5166.20it/s]\n"
          ],
          "name": "stderr"
        },
        {
          "output_type": "stream",
          "text": [
            "615.9626867771149\n",
            "23\n"
          ],
          "name": "stdout"
        },
        {
          "output_type": "stream",
          "text": [
            "50000it [00:09, 5127.50it/s]\n",
            "50000it [00:09, 5114.91it/s]\n"
          ],
          "name": "stderr"
        },
        {
          "output_type": "stream",
          "text": [
            "605.9304060935974\n",
            "24\n"
          ],
          "name": "stdout"
        },
        {
          "output_type": "stream",
          "text": [
            "50000it [00:09, 5122.66it/s]\n",
            "50000it [00:09, 5090.11it/s]\n"
          ],
          "name": "stderr"
        },
        {
          "output_type": "stream",
          "text": [
            "611.563467502594\n",
            "25\n"
          ],
          "name": "stdout"
        },
        {
          "output_type": "stream",
          "text": [
            "50000it [00:09, 5147.40it/s]\n",
            "50000it [00:09, 5034.84it/s]\n"
          ],
          "name": "stderr"
        },
        {
          "output_type": "stream",
          "text": [
            "609.7273762226105\n",
            "26\n"
          ],
          "name": "stdout"
        },
        {
          "output_type": "stream",
          "text": [
            "50000it [00:10, 4597.76it/s]\n",
            "50000it [00:10, 4703.15it/s]\n"
          ],
          "name": "stderr"
        },
        {
          "output_type": "stream",
          "text": [
            "609.2221989631653\n",
            "27\n"
          ],
          "name": "stdout"
        },
        {
          "output_type": "stream",
          "text": [
            "50000it [00:09, 5052.98it/s]\n",
            "50000it [00:09, 5066.53it/s]\n"
          ],
          "name": "stderr"
        },
        {
          "output_type": "stream",
          "text": [
            "614.7652299404144\n",
            "28\n"
          ],
          "name": "stdout"
        },
        {
          "output_type": "stream",
          "text": [
            "50000it [00:09, 5110.16it/s]\n",
            "50000it [00:09, 5170.85it/s]\n"
          ],
          "name": "stderr"
        },
        {
          "output_type": "stream",
          "text": [
            "607.6329469680786\n",
            "29\n"
          ],
          "name": "stdout"
        },
        {
          "output_type": "stream",
          "text": [
            "50000it [00:09, 5118.86it/s]\n",
            "50000it [00:09, 5096.23it/s]\n"
          ],
          "name": "stderr"
        },
        {
          "output_type": "stream",
          "text": [
            "615.7628128528595\n",
            "30\n"
          ],
          "name": "stdout"
        },
        {
          "output_type": "stream",
          "text": [
            "50000it [00:09, 5089.48it/s]\n",
            "50000it [00:09, 5042.64it/s]\n"
          ],
          "name": "stderr"
        },
        {
          "output_type": "stream",
          "text": [
            "607.7173407077789\n",
            "31\n"
          ],
          "name": "stdout"
        },
        {
          "output_type": "stream",
          "text": [
            "50000it [00:09, 5007.31it/s]\n",
            "50000it [00:10, 4977.12it/s]\n"
          ],
          "name": "stderr"
        },
        {
          "output_type": "stream",
          "text": [
            "619.3890957832336\n",
            "32\n"
          ],
          "name": "stdout"
        },
        {
          "output_type": "stream",
          "text": [
            "50000it [00:09, 5088.77it/s]\n",
            "50000it [00:09, 5135.51it/s]\n"
          ],
          "name": "stderr"
        },
        {
          "output_type": "stream",
          "text": [
            "614.8028335571289\n",
            "33\n"
          ],
          "name": "stdout"
        },
        {
          "output_type": "stream",
          "text": [
            "50000it [00:09, 5026.76it/s]\n",
            "50000it [00:09, 5026.11it/s]\n"
          ],
          "name": "stderr"
        },
        {
          "output_type": "stream",
          "text": [
            "615.5154573917389\n",
            "34\n"
          ],
          "name": "stdout"
        },
        {
          "output_type": "stream",
          "text": [
            "50000it [00:09, 5045.84it/s]\n",
            "50000it [00:09, 5053.43it/s]\n"
          ],
          "name": "stderr"
        },
        {
          "output_type": "stream",
          "text": [
            "619.1222279071808\n",
            "35\n"
          ],
          "name": "stdout"
        },
        {
          "output_type": "stream",
          "text": [
            "50000it [00:09, 5083.26it/s]\n",
            "50000it [00:09, 5159.08it/s]\n"
          ],
          "name": "stderr"
        },
        {
          "output_type": "stream",
          "text": [
            "615.0678246021271\n",
            "36\n"
          ],
          "name": "stdout"
        },
        {
          "output_type": "stream",
          "text": [
            "50000it [00:10, 4948.51it/s]\n",
            "50000it [00:09, 5138.47it/s]\n"
          ],
          "name": "stderr"
        },
        {
          "output_type": "stream",
          "text": [
            "605.2919075489044\n",
            "37\n"
          ],
          "name": "stdout"
        },
        {
          "output_type": "stream",
          "text": [
            "50000it [00:09, 5131.32it/s]\n",
            "50000it [00:10, 4961.40it/s]\n"
          ],
          "name": "stderr"
        },
        {
          "output_type": "stream",
          "text": [
            "610.7698469161987\n",
            "38\n"
          ],
          "name": "stdout"
        },
        {
          "output_type": "stream",
          "text": [
            "50000it [00:09, 5003.53it/s]\n",
            "50000it [00:09, 5086.84it/s]\n"
          ],
          "name": "stderr"
        },
        {
          "output_type": "stream",
          "text": [
            "606.9773461818695\n",
            "39\n"
          ],
          "name": "stdout"
        },
        {
          "output_type": "stream",
          "text": [
            "50000it [00:09, 5148.44it/s]\n",
            "50000it [00:09, 5168.38it/s]\n"
          ],
          "name": "stderr"
        },
        {
          "output_type": "stream",
          "text": [
            "612.7699086666107\n",
            "40\n"
          ],
          "name": "stdout"
        },
        {
          "output_type": "stream",
          "text": [
            "50000it [00:09, 5246.17it/s]\n",
            "50000it [00:09, 5186.08it/s]\n"
          ],
          "name": "stderr"
        },
        {
          "output_type": "stream",
          "text": [
            "599.6279003620148\n",
            "41\n"
          ],
          "name": "stdout"
        },
        {
          "output_type": "stream",
          "text": [
            "50000it [00:09, 5073.07it/s]\n",
            "50000it [00:09, 5021.23it/s]\n"
          ],
          "name": "stderr"
        },
        {
          "output_type": "stream",
          "text": [
            "614.0763065814972\n",
            "42\n"
          ],
          "name": "stdout"
        },
        {
          "output_type": "stream",
          "text": [
            "50000it [00:09, 5029.63it/s]\n",
            "50000it [00:09, 5110.34it/s]\n"
          ],
          "name": "stderr"
        },
        {
          "output_type": "stream",
          "text": [
            "610.4795813560486\n",
            "43\n"
          ],
          "name": "stdout"
        },
        {
          "output_type": "stream",
          "text": [
            "50000it [00:09, 5099.03it/s]\n",
            "50000it [00:09, 5073.68it/s]\n"
          ],
          "name": "stderr"
        },
        {
          "output_type": "stream",
          "text": [
            "608.590039730072\n",
            "44\n"
          ],
          "name": "stdout"
        },
        {
          "output_type": "stream",
          "text": [
            "50000it [00:09, 5045.90it/s]\n",
            "50000it [00:09, 5010.88it/s]\n"
          ],
          "name": "stderr"
        },
        {
          "output_type": "stream",
          "text": [
            "613.6920158863068\n",
            "45\n"
          ],
          "name": "stdout"
        },
        {
          "output_type": "stream",
          "text": [
            "50000it [00:09, 5022.79it/s]\n",
            "50000it [00:09, 5064.19it/s]\n"
          ],
          "name": "stderr"
        },
        {
          "output_type": "stream",
          "text": [
            "610.0740294456482\n",
            "46\n"
          ],
          "name": "stdout"
        },
        {
          "output_type": "stream",
          "text": [
            "50000it [00:12, 3984.39it/s]\n",
            "50000it [00:10, 4592.12it/s]\n"
          ],
          "name": "stderr"
        },
        {
          "output_type": "stream",
          "text": [
            "619.9379303455353\n",
            "47\n"
          ],
          "name": "stdout"
        },
        {
          "output_type": "stream",
          "text": [
            "45796it [00:09, 5031.41it/s]\n",
            "45796it [00:09, 5074.57it/s]\n"
          ],
          "name": "stderr"
        },
        {
          "output_type": "stream",
          "text": [
            "559.3894999027252\n",
            "Complete time 28651.588764429092\n"
          ],
          "name": "stdout"
        },
        {
          "output_type": "error",
          "ename": "FileNotFoundError",
          "evalue": "ignored",
          "traceback": [
            "\u001b[0;31m---------------------------------------------------------------------------\u001b[0m",
            "\u001b[0;31mFileNotFoundError\u001b[0m                         Traceback (most recent call last)",
            "\u001b[0;32m<ipython-input-15-ebbc59ddaf69>\u001b[0m in \u001b[0;36m<module>\u001b[0;34m()\u001b[0m\n\u001b[1;32m     13\u001b[0m \u001b[0mpreprocess_end_time\u001b[0m \u001b[0;34m=\u001b[0m \u001b[0mtime\u001b[0m\u001b[0;34m.\u001b[0m\u001b[0mtime\u001b[0m\u001b[0;34m(\u001b[0m\u001b[0;34m)\u001b[0m\u001b[0;34m\u001b[0m\u001b[0;34m\u001b[0m\u001b[0m\n\u001b[1;32m     14\u001b[0m \u001b[0mprint\u001b[0m\u001b[0;34m(\u001b[0m\u001b[0;34m\"Complete time\"\u001b[0m\u001b[0;34m,\u001b[0m \u001b[0mpreprocess_end_time\u001b[0m \u001b[0;34m-\u001b[0m \u001b[0mpreprocess_start_time\u001b[0m\u001b[0;34m)\u001b[0m\u001b[0;34m\u001b[0m\u001b[0;34m\u001b[0m\u001b[0m\n\u001b[0;32m---> 15\u001b[0;31m \u001b[0mdf\u001b[0m\u001b[0;34m.\u001b[0m\u001b[0mto_csv\u001b[0m\u001b[0;34m(\u001b[0m\u001b[0mtestProcessedPath\u001b[0m\u001b[0;34m)\u001b[0m\u001b[0;34m\u001b[0m\u001b[0;34m\u001b[0m\u001b[0m\n\u001b[0m",
            "\u001b[0;32m/usr/local/lib/python3.6/dist-packages/pandas/core/generic.py\u001b[0m in \u001b[0;36mto_csv\u001b[0;34m(self, path_or_buf, sep, na_rep, float_format, columns, header, index, index_label, mode, encoding, compression, quoting, quotechar, line_terminator, chunksize, date_format, doublequote, escapechar, decimal, errors)\u001b[0m\n\u001b[1;32m   3168\u001b[0m             \u001b[0mdecimal\u001b[0m\u001b[0;34m=\u001b[0m\u001b[0mdecimal\u001b[0m\u001b[0;34m,\u001b[0m\u001b[0;34m\u001b[0m\u001b[0;34m\u001b[0m\u001b[0m\n\u001b[1;32m   3169\u001b[0m         )\n\u001b[0;32m-> 3170\u001b[0;31m         \u001b[0mformatter\u001b[0m\u001b[0;34m.\u001b[0m\u001b[0msave\u001b[0m\u001b[0;34m(\u001b[0m\u001b[0;34m)\u001b[0m\u001b[0;34m\u001b[0m\u001b[0;34m\u001b[0m\u001b[0m\n\u001b[0m\u001b[1;32m   3171\u001b[0m \u001b[0;34m\u001b[0m\u001b[0m\n\u001b[1;32m   3172\u001b[0m         \u001b[0;32mif\u001b[0m \u001b[0mpath_or_buf\u001b[0m \u001b[0;32mis\u001b[0m \u001b[0;32mNone\u001b[0m\u001b[0;34m:\u001b[0m\u001b[0;34m\u001b[0m\u001b[0;34m\u001b[0m\u001b[0m\n",
            "\u001b[0;32m/usr/local/lib/python3.6/dist-packages/pandas/io/formats/csvs.py\u001b[0m in \u001b[0;36msave\u001b[0;34m(self)\u001b[0m\n\u001b[1;32m    188\u001b[0m                 \u001b[0mencoding\u001b[0m\u001b[0;34m=\u001b[0m\u001b[0mself\u001b[0m\u001b[0;34m.\u001b[0m\u001b[0mencoding\u001b[0m\u001b[0;34m,\u001b[0m\u001b[0;34m\u001b[0m\u001b[0;34m\u001b[0m\u001b[0m\n\u001b[1;32m    189\u001b[0m                 \u001b[0merrors\u001b[0m\u001b[0;34m=\u001b[0m\u001b[0mself\u001b[0m\u001b[0;34m.\u001b[0m\u001b[0merrors\u001b[0m\u001b[0;34m,\u001b[0m\u001b[0;34m\u001b[0m\u001b[0;34m\u001b[0m\u001b[0m\n\u001b[0;32m--> 190\u001b[0;31m                 \u001b[0mcompression\u001b[0m\u001b[0;34m=\u001b[0m\u001b[0mdict\u001b[0m\u001b[0;34m(\u001b[0m\u001b[0mself\u001b[0m\u001b[0;34m.\u001b[0m\u001b[0mcompression_args\u001b[0m\u001b[0;34m,\u001b[0m \u001b[0mmethod\u001b[0m\u001b[0;34m=\u001b[0m\u001b[0mself\u001b[0m\u001b[0;34m.\u001b[0m\u001b[0mcompression\u001b[0m\u001b[0;34m)\u001b[0m\u001b[0;34m,\u001b[0m\u001b[0;34m\u001b[0m\u001b[0;34m\u001b[0m\u001b[0m\n\u001b[0m\u001b[1;32m    191\u001b[0m             )\n\u001b[1;32m    192\u001b[0m             \u001b[0mclose\u001b[0m \u001b[0;34m=\u001b[0m \u001b[0;32mTrue\u001b[0m\u001b[0;34m\u001b[0m\u001b[0;34m\u001b[0m\u001b[0m\n",
            "\u001b[0;32m/usr/local/lib/python3.6/dist-packages/pandas/io/common.py\u001b[0m in \u001b[0;36mget_handle\u001b[0;34m(path_or_buf, mode, encoding, compression, memory_map, is_text, errors)\u001b[0m\n\u001b[1;32m    491\u001b[0m         \u001b[0;32mif\u001b[0m \u001b[0mencoding\u001b[0m\u001b[0;34m:\u001b[0m\u001b[0;34m\u001b[0m\u001b[0;34m\u001b[0m\u001b[0m\n\u001b[1;32m    492\u001b[0m             \u001b[0;31m# Encoding\u001b[0m\u001b[0;34m\u001b[0m\u001b[0;34m\u001b[0m\u001b[0;34m\u001b[0m\u001b[0m\n\u001b[0;32m--> 493\u001b[0;31m             \u001b[0mf\u001b[0m \u001b[0;34m=\u001b[0m \u001b[0mopen\u001b[0m\u001b[0;34m(\u001b[0m\u001b[0mpath_or_buf\u001b[0m\u001b[0;34m,\u001b[0m \u001b[0mmode\u001b[0m\u001b[0;34m,\u001b[0m \u001b[0mencoding\u001b[0m\u001b[0;34m=\u001b[0m\u001b[0mencoding\u001b[0m\u001b[0;34m,\u001b[0m \u001b[0merrors\u001b[0m\u001b[0;34m=\u001b[0m\u001b[0merrors\u001b[0m\u001b[0;34m,\u001b[0m \u001b[0mnewline\u001b[0m\u001b[0;34m=\u001b[0m\u001b[0;34m\"\"\u001b[0m\u001b[0;34m)\u001b[0m\u001b[0;34m\u001b[0m\u001b[0;34m\u001b[0m\u001b[0m\n\u001b[0m\u001b[1;32m    494\u001b[0m         \u001b[0;32melif\u001b[0m \u001b[0mis_text\u001b[0m\u001b[0;34m:\u001b[0m\u001b[0;34m\u001b[0m\u001b[0;34m\u001b[0m\u001b[0m\n\u001b[1;32m    495\u001b[0m             \u001b[0;31m# No explicit encoding\u001b[0m\u001b[0;34m\u001b[0m\u001b[0;34m\u001b[0m\u001b[0;34m\u001b[0m\u001b[0m\n",
            "\u001b[0;31mFileNotFoundError\u001b[0m: [Errno 2] No such file or directory: 'content/drive/My Drive/MLPW/testProcessed.csv'"
          ]
        }
      ]
    },
    {
      "cell_type": "code",
      "metadata": {
        "id": "6oW0p9MTmVq2"
      },
      "source": [
        "df.to_csv(testProcessedPath)\n",
        "# Complete Preprocessing Time 28651.588764429092\n",
        "# Time per batch = 600 s\n",
        "# numb batches = 47\n"
      ],
      "execution_count": null,
      "outputs": []
    },
    {
      "cell_type": "markdown",
      "metadata": {
        "id": "o5a2-XooFeT1"
      },
      "source": [
        "# LSTM CONV DIST Model Testing"
      ]
    },
    {
      "cell_type": "code",
      "metadata": {
        "id": "4W-7_mlQFhqE"
      },
      "source": [
        "def batch_pred_lstm_conv_dist(df):\n",
        "  t1 = tk.texts_to_sequences(df.question1.values.astype(str))\n",
        "  t1 = sequence.pad_sequences(t1, maxlen=max_len)\n",
        "  t2 = tk.texts_to_sequences(df.question2.values.astype(str))\n",
        "  t2 = sequence.pad_sequences(t2, maxlen=max_len)\n",
        "  dist = df[distance_columns].to_numpy()\n",
        "  op = [list(df['Unnamed: 0'])]\n",
        "  pred = dist_lstm_conv_model.predict([t1,t2,dist])\n",
        "  pred = (pred>0.5).astype(int).ravel()\n",
        "  # print(type(pred))\n",
        "  op.append(list(pred))\n",
        "  op = np.array(op).T\n",
        "  op_df = pd.DataFrame(op, columns = ['test_id', 'is_duplicate'])\n",
        "  return op_df"
      ],
      "execution_count": null,
      "outputs": []
    },
    {
      "cell_type": "code",
      "metadata": {
        "id": "G_xs4TgaPbti",
        "colab": {
          "base_uri": "https://localhost:8080/"
        },
        "outputId": "9f96c51c-f891-4d2f-95d8-3901af359442"
      },
      "source": [
        "import _pickle as cPickle\n",
        "dist_lstm_conv_model = main_model_dist()\n",
        "checkpointlstmconvdist = ModelCheckpoint(lstmconvdistnostopwordsWeights, monitor='val_acc', save_best_only=True, verbose=2)\n",
        "# early_stopping = EarlyStopping(monitor=\"val_loss\", patience=50)\n",
        "modelhistconvlstmdist = dist_lstm_conv_model.fit([x1, x2, dist], y=y_train, batch_size=3500, epochs=100, verbose=1, validation_split=0.1, shuffle=True, callbacks=[ checkpointlstmconvdist])\n",
        "cPickle.dump(modelhistconvlstmdist.history,open('/content/drive/My Drive/MLPW/lstmconvdisthistnostopwords.pkl', 'wb'), -1)"
      ],
      "execution_count": null,
      "outputs": [
        {
          "output_type": "stream",
          "text": [
            "WARNING:tensorflow:Layer lstm_2 will not use cuDNN kernel since it doesn't meet the cuDNN kernel criteria. It will use generic GPU kernel as fallback when running on GPU\n",
            "WARNING:tensorflow:Layer lstm_3 will not use cuDNN kernel since it doesn't meet the cuDNN kernel criteria. It will use generic GPU kernel as fallback when running on GPU\n",
            "Epoch 1/100\n",
            "104/104 [==============================] - ETA: 0s - loss: 0.7510 - accuracy: 0.4998WARNING:tensorflow:Can save best model only with val_acc available, skipping.\n",
            "104/104 [==============================] - 148s 1s/step - loss: 0.7510 - accuracy: 0.4998 - val_loss: 0.6944 - val_accuracy: 0.5002\n",
            "Epoch 2/100\n",
            "104/104 [==============================] - ETA: 0s - loss: 0.7048 - accuracy: 0.5028WARNING:tensorflow:Can save best model only with val_acc available, skipping.\n",
            "104/104 [==============================] - 147s 1s/step - loss: 0.7048 - accuracy: 0.5028 - val_loss: 0.6933 - val_accuracy: 0.5003\n",
            "Epoch 3/100\n",
            "104/104 [==============================] - ETA: 0s - loss: 0.6996 - accuracy: 0.5016WARNING:tensorflow:Can save best model only with val_acc available, skipping.\n",
            "104/104 [==============================] - 148s 1s/step - loss: 0.6996 - accuracy: 0.5016 - val_loss: 0.6934 - val_accuracy: 0.5028\n",
            "Epoch 4/100\n",
            "104/104 [==============================] - ETA: 0s - loss: 0.6975 - accuracy: 0.5068WARNING:tensorflow:Can save best model only with val_acc available, skipping.\n",
            "104/104 [==============================] - 148s 1s/step - loss: 0.6975 - accuracy: 0.5068 - val_loss: 0.6933 - val_accuracy: 0.5000\n",
            "Epoch 5/100\n",
            "104/104 [==============================] - ETA: 0s - loss: 0.6932 - accuracy: 0.5277WARNING:tensorflow:Can save best model only with val_acc available, skipping.\n",
            "104/104 [==============================] - 148s 1s/step - loss: 0.6932 - accuracy: 0.5277 - val_loss: 0.6936 - val_accuracy: 0.4943\n",
            "Epoch 6/100\n",
            "104/104 [==============================] - ETA: 0s - loss: 0.6774 - accuracy: 0.5643WARNING:tensorflow:Can save best model only with val_acc available, skipping.\n",
            "104/104 [==============================] - 147s 1s/step - loss: 0.6774 - accuracy: 0.5643 - val_loss: 0.6952 - val_accuracy: 0.5020\n",
            "Epoch 7/100\n",
            "104/104 [==============================] - ETA: 0s - loss: 0.6480 - accuracy: 0.5971WARNING:tensorflow:Can save best model only with val_acc available, skipping.\n",
            "104/104 [==============================] - 148s 1s/step - loss: 0.6480 - accuracy: 0.5971 - val_loss: 0.7034 - val_accuracy: 0.4995\n",
            "Epoch 8/100\n",
            "104/104 [==============================] - ETA: 0s - loss: 0.6090 - accuracy: 0.6281WARNING:tensorflow:Can save best model only with val_acc available, skipping.\n",
            "104/104 [==============================] - 149s 1s/step - loss: 0.6090 - accuracy: 0.6281 - val_loss: 0.7588 - val_accuracy: 0.4993\n",
            "Epoch 9/100\n",
            "104/104 [==============================] - ETA: 0s - loss: 0.5689 - accuracy: 0.6580WARNING:tensorflow:Can save best model only with val_acc available, skipping.\n",
            "104/104 [==============================] - 148s 1s/step - loss: 0.5689 - accuracy: 0.6580 - val_loss: 0.7504 - val_accuracy: 0.5011\n",
            "Epoch 10/100\n",
            "104/104 [==============================] - ETA: 0s - loss: 0.5338 - accuracy: 0.6788WARNING:tensorflow:Can save best model only with val_acc available, skipping.\n",
            "104/104 [==============================] - 147s 1s/step - loss: 0.5338 - accuracy: 0.6788 - val_loss: 0.8438 - val_accuracy: 0.4974\n",
            "Epoch 11/100\n",
            "104/104 [==============================] - ETA: 0s - loss: 0.4999 - accuracy: 0.6995WARNING:tensorflow:Can save best model only with val_acc available, skipping.\n",
            "104/104 [==============================] - 147s 1s/step - loss: 0.4999 - accuracy: 0.6995 - val_loss: 1.1920 - val_accuracy: 0.5035\n",
            "Epoch 12/100\n",
            "104/104 [==============================] - ETA: 0s - loss: 0.4703 - accuracy: 0.7190WARNING:tensorflow:Can save best model only with val_acc available, skipping.\n",
            "104/104 [==============================] - 147s 1s/step - loss: 0.4703 - accuracy: 0.7190 - val_loss: 1.2282 - val_accuracy: 0.5004\n",
            "Epoch 13/100\n",
            "104/104 [==============================] - ETA: 0s - loss: 0.4430 - accuracy: 0.7356WARNING:tensorflow:Can save best model only with val_acc available, skipping.\n",
            "104/104 [==============================] - 147s 1s/step - loss: 0.4430 - accuracy: 0.7356 - val_loss: 1.3737 - val_accuracy: 0.5002\n",
            "Epoch 14/100\n",
            "104/104 [==============================] - ETA: 0s - loss: 0.4201 - accuracy: 0.7508WARNING:tensorflow:Can save best model only with val_acc available, skipping.\n",
            "104/104 [==============================] - 147s 1s/step - loss: 0.4201 - accuracy: 0.7508 - val_loss: 1.5904 - val_accuracy: 0.5036\n",
            "Epoch 15/100\n",
            "104/104 [==============================] - ETA: 0s - loss: 0.3986 - accuracy: 0.7646WARNING:tensorflow:Can save best model only with val_acc available, skipping.\n",
            "104/104 [==============================] - 147s 1s/step - loss: 0.3986 - accuracy: 0.7646 - val_loss: 1.7224 - val_accuracy: 0.5041\n",
            "Epoch 16/100\n",
            "104/104 [==============================] - ETA: 0s - loss: 0.3791 - accuracy: 0.7780WARNING:tensorflow:Can save best model only with val_acc available, skipping.\n",
            "104/104 [==============================] - 146s 1s/step - loss: 0.3791 - accuracy: 0.7780 - val_loss: 1.8351 - val_accuracy: 0.5008\n",
            "Epoch 17/100\n",
            "104/104 [==============================] - ETA: 0s - loss: 0.3629 - accuracy: 0.7892WARNING:tensorflow:Can save best model only with val_acc available, skipping.\n",
            "104/104 [==============================] - 148s 1s/step - loss: 0.3629 - accuracy: 0.7892 - val_loss: 1.8346 - val_accuracy: 0.4973\n",
            "Epoch 18/100\n",
            "104/104 [==============================] - ETA: 0s - loss: 0.3499 - accuracy: 0.7980WARNING:tensorflow:Can save best model only with val_acc available, skipping.\n",
            "104/104 [==============================] - 147s 1s/step - loss: 0.3499 - accuracy: 0.7980 - val_loss: 1.8912 - val_accuracy: 0.5021\n",
            "Epoch 19/100\n",
            "104/104 [==============================] - ETA: 0s - loss: 0.3315 - accuracy: 0.8083WARNING:tensorflow:Can save best model only with val_acc available, skipping.\n",
            "104/104 [==============================] - 147s 1s/step - loss: 0.3315 - accuracy: 0.8083 - val_loss: 2.0500 - val_accuracy: 0.5032\n",
            "Epoch 20/100\n",
            "104/104 [==============================] - ETA: 0s - loss: 0.3168 - accuracy: 0.8177WARNING:tensorflow:Can save best model only with val_acc available, skipping.\n",
            "104/104 [==============================] - 148s 1s/step - loss: 0.3168 - accuracy: 0.8177 - val_loss: 1.8565 - val_accuracy: 0.5038\n",
            "Epoch 21/100\n",
            "104/104 [==============================] - ETA: 0s - loss: 0.3042 - accuracy: 0.8257WARNING:tensorflow:Can save best model only with val_acc available, skipping.\n",
            "104/104 [==============================] - 146s 1s/step - loss: 0.3042 - accuracy: 0.8257 - val_loss: 2.3319 - val_accuracy: 0.5004\n",
            "Epoch 22/100\n",
            "104/104 [==============================] - ETA: 0s - loss: 0.2930 - accuracy: 0.8327WARNING:tensorflow:Can save best model only with val_acc available, skipping.\n",
            "104/104 [==============================] - 147s 1s/step - loss: 0.2930 - accuracy: 0.8327 - val_loss: 2.7759 - val_accuracy: 0.5024\n",
            "Epoch 23/100\n",
            "104/104 [==============================] - ETA: 0s - loss: 0.2825 - accuracy: 0.8398WARNING:tensorflow:Can save best model only with val_acc available, skipping.\n",
            "104/104 [==============================] - 147s 1s/step - loss: 0.2825 - accuracy: 0.8398 - val_loss: 2.3089 - val_accuracy: 0.5052\n",
            "Epoch 24/100\n",
            "104/104 [==============================] - ETA: 0s - loss: 0.2723 - accuracy: 0.8454WARNING:tensorflow:Can save best model only with val_acc available, skipping.\n",
            "104/104 [==============================] - 147s 1s/step - loss: 0.2723 - accuracy: 0.8454 - val_loss: 2.6238 - val_accuracy: 0.5037\n",
            "Epoch 25/100\n",
            "104/104 [==============================] - ETA: 0s - loss: 0.2633 - accuracy: 0.8500WARNING:tensorflow:Can save best model only with val_acc available, skipping.\n",
            "104/104 [==============================] - 148s 1s/step - loss: 0.2633 - accuracy: 0.8500 - val_loss: 2.7009 - val_accuracy: 0.5019\n",
            "Epoch 26/100\n",
            "104/104 [==============================] - ETA: 0s - loss: 0.2541 - accuracy: 0.8567WARNING:tensorflow:Can save best model only with val_acc available, skipping.\n",
            "104/104 [==============================] - 147s 1s/step - loss: 0.2541 - accuracy: 0.8567 - val_loss: 2.8611 - val_accuracy: 0.5057\n",
            "Epoch 27/100\n",
            "104/104 [==============================] - ETA: 0s - loss: 0.2457 - accuracy: 0.8625WARNING:tensorflow:Can save best model only with val_acc available, skipping.\n",
            "104/104 [==============================] - 149s 1s/step - loss: 0.2457 - accuracy: 0.8625 - val_loss: 3.0012 - val_accuracy: 0.5039\n",
            "Epoch 28/100\n",
            "104/104 [==============================] - ETA: 0s - loss: 0.2380 - accuracy: 0.8672WARNING:tensorflow:Can save best model only with val_acc available, skipping.\n",
            "104/104 [==============================] - 147s 1s/step - loss: 0.2380 - accuracy: 0.8672 - val_loss: 2.9389 - val_accuracy: 0.5046\n",
            "Epoch 29/100\n",
            "104/104 [==============================] - ETA: 0s - loss: 0.2317 - accuracy: 0.8711WARNING:tensorflow:Can save best model only with val_acc available, skipping.\n",
            "104/104 [==============================] - 148s 1s/step - loss: 0.2317 - accuracy: 0.8711 - val_loss: 2.7573 - val_accuracy: 0.5021\n",
            "Epoch 30/100\n",
            "104/104 [==============================] - ETA: 0s - loss: 0.2243 - accuracy: 0.8753WARNING:tensorflow:Can save best model only with val_acc available, skipping.\n",
            "104/104 [==============================] - 146s 1s/step - loss: 0.2243 - accuracy: 0.8753 - val_loss: 2.9116 - val_accuracy: 0.5021\n",
            "Epoch 31/100\n",
            "104/104 [==============================] - ETA: 0s - loss: 0.2194 - accuracy: 0.8786WARNING:tensorflow:Can save best model only with val_acc available, skipping.\n",
            "104/104 [==============================] - 146s 1s/step - loss: 0.2194 - accuracy: 0.8786 - val_loss: 3.1120 - val_accuracy: 0.5036\n",
            "Epoch 32/100\n",
            "104/104 [==============================] - ETA: 0s - loss: 0.2129 - accuracy: 0.8832WARNING:tensorflow:Can save best model only with val_acc available, skipping.\n",
            "104/104 [==============================] - 148s 1s/step - loss: 0.2129 - accuracy: 0.8832 - val_loss: 3.2025 - val_accuracy: 0.5042\n",
            "Epoch 33/100\n",
            "104/104 [==============================] - ETA: 0s - loss: 0.2063 - accuracy: 0.8867WARNING:tensorflow:Can save best model only with val_acc available, skipping.\n",
            "104/104 [==============================] - 148s 1s/step - loss: 0.2063 - accuracy: 0.8867 - val_loss: 3.1299 - val_accuracy: 0.5061\n",
            "Epoch 34/100\n",
            "104/104 [==============================] - ETA: 0s - loss: 0.2013 - accuracy: 0.8906WARNING:tensorflow:Can save best model only with val_acc available, skipping.\n",
            "104/104 [==============================] - 147s 1s/step - loss: 0.2013 - accuracy: 0.8906 - val_loss: 3.2700 - val_accuracy: 0.5023\n",
            "Epoch 35/100\n",
            "104/104 [==============================] - ETA: 0s - loss: 0.1958 - accuracy: 0.8936WARNING:tensorflow:Can save best model only with val_acc available, skipping.\n",
            "104/104 [==============================] - 148s 1s/step - loss: 0.1958 - accuracy: 0.8936 - val_loss: 3.4006 - val_accuracy: 0.5023\n",
            "Epoch 36/100\n",
            "104/104 [==============================] - ETA: 0s - loss: 0.1917 - accuracy: 0.8967WARNING:tensorflow:Can save best model only with val_acc available, skipping.\n",
            "104/104 [==============================] - 145s 1s/step - loss: 0.1917 - accuracy: 0.8967 - val_loss: 3.4764 - val_accuracy: 0.5012\n",
            "Epoch 37/100\n",
            "104/104 [==============================] - ETA: 0s - loss: 0.1860 - accuracy: 0.8998WARNING:tensorflow:Can save best model only with val_acc available, skipping.\n",
            "104/104 [==============================] - 146s 1s/step - loss: 0.1860 - accuracy: 0.8998 - val_loss: 3.2545 - val_accuracy: 0.5030\n",
            "Epoch 38/100\n",
            "104/104 [==============================] - ETA: 0s - loss: 0.1828 - accuracy: 0.9022WARNING:tensorflow:Can save best model only with val_acc available, skipping.\n",
            "104/104 [==============================] - 147s 1s/step - loss: 0.1828 - accuracy: 0.9022 - val_loss: 3.4359 - val_accuracy: 0.5010\n",
            "Epoch 39/100\n",
            "104/104 [==============================] - ETA: 0s - loss: 0.1784 - accuracy: 0.9053WARNING:tensorflow:Can save best model only with val_acc available, skipping.\n",
            "104/104 [==============================] - 147s 1s/step - loss: 0.1784 - accuracy: 0.9053 - val_loss: 3.5694 - val_accuracy: 0.5023\n",
            "Epoch 40/100\n",
            "104/104 [==============================] - ETA: 0s - loss: 0.1745 - accuracy: 0.9077WARNING:tensorflow:Can save best model only with val_acc available, skipping.\n",
            "104/104 [==============================] - 147s 1s/step - loss: 0.1745 - accuracy: 0.9077 - val_loss: 3.3844 - val_accuracy: 0.5022\n",
            "Epoch 41/100\n",
            "104/104 [==============================] - ETA: 0s - loss: 0.1707 - accuracy: 0.9101WARNING:tensorflow:Can save best model only with val_acc available, skipping.\n",
            "104/104 [==============================] - 147s 1s/step - loss: 0.1707 - accuracy: 0.9101 - val_loss: 3.6131 - val_accuracy: 0.5029\n",
            "Epoch 42/100\n",
            "104/104 [==============================] - ETA: 0s - loss: 0.1670 - accuracy: 0.9123WARNING:tensorflow:Can save best model only with val_acc available, skipping.\n",
            "104/104 [==============================] - 146s 1s/step - loss: 0.1670 - accuracy: 0.9123 - val_loss: 3.6251 - val_accuracy: 0.5007\n",
            "Epoch 43/100\n",
            "104/104 [==============================] - ETA: 0s - loss: 0.1626 - accuracy: 0.9152WARNING:tensorflow:Can save best model only with val_acc available, skipping.\n",
            "104/104 [==============================] - 147s 1s/step - loss: 0.1626 - accuracy: 0.9152 - val_loss: 3.5705 - val_accuracy: 0.5018\n",
            "Epoch 44/100\n",
            "104/104 [==============================] - ETA: 0s - loss: 0.1603 - accuracy: 0.9161WARNING:tensorflow:Can save best model only with val_acc available, skipping.\n",
            "104/104 [==============================] - 146s 1s/step - loss: 0.1603 - accuracy: 0.9161 - val_loss: 3.7005 - val_accuracy: 0.4984\n",
            "Epoch 45/100\n",
            "104/104 [==============================] - ETA: 0s - loss: 0.1568 - accuracy: 0.9190WARNING:tensorflow:Can save best model only with val_acc available, skipping.\n",
            "104/104 [==============================] - 146s 1s/step - loss: 0.1568 - accuracy: 0.9190 - val_loss: 3.6625 - val_accuracy: 0.4993\n",
            "Epoch 46/100\n",
            "104/104 [==============================] - ETA: 0s - loss: 0.1528 - accuracy: 0.9210WARNING:tensorflow:Can save best model only with val_acc available, skipping.\n",
            "104/104 [==============================] - 148s 1s/step - loss: 0.1528 - accuracy: 0.9210 - val_loss: 3.7220 - val_accuracy: 0.5016\n",
            "Epoch 47/100\n",
            "104/104 [==============================] - ETA: 0s - loss: 0.1494 - accuracy: 0.9236WARNING:tensorflow:Can save best model only with val_acc available, skipping.\n",
            "104/104 [==============================] - 147s 1s/step - loss: 0.1494 - accuracy: 0.9236 - val_loss: 3.5860 - val_accuracy: 0.5001\n",
            "Epoch 48/100\n",
            "104/104 [==============================] - ETA: 0s - loss: 0.1457 - accuracy: 0.9256WARNING:tensorflow:Can save best model only with val_acc available, skipping.\n",
            "104/104 [==============================] - 147s 1s/step - loss: 0.1457 - accuracy: 0.9256 - val_loss: 3.7567 - val_accuracy: 0.4996\n",
            "Epoch 49/100\n",
            "104/104 [==============================] - ETA: 0s - loss: 0.1419 - accuracy: 0.9282WARNING:tensorflow:Can save best model only with val_acc available, skipping.\n",
            "104/104 [==============================] - 147s 1s/step - loss: 0.1419 - accuracy: 0.9282 - val_loss: 3.8472 - val_accuracy: 0.5024\n",
            "Epoch 50/100\n",
            "104/104 [==============================] - ETA: 0s - loss: 0.1397 - accuracy: 0.9296WARNING:tensorflow:Can save best model only with val_acc available, skipping.\n",
            "104/104 [==============================] - 147s 1s/step - loss: 0.1397 - accuracy: 0.9296 - val_loss: 3.7388 - val_accuracy: 0.5013\n",
            "Epoch 51/100\n",
            "104/104 [==============================] - ETA: 0s - loss: 0.1380 - accuracy: 0.9308WARNING:tensorflow:Can save best model only with val_acc available, skipping.\n",
            "104/104 [==============================] - 147s 1s/step - loss: 0.1380 - accuracy: 0.9308 - val_loss: 3.8046 - val_accuracy: 0.5013\n",
            "Epoch 52/100\n",
            "104/104 [==============================] - ETA: 0s - loss: 0.1351 - accuracy: 0.9326WARNING:tensorflow:Can save best model only with val_acc available, skipping.\n",
            "104/104 [==============================] - 147s 1s/step - loss: 0.1351 - accuracy: 0.9326 - val_loss: 3.8798 - val_accuracy: 0.5016\n",
            "Epoch 53/100\n",
            "104/104 [==============================] - ETA: 0s - loss: 0.1320 - accuracy: 0.9344WARNING:tensorflow:Can save best model only with val_acc available, skipping.\n",
            "104/104 [==============================] - 147s 1s/step - loss: 0.1320 - accuracy: 0.9344 - val_loss: 3.9282 - val_accuracy: 0.5016\n",
            "Epoch 54/100\n",
            "104/104 [==============================] - ETA: 0s - loss: 0.1286 - accuracy: 0.9360WARNING:tensorflow:Can save best model only with val_acc available, skipping.\n",
            "104/104 [==============================] - 147s 1s/step - loss: 0.1286 - accuracy: 0.9360 - val_loss: 4.0177 - val_accuracy: 0.5016\n",
            "Epoch 55/100\n",
            "104/104 [==============================] - ETA: 0s - loss: 0.1263 - accuracy: 0.9375WARNING:tensorflow:Can save best model only with val_acc available, skipping.\n",
            "104/104 [==============================] - 147s 1s/step - loss: 0.1263 - accuracy: 0.9375 - val_loss: 3.9558 - val_accuracy: 0.5006\n",
            "Epoch 56/100\n",
            "104/104 [==============================] - ETA: 0s - loss: 0.1255 - accuracy: 0.9381WARNING:tensorflow:Can save best model only with val_acc available, skipping.\n",
            "104/104 [==============================] - 147s 1s/step - loss: 0.1255 - accuracy: 0.9381 - val_loss: 4.0524 - val_accuracy: 0.5010\n",
            "Epoch 57/100\n",
            "104/104 [==============================] - ETA: 0s - loss: 0.1234 - accuracy: 0.9393WARNING:tensorflow:Can save best model only with val_acc available, skipping.\n",
            "104/104 [==============================] - 146s 1s/step - loss: 0.1234 - accuracy: 0.9393 - val_loss: 3.8593 - val_accuracy: 0.4995\n",
            "Epoch 58/100\n",
            "104/104 [==============================] - ETA: 0s - loss: 0.1210 - accuracy: 0.9407WARNING:tensorflow:Can save best model only with val_acc available, skipping.\n",
            "104/104 [==============================] - 147s 1s/step - loss: 0.1210 - accuracy: 0.9407 - val_loss: 3.9747 - val_accuracy: 0.5024\n",
            "Epoch 59/100\n",
            "104/104 [==============================] - ETA: 0s - loss: 0.1180 - accuracy: 0.9429WARNING:tensorflow:Can save best model only with val_acc available, skipping.\n",
            "104/104 [==============================] - 146s 1s/step - loss: 0.1180 - accuracy: 0.9429 - val_loss: 4.1954 - val_accuracy: 0.4996\n",
            "Epoch 60/100\n",
            "104/104 [==============================] - ETA: 0s - loss: 0.1159 - accuracy: 0.9441WARNING:tensorflow:Can save best model only with val_acc available, skipping.\n",
            "104/104 [==============================] - 146s 1s/step - loss: 0.1159 - accuracy: 0.9441 - val_loss: 4.0429 - val_accuracy: 0.5004\n",
            "Epoch 61/100\n",
            "104/104 [==============================] - ETA: 0s - loss: 0.1133 - accuracy: 0.9450WARNING:tensorflow:Can save best model only with val_acc available, skipping.\n",
            "104/104 [==============================] - 147s 1s/step - loss: 0.1133 - accuracy: 0.9450 - val_loss: 4.1059 - val_accuracy: 0.5025\n",
            "Epoch 62/100\n",
            "104/104 [==============================] - ETA: 0s - loss: 0.1109 - accuracy: 0.9466WARNING:tensorflow:Can save best model only with val_acc available, skipping.\n",
            "104/104 [==============================] - 146s 1s/step - loss: 0.1109 - accuracy: 0.9466 - val_loss: 4.1665 - val_accuracy: 0.5015\n",
            "Epoch 63/100\n",
            "104/104 [==============================] - ETA: 0s - loss: 0.1085 - accuracy: 0.9481WARNING:tensorflow:Can save best model only with val_acc available, skipping.\n",
            "104/104 [==============================] - 147s 1s/step - loss: 0.1085 - accuracy: 0.9481 - val_loss: 4.3281 - val_accuracy: 0.5005\n",
            "Epoch 64/100\n",
            "104/104 [==============================] - ETA: 0s - loss: 0.1079 - accuracy: 0.9487WARNING:tensorflow:Can save best model only with val_acc available, skipping.\n",
            "104/104 [==============================] - 147s 1s/step - loss: 0.1079 - accuracy: 0.9487 - val_loss: 4.1337 - val_accuracy: 0.4999\n",
            "Epoch 65/100\n",
            "104/104 [==============================] - ETA: 0s - loss: 0.1056 - accuracy: 0.9498WARNING:tensorflow:Can save best model only with val_acc available, skipping.\n",
            "104/104 [==============================] - 147s 1s/step - loss: 0.1056 - accuracy: 0.9498 - val_loss: 4.3108 - val_accuracy: 0.5015\n",
            "Epoch 66/100\n",
            "104/104 [==============================] - ETA: 0s - loss: 0.1044 - accuracy: 0.9505WARNING:tensorflow:Can save best model only with val_acc available, skipping.\n",
            "104/104 [==============================] - 147s 1s/step - loss: 0.1044 - accuracy: 0.9505 - val_loss: 4.1945 - val_accuracy: 0.5002\n",
            "Epoch 67/100\n",
            "104/104 [==============================] - ETA: 0s - loss: 0.1031 - accuracy: 0.9511WARNING:tensorflow:Can save best model only with val_acc available, skipping.\n",
            "104/104 [==============================] - 146s 1s/step - loss: 0.1031 - accuracy: 0.9511 - val_loss: 4.2757 - val_accuracy: 0.5009\n",
            "Epoch 68/100\n",
            "104/104 [==============================] - ETA: 0s - loss: 0.1006 - accuracy: 0.9527WARNING:tensorflow:Can save best model only with val_acc available, skipping.\n",
            "104/104 [==============================] - 147s 1s/step - loss: 0.1006 - accuracy: 0.9527 - val_loss: 4.2002 - val_accuracy: 0.5023\n",
            "Epoch 69/100\n",
            "104/104 [==============================] - ETA: 0s - loss: 0.0988 - accuracy: 0.9536WARNING:tensorflow:Can save best model only with val_acc available, skipping.\n",
            "104/104 [==============================] - 148s 1s/step - loss: 0.0988 - accuracy: 0.9536 - val_loss: 4.1490 - val_accuracy: 0.5006\n",
            "Epoch 70/100\n",
            "104/104 [==============================] - ETA: 0s - loss: 0.0977 - accuracy: 0.9544WARNING:tensorflow:Can save best model only with val_acc available, skipping.\n",
            "104/104 [==============================] - 147s 1s/step - loss: 0.0977 - accuracy: 0.9544 - val_loss: 4.3262 - val_accuracy: 0.5015\n",
            "Epoch 71/100\n",
            "104/104 [==============================] - ETA: 0s - loss: 0.0948 - accuracy: 0.9559WARNING:tensorflow:Can save best model only with val_acc available, skipping.\n",
            "104/104 [==============================] - 147s 1s/step - loss: 0.0948 - accuracy: 0.9559 - val_loss: 4.3250 - val_accuracy: 0.5012\n",
            "Epoch 72/100\n",
            "104/104 [==============================] - ETA: 0s - loss: 0.0947 - accuracy: 0.9565WARNING:tensorflow:Can save best model only with val_acc available, skipping.\n",
            "104/104 [==============================] - 147s 1s/step - loss: 0.0947 - accuracy: 0.9565 - val_loss: 4.3429 - val_accuracy: 0.4999\n",
            "Epoch 73/100\n",
            "104/104 [==============================] - ETA: 0s - loss: 0.0922 - accuracy: 0.9573WARNING:tensorflow:Can save best model only with val_acc available, skipping.\n",
            "104/104 [==============================] - 147s 1s/step - loss: 0.0922 - accuracy: 0.9573 - val_loss: 4.4569 - val_accuracy: 0.5012\n",
            "Epoch 74/100\n",
            "104/104 [==============================] - ETA: 0s - loss: 0.0913 - accuracy: 0.9578WARNING:tensorflow:Can save best model only with val_acc available, skipping.\n",
            "104/104 [==============================] - 147s 1s/step - loss: 0.0913 - accuracy: 0.9578 - val_loss: 4.4273 - val_accuracy: 0.5029\n",
            "Epoch 75/100\n",
            "104/104 [==============================] - ETA: 0s - loss: 0.0900 - accuracy: 0.9585WARNING:tensorflow:Can save best model only with val_acc available, skipping.\n",
            "104/104 [==============================] - 146s 1s/step - loss: 0.0900 - accuracy: 0.9585 - val_loss: 4.3201 - val_accuracy: 0.5018\n",
            "Epoch 76/100\n",
            "104/104 [==============================] - ETA: 0s - loss: 0.0886 - accuracy: 0.9593WARNING:tensorflow:Can save best model only with val_acc available, skipping.\n",
            "104/104 [==============================] - 147s 1s/step - loss: 0.0886 - accuracy: 0.9593 - val_loss: 4.4566 - val_accuracy: 0.5024\n",
            "Epoch 77/100\n",
            "104/104 [==============================] - ETA: 0s - loss: 0.0864 - accuracy: 0.9603WARNING:tensorflow:Can save best model only with val_acc available, skipping.\n",
            "104/104 [==============================] - 147s 1s/step - loss: 0.0864 - accuracy: 0.9603 - val_loss: 4.4264 - val_accuracy: 0.5010\n",
            "Epoch 78/100\n",
            "104/104 [==============================] - ETA: 0s - loss: 0.0877 - accuracy: 0.9603WARNING:tensorflow:Can save best model only with val_acc available, skipping.\n",
            "104/104 [==============================] - 148s 1s/step - loss: 0.0877 - accuracy: 0.9603 - val_loss: 4.4278 - val_accuracy: 0.5028\n",
            "Epoch 79/100\n",
            "104/104 [==============================] - ETA: 0s - loss: 0.0839 - accuracy: 0.9618WARNING:tensorflow:Can save best model only with val_acc available, skipping.\n",
            "104/104 [==============================] - 146s 1s/step - loss: 0.0839 - accuracy: 0.9618 - val_loss: 4.4399 - val_accuracy: 0.5030\n",
            "Epoch 80/100\n",
            "104/104 [==============================] - ETA: 0s - loss: 0.0833 - accuracy: 0.9628WARNING:tensorflow:Can save best model only with val_acc available, skipping.\n",
            "104/104 [==============================] - 148s 1s/step - loss: 0.0833 - accuracy: 0.9628 - val_loss: 4.3735 - val_accuracy: 0.5018\n",
            "Epoch 81/100\n",
            "104/104 [==============================] - ETA: 0s - loss: 0.0813 - accuracy: 0.9635WARNING:tensorflow:Can save best model only with val_acc available, skipping.\n",
            "104/104 [==============================] - 147s 1s/step - loss: 0.0813 - accuracy: 0.9635 - val_loss: 4.5600 - val_accuracy: 0.5019\n",
            "Epoch 82/100\n",
            "104/104 [==============================] - ETA: 0s - loss: 0.0802 - accuracy: 0.9641WARNING:tensorflow:Can save best model only with val_acc available, skipping.\n",
            "104/104 [==============================] - 146s 1s/step - loss: 0.0802 - accuracy: 0.9641 - val_loss: 4.6129 - val_accuracy: 0.5019\n",
            "Epoch 83/100\n",
            "104/104 [==============================] - ETA: 0s - loss: 0.0784 - accuracy: 0.9645WARNING:tensorflow:Can save best model only with val_acc available, skipping.\n",
            "104/104 [==============================] - 148s 1s/step - loss: 0.0784 - accuracy: 0.9645 - val_loss: 4.5294 - val_accuracy: 0.5016\n",
            "Epoch 84/100\n",
            "104/104 [==============================] - ETA: 0s - loss: 0.0778 - accuracy: 0.9653WARNING:tensorflow:Can save best model only with val_acc available, skipping.\n",
            "104/104 [==============================] - 147s 1s/step - loss: 0.0778 - accuracy: 0.9653 - val_loss: 4.6325 - val_accuracy: 0.5020\n",
            "Epoch 85/100\n",
            "104/104 [==============================] - ETA: 0s - loss: 0.0757 - accuracy: 0.9656WARNING:tensorflow:Can save best model only with val_acc available, skipping.\n",
            "104/104 [==============================] - 146s 1s/step - loss: 0.0757 - accuracy: 0.9656 - val_loss: 4.6419 - val_accuracy: 0.5024\n",
            "Epoch 86/100\n",
            "104/104 [==============================] - ETA: 0s - loss: 0.0756 - accuracy: 0.9660WARNING:tensorflow:Can save best model only with val_acc available, skipping.\n",
            "104/104 [==============================] - 147s 1s/step - loss: 0.0756 - accuracy: 0.9660 - val_loss: 4.6119 - val_accuracy: 0.5013\n",
            "Epoch 87/100\n",
            "104/104 [==============================] - ETA: 0s - loss: 0.0754 - accuracy: 0.9667WARNING:tensorflow:Can save best model only with val_acc available, skipping.\n",
            "104/104 [==============================] - 146s 1s/step - loss: 0.0754 - accuracy: 0.9667 - val_loss: 4.6766 - val_accuracy: 0.5035\n",
            "Epoch 88/100\n",
            "104/104 [==============================] - ETA: 0s - loss: 0.0738 - accuracy: 0.9672WARNING:tensorflow:Can save best model only with val_acc available, skipping.\n",
            "104/104 [==============================] - 147s 1s/step - loss: 0.0738 - accuracy: 0.9672 - val_loss: 4.7468 - val_accuracy: 0.5015\n",
            "Epoch 89/100\n",
            "104/104 [==============================] - ETA: 0s - loss: 0.0716 - accuracy: 0.9685WARNING:tensorflow:Can save best model only with val_acc available, skipping.\n",
            "104/104 [==============================] - 147s 1s/step - loss: 0.0716 - accuracy: 0.9685 - val_loss: 4.6120 - val_accuracy: 0.5027\n",
            "Epoch 90/100\n",
            "104/104 [==============================] - ETA: 0s - loss: 0.0715 - accuracy: 0.9684WARNING:tensorflow:Can save best model only with val_acc available, skipping.\n",
            "104/104 [==============================] - 148s 1s/step - loss: 0.0715 - accuracy: 0.9684 - val_loss: 4.6077 - val_accuracy: 0.5006\n",
            "Epoch 91/100\n",
            "104/104 [==============================] - ETA: 0s - loss: 0.0697 - accuracy: 0.9695WARNING:tensorflow:Can save best model only with val_acc available, skipping.\n",
            "104/104 [==============================] - 146s 1s/step - loss: 0.0697 - accuracy: 0.9695 - val_loss: 4.7962 - val_accuracy: 0.5025\n",
            "Epoch 92/100\n",
            "104/104 [==============================] - ETA: 0s - loss: 0.0701 - accuracy: 0.9690WARNING:tensorflow:Can save best model only with val_acc available, skipping.\n",
            "104/104 [==============================] - 147s 1s/step - loss: 0.0701 - accuracy: 0.9690 - val_loss: 4.5879 - val_accuracy: 0.5034\n",
            "Epoch 93/100\n",
            "104/104 [==============================] - ETA: 0s - loss: 0.0689 - accuracy: 0.9698WARNING:tensorflow:Can save best model only with val_acc available, skipping.\n",
            "104/104 [==============================] - 146s 1s/step - loss: 0.0689 - accuracy: 0.9698 - val_loss: 4.6236 - val_accuracy: 0.4995\n",
            "Epoch 94/100\n",
            "104/104 [==============================] - ETA: 0s - loss: 0.0673 - accuracy: 0.9704WARNING:tensorflow:Can save best model only with val_acc available, skipping.\n",
            "104/104 [==============================] - 147s 1s/step - loss: 0.0673 - accuracy: 0.9704 - val_loss: 4.6628 - val_accuracy: 0.5016\n",
            "Epoch 95/100\n",
            "104/104 [==============================] - ETA: 0s - loss: 0.0673 - accuracy: 0.9706WARNING:tensorflow:Can save best model only with val_acc available, skipping.\n",
            "104/104 [==============================] - 148s 1s/step - loss: 0.0673 - accuracy: 0.9706 - val_loss: 4.8381 - val_accuracy: 0.5003\n",
            "Epoch 96/100\n",
            "104/104 [==============================] - ETA: 0s - loss: 0.0658 - accuracy: 0.9714WARNING:tensorflow:Can save best model only with val_acc available, skipping.\n",
            "104/104 [==============================] - 148s 1s/step - loss: 0.0658 - accuracy: 0.9714 - val_loss: 4.7155 - val_accuracy: 0.5027\n",
            "Epoch 97/100\n",
            "104/104 [==============================] - ETA: 0s - loss: 0.0655 - accuracy: 0.9716WARNING:tensorflow:Can save best model only with val_acc available, skipping.\n",
            "104/104 [==============================] - 147s 1s/step - loss: 0.0655 - accuracy: 0.9716 - val_loss: 4.6608 - val_accuracy: 0.5021\n",
            "Epoch 98/100\n",
            "104/104 [==============================] - ETA: 0s - loss: 0.0639 - accuracy: 0.9724WARNING:tensorflow:Can save best model only with val_acc available, skipping.\n",
            "104/104 [==============================] - 147s 1s/step - loss: 0.0639 - accuracy: 0.9724 - val_loss: 4.7306 - val_accuracy: 0.5028\n",
            "Epoch 99/100\n",
            "104/104 [==============================] - ETA: 0s - loss: 0.0636 - accuracy: 0.9724WARNING:tensorflow:Can save best model only with val_acc available, skipping.\n",
            "104/104 [==============================] - 148s 1s/step - loss: 0.0636 - accuracy: 0.9724 - val_loss: 4.8782 - val_accuracy: 0.5019\n",
            "Epoch 100/100\n",
            "104/104 [==============================] - ETA: 0s - loss: 0.0636 - accuracy: 0.9726WARNING:tensorflow:Can save best model only with val_acc available, skipping.\n",
            "104/104 [==============================] - 146s 1s/step - loss: 0.0636 - accuracy: 0.9726 - val_loss: 4.6723 - val_accuracy: 0.5036\n"
          ],
          "name": "stdout"
        }
      ]
    },
    {
      "cell_type": "code",
      "metadata": {
        "id": "Pc4_LdbAY0X-",
        "colab": {
          "base_uri": "https://localhost:8080/"
        },
        "outputId": "3be75815-f714-4ef4-ecde-a70878d8d90b"
      },
      "source": [
        "print(modelhistconvlstmdist.history)\n",
        "import _pickle as cPickle\n",
        "cPickle.dump(modelhistconvlstmdist.history,open('/content/drive/My Drive/MLPW/lstmconvdisthistnostopwords.pkl', 'wb'), -1)"
      ],
      "execution_count": null,
      "outputs": [
        {
          "output_type": "stream",
          "text": [
            "{'loss': [0.7509721517562866, 0.704836905002594, 0.6996448040008545, 0.6975376009941101, 0.6932157874107361, 0.6774183511734009, 0.6480334997177124, 0.6090382933616638, 0.568878173828125, 0.5338147282600403, 0.4999098777770996, 0.47025614976882935, 0.44304898381233215, 0.4201338589191437, 0.3986377716064453, 0.37909504771232605, 0.36290398240089417, 0.3499165177345276, 0.3315291106700897, 0.3168027997016907, 0.3041525185108185, 0.29296329617500305, 0.2825242280960083, 0.27232590317726135, 0.2633300721645355, 0.2541137933731079, 0.2456693798303604, 0.23801182210445404, 0.2316906452178955, 0.2242993414402008, 0.21936491131782532, 0.21291488409042358, 0.20628269016742706, 0.20133572816848755, 0.19584417343139648, 0.19173601269721985, 0.18596504628658295, 0.18276815116405487, 0.17837871611118317, 0.1745252162218094, 0.17074909806251526, 0.16701379418373108, 0.16255135834217072, 0.16033142805099487, 0.15684184432029724, 0.15284043550491333, 0.14941535890102386, 0.14571073651313782, 0.14191754162311554, 0.13965779542922974, 0.13799309730529785, 0.1350514143705368, 0.13195478916168213, 0.1286468803882599, 0.1262516975402832, 0.1255093216896057, 0.12343303859233856, 0.12096116691827774, 0.11804632097482681, 0.11587727814912796, 0.11331402510404587, 0.1108618974685669, 0.10852617025375366, 0.1078665480017662, 0.10555300116539001, 0.10436639934778214, 0.10308796167373657, 0.10064202547073364, 0.0987849310040474, 0.09769262373447418, 0.09476486593484879, 0.09470164030790329, 0.09223292768001556, 0.091251440346241, 0.09002809226512909, 0.08864060044288635, 0.08637645840644836, 0.08767275512218475, 0.08391696959733963, 0.0832998976111412, 0.0812537670135498, 0.08015657961368561, 0.0783899575471878, 0.07780973613262177, 0.07569871842861176, 0.07564917206764221, 0.07535825669765472, 0.07375137507915497, 0.07160912454128265, 0.07146359980106354, 0.06966162472963333, 0.07007542997598648, 0.068909652531147, 0.06731005758047104, 0.0673171803355217, 0.06584995239973068, 0.0655122697353363, 0.06393328309059143, 0.06363649666309357, 0.06362754106521606], 'accuracy': [0.4997897446155548, 0.5028073787689209, 0.5016118884086609, 0.5067539811134338, 0.5277125239372253, 0.5643473863601685, 0.5970604419708252, 0.6280750036239624, 0.6579820513725281, 0.6788471341133118, 0.6994621753692627, 0.7190163135528564, 0.7356270551681519, 0.7507729530334473, 0.7646353840827942, 0.7779591679573059, 0.7891694903373718, 0.7979640364646912, 0.8082894086837769, 0.8177106380462646, 0.8256669640541077, 0.8326778411865234, 0.8398234248161316, 0.8453530073165894, 0.8500306606292725, 0.8566733002662659, 0.8624969720840454, 0.8672130107879639, 0.8711156249046326, 0.8753424882888794, 0.8785524964332581, 0.8831889033317566, 0.8867369890213013, 0.890570878982544, 0.8936187028884888, 0.8966858386993408, 0.8997749090194702, 0.9021604657173157, 0.9052907824516296, 0.9077284932136536, 0.9100700616836548, 0.9122714400291443, 0.9151736497879028, 0.9161245822906494, 0.9189882874488831, 0.9210275411605835, 0.9236246943473816, 0.9255622625350952, 0.9281923770904541, 0.9296407103538513, 0.9308362007141113, 0.9326061606407166, 0.9344117641448975, 0.935981035232544, 0.9375118613243103, 0.938069760799408, 0.9393449425697327, 0.9407328367233276, 0.9428573250770569, 0.9440610408782959, 0.9450256824493408, 0.9465922713279724, 0.9480680823326111, 0.9486892223358154, 0.9497995376586914, 0.9504591226577759, 0.9511379599571228, 0.9526659846305847, 0.9536333680152893, 0.9543561935424805, 0.9559474587440491, 0.9564586281776428, 0.9573051333427429, 0.9578163027763367, 0.9584758877754211, 0.9592949151992798, 0.9602897763252258, 0.9603254795074463, 0.9618206024169922, 0.9627797603607178, 0.9635382890701294, 0.9641181826591492, 0.9644781947135925, 0.965275228023529, 0.9656462073326111, 0.9660199880599976, 0.9667345285415649, 0.9672210216522217, 0.968490719795227, 0.9683642983436584, 0.9695460796356201, 0.9690101146697998, 0.9697741866111755, 0.9703677892684937, 0.9706481099128723, 0.9713571667671204, 0.9715660810470581, 0.9723657965660095, 0.9724262952804565, 0.9726131558418274], 'val_loss': [0.6944074034690857, 0.6933449506759644, 0.6933662295341492, 0.6933276057243347, 0.6935885548591614, 0.6952045559883118, 0.7033808827400208, 0.7587679624557495, 0.7503520846366882, 0.8438295125961304, 1.1920239925384521, 1.2282307147979736, 1.373736023902893, 1.590403437614441, 1.7224204540252686, 1.8350708484649658, 1.8346383571624756, 1.891235589981079, 2.050049304962158, 1.8564667701721191, 2.3318750858306885, 2.7759342193603516, 2.308861017227173, 2.6238043308258057, 2.700911283493042, 2.86106276512146, 3.0012383460998535, 2.9388511180877686, 2.7573392391204834, 2.911590099334717, 3.112030267715454, 3.2024850845336914, 3.129873514175415, 3.2700188159942627, 3.4005544185638428, 3.4763965606689453, 3.254514455795288, 3.4358632564544678, 3.5694210529327393, 3.3843588829040527, 3.6130917072296143, 3.625114679336548, 3.570464849472046, 3.7004880905151367, 3.662484645843506, 3.7219817638397217, 3.5859930515289307, 3.756688356399536, 3.8472249507904053, 3.7387731075286865, 3.8046324253082275, 3.879788398742676, 3.928212881088257, 4.017683029174805, 3.9558322429656982, 4.052422046661377, 3.859342575073242, 3.974668264389038, 4.195428848266602, 4.042899131774902, 4.1059250831604, 4.166450500488281, 4.328139305114746, 4.1336989402771, 4.310798168182373, 4.194521903991699, 4.275660514831543, 4.200150012969971, 4.14901876449585, 4.326249599456787, 4.324985027313232, 4.342901706695557, 4.456923961639404, 4.427266597747803, 4.320094585418701, 4.456634044647217, 4.426400184631348, 4.4277777671813965, 4.439879417419434, 4.373457908630371, 4.55999231338501, 4.6129279136657715, 4.529413223266602, 4.632486820220947, 4.641933441162109, 4.611870288848877, 4.67656946182251, 4.746845722198486, 4.611984729766846, 4.607726097106934, 4.796154022216797, 4.587872505187988, 4.623575210571289, 4.6628193855285645, 4.83809757232666, 4.715482234954834, 4.6608052253723145, 4.730603218078613, 4.878177642822266, 4.672270774841309], 'val_accuracy': [0.500185489654541, 0.5003339052200317, 0.5028321146965027, 0.5000370740890503, 0.4942739009857178, 0.5019664168357849, 0.49951767921447754, 0.49934452772140503, 0.5011254549026489, 0.4974152147769928, 0.5034505128860474, 0.5003586411476135, 0.5002349615097046, 0.5035741925239563, 0.5041430592536926, 0.5008038878440857, 0.49731627106666565, 0.5021395683288574, 0.5032278895378113, 0.5038214921951294, 0.5004328489303589, 0.5023621916770935, 0.5051571726799011, 0.5036730766296387, 0.5018674731254578, 0.5056766271591187, 0.5039451718330383, 0.5046130418777466, 0.5020900964736938, 0.5020653605461121, 0.5036236643791199, 0.5041925311088562, 0.506121814250946, 0.5022632479667664, 0.5023374557495117, 0.5011501908302307, 0.5029557943344116, 0.50100177526474, 0.5022879838943481, 0.5021643042564392, 0.5029310584068298, 0.5007296800613403, 0.5017685294151306, 0.4984293580055237, 0.49929505586624146, 0.5015953779220581, 0.5001112818717957, 0.4995918869972229, 0.5024116635322571, 0.5012985467910767, 0.5012738108634949, 0.5015953779220581, 0.5015706419944763, 0.5015706419944763, 0.5005565285682678, 0.5009770393371582, 0.49946820735931396, 0.5024363994598389, 0.4995918869972229, 0.5003833770751953, 0.5025105476379395, 0.5014716982841492, 0.500531792640686, 0.49991342425346375, 0.5015211701393127, 0.5001607537269592, 0.500878095626831, 0.5022632479667664, 0.5005565285682678, 0.5014716982841492, 0.5011996626853943, 0.49993816018104553, 0.5012243390083313, 0.502906322479248, 0.5017685294151306, 0.5023869276046753, 0.5009770393371582, 0.5028073787689209, 0.503030002117157, 0.5017685294151306, 0.5018674731254578, 0.5018674731254578, 0.5016448497772217, 0.5020158886909485, 0.5024116635322571, 0.5012738108634949, 0.5034752488136292, 0.5015211701393127, 0.5027331709861755, 0.5006060004234314, 0.5024610757827759, 0.5034257769584656, 0.49949294328689575, 0.5016201138496399, 0.5002844333648682, 0.5026589632034302, 0.5021395683288574, 0.5028073787689209, 0.5019416809082031, 0.5036236643791199]}\n"
          ],
          "name": "stdout"
        }
      ]
    },
    {
      "cell_type": "code",
      "metadata": {
        "id": "6Xnmv1j6sd31"
      },
      "source": [
        "dist_lstm_conv_model.save(lstmconvdistWeights)"
      ],
      "execution_count": null,
      "outputs": []
    },
    {
      "cell_type": "code",
      "metadata": {
        "id": "1pJHjodjM6zA",
        "colab": {
          "base_uri": "https://localhost:8080/"
        },
        "outputId": "ac4b6e59-76c3-4da2-e5b4-1db3626e27e6"
      },
      "source": [
        "import time\n",
        "test_iterator = pd.read_csv(testProcessedPath, chunksize = 50000)\n",
        "i = 0\n",
        "global_start_time = time.time()\n",
        "time_per_chunk_lstm_conv_dist = []\n",
        "submission = pd.DataFrame(columns = ['test_id','is_duplicate'])\n",
        "\n",
        "for chunk in test_iterator:\n",
        "    i = i+1\n",
        "    loop_start_time = time.time()\n",
        "    dfapp = batch_pred_lstm_conv_dist(chunk)\n",
        "    loop_time = loop_start_time-time.time()\n",
        "    time_per_chunk_lstm_conv_dist.append(loop_time)\n",
        "    print(\"chunk \",i,\" execution_time \",loop_time, sep= '')\n",
        "    submission = submission.append(dfapp)\n",
        "global_train_time = global_start_time - time.time()\n",
        "print(\"total train time \", global_train_time, sep = '')\n",
        "submission.to_csv(lstmconvdistPreds)"
      ],
      "execution_count": null,
      "outputs": [
        {
          "output_type": "stream",
          "text": [
            "chunk 1 execution_time -66.00583839416504\n",
            "chunk 2 execution_time -58.12378931045532\n",
            "chunk 3 execution_time -58.19488835334778\n",
            "chunk 4 execution_time -58.40837073326111\n",
            "chunk 5 execution_time -58.54609298706055\n",
            "chunk 6 execution_time -58.94350624084473\n",
            "chunk 7 execution_time -58.41986155509949\n",
            "chunk 8 execution_time -58.84082555770874\n",
            "chunk 9 execution_time -58.38354015350342\n",
            "chunk 10 execution_time -58.58059787750244\n",
            "chunk 11 execution_time -58.55524206161499\n",
            "chunk 12 execution_time -58.849451780319214\n",
            "chunk 13 execution_time -58.28356313705444\n",
            "chunk 14 execution_time -58.495144844055176\n",
            "chunk 15 execution_time -57.829426288604736\n",
            "chunk 16 execution_time -58.490638256073\n",
            "chunk 17 execution_time -58.717578172683716\n",
            "chunk 18 execution_time -58.08637261390686\n",
            "chunk 19 execution_time -58.35219669342041\n",
            "chunk 20 execution_time -58.64433741569519\n",
            "chunk 21 execution_time -58.342267751693726\n",
            "chunk 22 execution_time -59.399564027786255\n",
            "chunk 23 execution_time -58.55656099319458\n",
            "chunk 24 execution_time -58.38318872451782\n",
            "chunk 25 execution_time -59.89451456069946\n",
            "chunk 26 execution_time -58.52088236808777\n",
            "chunk 27 execution_time -59.132694244384766\n",
            "chunk 28 execution_time -58.84100937843323\n",
            "chunk 29 execution_time -58.65711259841919\n",
            "chunk 30 execution_time -58.92267727851868\n",
            "chunk 31 execution_time -58.55269145965576\n",
            "chunk 32 execution_time -58.24107384681702\n",
            "chunk 33 execution_time -58.68397307395935\n",
            "chunk 34 execution_time -58.082093715667725\n",
            "chunk 35 execution_time -59.0174400806427\n",
            "chunk 36 execution_time -58.28077745437622\n",
            "chunk 37 execution_time -58.63568305969238\n",
            "chunk 38 execution_time -58.44021129608154\n",
            "chunk 39 execution_time -58.44436979293823\n",
            "chunk 40 execution_time -58.43819570541382\n",
            "chunk 41 execution_time -58.758121490478516\n",
            "chunk 42 execution_time -60.14852833747864\n",
            "chunk 43 execution_time -58.675349712371826\n",
            "chunk 44 execution_time -58.07734179496765\n",
            "chunk 45 execution_time -58.08382701873779\n",
            "chunk 46 execution_time -57.99212288856506\n",
            "chunk 47 execution_time -53.59471678733826\n",
            "total train time -2767.7431614398956\n"
          ],
          "name": "stdout"
        }
      ]
    },
    {
      "cell_type": "code",
      "metadata": {
        "id": "Ml-MF_W9WEXB"
      },
      "source": [
        "submission.to_csv(lstmconvdistPreds, index = False)"
      ],
      "execution_count": null,
      "outputs": []
    },
    {
      "cell_type": "code",
      "metadata": {
        "id": "CSwkEqpHWFYl"
      },
      "source": [
        "\n",
        "submission = pd.read_csv(lstmconvdistPreds)"
      ],
      "execution_count": null,
      "outputs": []
    },
    {
      "cell_type": "code",
      "metadata": {
        "id": "Z56NqwrOtl1j",
        "colab": {
          "base_uri": "https://localhost:8080/",
          "height": 204
        },
        "outputId": "59720aca-f01a-44d6-8476-f4396ed0e44e"
      },
      "source": [
        "submission.head()"
      ],
      "execution_count": null,
      "outputs": [
        {
          "output_type": "execute_result",
          "data": {
            "text/html": [
              "<div>\n",
              "<style scoped>\n",
              "    .dataframe tbody tr th:only-of-type {\n",
              "        vertical-align: middle;\n",
              "    }\n",
              "\n",
              "    .dataframe tbody tr th {\n",
              "        vertical-align: top;\n",
              "    }\n",
              "\n",
              "    .dataframe thead th {\n",
              "        text-align: right;\n",
              "    }\n",
              "</style>\n",
              "<table border=\"1\" class=\"dataframe\">\n",
              "  <thead>\n",
              "    <tr style=\"text-align: right;\">\n",
              "      <th></th>\n",
              "      <th>test_id</th>\n",
              "      <th>is_duplicate</th>\n",
              "    </tr>\n",
              "  </thead>\n",
              "  <tbody>\n",
              "    <tr>\n",
              "      <th>0</th>\n",
              "      <td>0</td>\n",
              "      <td>1</td>\n",
              "    </tr>\n",
              "    <tr>\n",
              "      <th>1</th>\n",
              "      <td>1</td>\n",
              "      <td>0</td>\n",
              "    </tr>\n",
              "    <tr>\n",
              "      <th>2</th>\n",
              "      <td>2</td>\n",
              "      <td>0</td>\n",
              "    </tr>\n",
              "    <tr>\n",
              "      <th>3</th>\n",
              "      <td>3</td>\n",
              "      <td>1</td>\n",
              "    </tr>\n",
              "    <tr>\n",
              "      <th>4</th>\n",
              "      <td>4</td>\n",
              "      <td>0</td>\n",
              "    </tr>\n",
              "  </tbody>\n",
              "</table>\n",
              "</div>"
            ],
            "text/plain": [
              "   test_id  is_duplicate\n",
              "0        0             1\n",
              "1        1             0\n",
              "2        2             0\n",
              "3        3             1\n",
              "4        4             0"
            ]
          },
          "metadata": {
            "tags": []
          },
          "execution_count": 11
        }
      ]
    },
    {
      "cell_type": "code",
      "metadata": {
        "id": "BWXVyzU2xrbc"
      },
      "source": [
        "submission.drop(['Unnamed: 0'], axis = 1, inplace = True)"
      ],
      "execution_count": null,
      "outputs": []
    },
    {
      "cell_type": "code",
      "metadata": {
        "id": "6D-UnQpMtotG"
      },
      "source": [
        "submission.to_csv(lstmconvdistPreds, index = False)"
      ],
      "execution_count": null,
      "outputs": []
    },
    {
      "cell_type": "code",
      "metadata": {
        "id": "-WSSFFLut5DV",
        "colab": {
          "base_uri": "https://localhost:8080/"
        },
        "outputId": "62d8a092-0cc8-4796-9344-8bbe306e697b"
      },
      "source": [
        "submission.shape"
      ],
      "execution_count": null,
      "outputs": [
        {
          "output_type": "execute_result",
          "data": {
            "text/plain": [
              "(2345796, 2)"
            ]
          },
          "metadata": {
            "tags": []
          },
          "execution_count": 70
        }
      ]
    },
    {
      "cell_type": "code",
      "metadata": {
        "id": "pp_djIX9vj1K"
      },
      "source": [
        "submission['test_id'] = submission.index"
      ],
      "execution_count": null,
      "outputs": []
    }
  ]
}